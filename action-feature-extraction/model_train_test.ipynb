{
 "cells": [
  {
   "cell_type": "markdown",
   "metadata": {},
   "source": [
    "## Action Recognition Model Training & Testing"
   ]
  },
  {
   "cell_type": "code",
   "execution_count": 1,
   "metadata": {},
   "outputs": [],
   "source": [
    "import os\n",
    "from constants import *\n",
    "import numpy as np"
   ]
  },
  {
   "cell_type": "code",
   "execution_count": 2,
   "metadata": {},
   "outputs": [
    {
     "data": {
      "text/plain": [
       "{'0': 'hello',\n",
       " '1': 'good/thank you',\n",
       " '2': 'help',\n",
       " '3': 'I/me',\n",
       " '4': 'please',\n",
       " '5': 'sorry',\n",
       " '6': 'welcome',\n",
       " '7': 'welcome',\n",
       " '8': 'ok',\n",
       " '9': 'what',\n",
       " '10': 'what',\n",
       " '11': 'can',\n",
       " '12': 'thank you very much',\n",
       " '13': 'deaf',\n",
       " '14': 'do not',\n",
       " '15': 'feel',\n",
       " '16': 'eat/food',\n",
       " '17': 'eat a lot',\n",
       " '18': 'tired',\n",
       " '19': 'because',\n",
       " '20': 'sick',\n",
       " '21': 'drink',\n",
       " '22': 'drink',\n",
       " '23': 'apple',\n",
       " '24': 'banana',\n",
       " '25': 'drive',\n",
       " '26': 'again',\n",
       " '27': 'also',\n",
       " '28': 'ask',\n",
       " '29': 'yes',\n",
       " '30': 'no',\n",
       " '31': 'man',\n",
       " '32': 'man',\n",
       " '33': 'woman',\n",
       " '34': 'woman',\n",
       " '35': 'he/she',\n",
       " '36': 'bad',\n",
       " '37': 'have/has/had',\n",
       " '38': 'have/has/had',\n",
       " '39': 'when',\n",
       " '40': 'where',\n",
       " '41': 'which',\n",
       " '42': 'who',\n",
       " '43': 'why',\n",
       " '44': 'how',\n",
       " '45': 'you',\n",
       " '46': 'boy',\n",
       " '47': 'girl',\n",
       " '48': 'friend',\n",
       " '49': 'finish/complete',\n",
       " '50': 'find',\n",
       " '51': 'other',\n",
       " '52': 'forget',\n",
       " '53': 'give',\n",
       " '54': 'give you',\n",
       " '55': 'give me',\n",
       " '56': 'go',\n",
       " '57': 'get',\n",
       " '58': 'understand/comprehend',\n",
       " '59': 'use',\n",
       " '60': 'will',\n",
       " '61': 'with',\n",
       " '62': 'wait',\n",
       " '63': 'work',\n",
       " '64': 'they',\n",
       " '65': 'their',\n",
       " '66': 'school',\n",
       " '67': 'write',\n",
       " '68': 'send text/message',\n",
       " '69': 'email',\n",
       " '70': 'email',\n",
       " '71': 'home',\n",
       " '72': 'but',\n",
       " '73': 'should',\n",
       " '74': 'not',\n",
       " '75': 'my',\n",
       " '76': 'name',\n",
       " '77': 'like',\n",
       " '78': 'say',\n",
       " '79': 'cold',\n",
       " '80': 'hot',\n",
       " '81': 'family',\n",
       " '82': 'mother',\n",
       " '83': 'father',\n",
       " '84': 'many',\n",
       " '85': 'few',\n",
       " '86': 'now',\n",
       " '87': 'later',\n",
       " '88': 'time',\n",
       " '89': 'tomorrow',\n",
       " '90': 'yesterday',\n",
       " '91': 'same/also',\n",
       " '92': 'remember',\n",
       " '93': 'your',\n",
       " '94': 'more',\n",
       " '95': 'meet',\n",
       " '96': 'see',\n",
       " '97': 'slow',\n",
       " '98': 'fast/quick',\n",
       " '99': 'some',\n",
       " '100': 'store/shop',\n",
       " '101': 'take',\n",
       " '102': 'take/bring me',\n",
       " '103': 'tell',\n",
       " '104': 'think',\n",
       " '105': 'want',\n",
       " '106': 'inexpensive',\n",
       " '107': 'expensive',\n",
       " '108': 'that',\n",
       " '109': 'this',\n",
       " '110': 'here',\n",
       " '111': 'near',\n",
       " '112': 'far',\n",
       " '113': 'cat',\n",
       " '114': 'dog',\n",
       " '115': 'morning',\n",
       " '116': 'night',\n",
       " '117': 'beautiful',\n",
       " '118': 'open',\n",
       " '119': 'close/shut',\n",
       " '120': 'close/shut'}"
      ]
     },
     "execution_count": 2,
     "metadata": {},
     "output_type": "execute_result"
    }
   ],
   "source": [
    "from files_io import readActionLabels, readActionMapping\n",
    "\n",
    "action_labels = readActionLabels()\n",
    "action_labels"
   ]
  },
  {
   "cell_type": "code",
   "execution_count": 3,
   "metadata": {},
   "outputs": [
    {
     "data": {
      "text/plain": [
       "{'hello': '0',\n",
       " 'good/thank you': '1',\n",
       " 'help': '2',\n",
       " 'I/me': '3',\n",
       " 'please': '4',\n",
       " 'sorry': '5',\n",
       " 'welcome': '7',\n",
       " 'ok': '8',\n",
       " 'what': '10',\n",
       " 'can': '11',\n",
       " 'thank you very much': '12',\n",
       " 'deaf': '13',\n",
       " 'do not': '14',\n",
       " 'feel': '15',\n",
       " 'eat/food': '16',\n",
       " 'eat a lot': '17',\n",
       " 'tired': '18',\n",
       " 'because': '19',\n",
       " 'sick': '20',\n",
       " 'drink': '22',\n",
       " 'apple': '23',\n",
       " 'banana': '24',\n",
       " 'drive': '25',\n",
       " 'again': '26',\n",
       " 'also': '27',\n",
       " 'ask': '28',\n",
       " 'yes': '29',\n",
       " 'no': '30',\n",
       " 'man': '32',\n",
       " 'woman': '34',\n",
       " 'he/she': '35',\n",
       " 'bad': '36',\n",
       " 'have/has/had': '38',\n",
       " 'when': '39',\n",
       " 'where': '40',\n",
       " 'which': '41',\n",
       " 'who': '42',\n",
       " 'why': '43',\n",
       " 'how': '44',\n",
       " 'you': '45',\n",
       " 'boy': '46',\n",
       " 'girl': '47',\n",
       " 'friend': '48',\n",
       " 'finish/complete': '49',\n",
       " 'find': '50',\n",
       " 'other': '51',\n",
       " 'forget': '52',\n",
       " 'give': '53',\n",
       " 'give you': '54',\n",
       " 'give me': '55',\n",
       " 'go': '56',\n",
       " 'get': '57',\n",
       " 'understand/comprehend': '58',\n",
       " 'use': '59',\n",
       " 'will': '60',\n",
       " 'with': '61',\n",
       " 'wait': '62',\n",
       " 'work': '63',\n",
       " 'they': '64',\n",
       " 'their': '65',\n",
       " 'school': '66',\n",
       " 'write': '67',\n",
       " 'send text/message': '68',\n",
       " 'email': '70',\n",
       " 'home': '71',\n",
       " 'but': '72',\n",
       " 'should': '73',\n",
       " 'not': '74',\n",
       " 'my': '75',\n",
       " 'name': '76',\n",
       " 'like': '77',\n",
       " 'say': '78',\n",
       " 'cold': '79',\n",
       " 'hot': '80',\n",
       " 'family': '81',\n",
       " 'mother': '82',\n",
       " 'father': '83',\n",
       " 'many': '84',\n",
       " 'few': '85',\n",
       " 'now': '86',\n",
       " 'later': '87',\n",
       " 'time': '88',\n",
       " 'tomorrow': '89',\n",
       " 'yesterday': '90',\n",
       " 'same/also': '91',\n",
       " 'remember': '92',\n",
       " 'your': '93',\n",
       " 'more': '94',\n",
       " 'meet': '95',\n",
       " 'see': '96',\n",
       " 'slow': '97',\n",
       " 'fast/quick': '98',\n",
       " 'some': '99',\n",
       " 'store/shop': '100',\n",
       " 'take': '101',\n",
       " 'take/bring me': '102',\n",
       " 'tell': '103',\n",
       " 'think': '104',\n",
       " 'want': '105',\n",
       " 'inexpensive': '106',\n",
       " 'expensive': '107',\n",
       " 'that': '108',\n",
       " 'this': '109',\n",
       " 'here': '110',\n",
       " 'near': '111',\n",
       " 'far': '112',\n",
       " 'cat': '113',\n",
       " 'dog': '114',\n",
       " 'morning': '115',\n",
       " 'night': '116',\n",
       " 'beautiful': '117',\n",
       " 'open': '118',\n",
       " 'close/shut': '120'}"
      ]
     },
     "execution_count": 3,
     "metadata": {},
     "output_type": "execute_result"
    }
   ],
   "source": [
    "action_mapping = readActionMapping()\n",
    "action_mapping"
   ]
  },
  {
   "cell_type": "markdown",
   "metadata": {},
   "source": [
    "### 1. Preprocess Data"
   ]
  },
  {
   "cell_type": "code",
   "execution_count": 4,
   "metadata": {},
   "outputs": [],
   "source": [
    "from sklearn.model_selection import train_test_split\n",
    "from keras.utils import to_categorical"
   ]
  },
  {
   "cell_type": "code",
   "execution_count": 5,
   "metadata": {},
   "outputs": [],
   "source": [
    "features, labels = [], []\n",
    "\n",
    "for action in action_labels:\n",
    "    folderName = (action + \",\" + action_labels[action]).replace(\"/\", \"_\")\n",
    "    for npyFile in os.listdir(os.path.join(KEYPOINTS_PATH, folderName)):\n",
    "        load_data = np.load(os.path.join(KEYPOINTS_PATH, folderName, npyFile))\n",
    "        features.extend(load_data)\n",
    "        labels.extend(np.full((load_data.shape[0], 1), int(action), dtype=int))\n"
   ]
  },
  {
   "cell_type": "code",
   "execution_count": 6,
   "metadata": {},
   "outputs": [
    {
     "data": {
      "text/plain": [
       "12100"
      ]
     },
     "execution_count": 6,
     "metadata": {},
     "output_type": "execute_result"
    }
   ],
   "source": [
    "len(features)"
   ]
  },
  {
   "cell_type": "code",
   "execution_count": 7,
   "metadata": {},
   "outputs": [
    {
     "data": {
      "text/plain": [
       "12100"
      ]
     },
     "execution_count": 7,
     "metadata": {},
     "output_type": "execute_result"
    }
   ],
   "source": [
    "len(labels)"
   ]
  },
  {
   "cell_type": "code",
   "execution_count": 8,
   "metadata": {},
   "outputs": [
    {
     "data": {
      "text/plain": [
       "(12100, 20, 240)"
      ]
     },
     "execution_count": 8,
     "metadata": {},
     "output_type": "execute_result"
    }
   ],
   "source": [
    "X = np.array(features)\n",
    "X.shape"
   ]
  },
  {
   "cell_type": "code",
   "execution_count": 9,
   "metadata": {},
   "outputs": [
    {
     "data": {
      "text/plain": [
       "(12100, 121)"
      ]
     },
     "execution_count": 9,
     "metadata": {},
     "output_type": "execute_result"
    }
   ],
   "source": [
    "y = to_categorical(labels).astype(int)\n",
    "y.shape"
   ]
  },
  {
   "cell_type": "code",
   "execution_count": 10,
   "metadata": {},
   "outputs": [
    {
     "data": {
      "text/plain": [
       "464640000"
      ]
     },
     "execution_count": 10,
     "metadata": {},
     "output_type": "execute_result"
    }
   ],
   "source": [
    "X.nbytes"
   ]
  },
  {
   "cell_type": "code",
   "execution_count": 11,
   "metadata": {},
   "outputs": [
    {
     "data": {
      "text/plain": [
       "5856400"
      ]
     },
     "execution_count": 11,
     "metadata": {},
     "output_type": "execute_result"
    }
   ],
   "source": [
    "y.nbytes"
   ]
  },
  {
   "cell_type": "code",
   "execution_count": 12,
   "metadata": {},
   "outputs": [],
   "source": [
    "X_train, X_test, y_train, y_test = train_test_split(X, y, train_size=0.75)"
   ]
  },
  {
   "cell_type": "code",
   "execution_count": 13,
   "metadata": {},
   "outputs": [
    {
     "name": "stdout",
     "output_type": "stream",
     "text": [
      "(9075, 20, 240)\n",
      "(3025, 20, 240)\n",
      "(9075, 121)\n",
      "(3025, 121)\n"
     ]
    }
   ],
   "source": [
    "print(X_train.shape)\n",
    "print(X_test.shape)\n",
    "print(y_train.shape)\n",
    "print(y_test.shape)"
   ]
  },
  {
   "cell_type": "markdown",
   "metadata": {},
   "source": [
    "2. Model Compiling"
   ]
  },
  {
   "cell_type": "code",
   "execution_count": 14,
   "metadata": {},
   "outputs": [],
   "source": [
    "from keras.models import Sequential\n",
    "from keras.layers import LSTM, Dense\n",
    "from keras.callbacks import TensorBoard"
   ]
  },
  {
   "cell_type": "code",
   "execution_count": 15,
   "metadata": {},
   "outputs": [],
   "source": [
    "LOG_PATH = os.path.join(\"log\")\n",
    "tb_callback = TensorBoard(log_dir=LOG_PATH)"
   ]
  },
  {
   "cell_type": "code",
   "execution_count": 31,
   "metadata": {},
   "outputs": [
    {
     "data": {
      "text/plain": [
       "(20, 240)"
      ]
     },
     "execution_count": 31,
     "metadata": {},
     "output_type": "execute_result"
    }
   ],
   "source": [
    "modelInputSize = (X.shape[1], X.shape[2])\n",
    "modelInputSize"
   ]
  },
  {
   "cell_type": "code",
   "execution_count": 32,
   "metadata": {},
   "outputs": [],
   "source": [
    "model = Sequential()\n",
    "model.add(LSTM(units=128, activation='relu', return_sequences=True, input_shape=modelInputSize))\n",
    "model.add(LSTM(units=256, activation='relu', return_sequences=True))\n",
    "model.add(LSTM(units=256, activation='relu', return_sequences=False))\n",
    "model.add(Dense(units=128, activation='relu'))\n",
    "# model.add(Dropout)\n",
    "model.add(Dense(units=128, activation='relu'))\n",
    "model.add(Dense(units=y.shape[1], activation='softmax'))\n"
   ]
  },
  {
   "cell_type": "code",
   "execution_count": 20,
   "metadata": {},
   "outputs": [],
   "source": [
    "# model = Sequential()\n",
    "# model.add(LSTM(units=64, activation='relu', return_sequences=True, input_shape=modelInputSize))\n",
    "# model.add(LSTM(units=128, activation='relu', return_sequences=True))\n",
    "# model.add(LSTM(units=64, activation='relu', return_sequences=False))\n",
    "# model.add(Dense(units=64, activation='relu'))\n",
    "# # model.add(Dropout)\n",
    "# model.add(Dense(units=32, activation='relu'))\n",
    "# model.add(Dense(units=y.shape[1], activation='softmax'))\n"
   ]
  },
  {
   "cell_type": "code",
   "execution_count": 33,
   "metadata": {},
   "outputs": [],
   "source": [
    "model.compile(optimizer='Adam', loss='categorical_crossentropy', metrics=['categorical_accuracy'])"
   ]
  },
  {
   "cell_type": "markdown",
   "metadata": {},
   "source": [
    "3. Model Training"
   ]
  },
  {
   "cell_type": "code",
   "execution_count": 34,
   "metadata": {},
   "outputs": [
    {
     "name": "stdout",
     "output_type": "stream",
     "text": [
      "Epoch 1/30\n",
      "284/284 [==============================] - 37s 115ms/step - loss: 4.0670 - categorical_accuracy: 0.0542\n",
      "Epoch 2/30\n",
      "284/284 [==============================] - 33s 118ms/step - loss: 2.5688 - categorical_accuracy: 0.2513\n",
      "Epoch 3/30\n",
      "284/284 [==============================] - 32s 114ms/step - loss: 1.7438 - categorical_accuracy: 0.4551\n",
      "Epoch 4/30\n",
      "284/284 [==============================] - 32s 112ms/step - loss: 1.2831 - categorical_accuracy: 0.5878\n",
      "Epoch 5/30\n",
      "284/284 [==============================] - 35s 122ms/step - loss: 0.9282 - categorical_accuracy: 0.6980\n",
      "Epoch 6/30\n",
      "284/284 [==============================] - 32s 112ms/step - loss: 0.7365 - categorical_accuracy: 0.7563\n",
      "Epoch 7/30\n",
      "284/284 [==============================] - 30s 106ms/step - loss: 0.5663 - categorical_accuracy: 0.8104\n",
      "Epoch 8/30\n",
      "284/284 [==============================] - 31s 108ms/step - loss: 0.4604 - categorical_accuracy: 0.8488\n",
      "Epoch 9/30\n",
      "284/284 [==============================] - 30s 106ms/step - loss: 0.3756 - categorical_accuracy: 0.8752\n",
      "Epoch 10/30\n",
      "284/284 [==============================] - 30s 105ms/step - loss: 0.3111 - categorical_accuracy: 0.8972\n",
      "Epoch 11/30\n",
      "284/284 [==============================] - 30s 106ms/step - loss: 0.2548 - categorical_accuracy: 0.9134\n",
      "Epoch 12/30\n",
      "284/284 [==============================] - 30s 105ms/step - loss: 0.2507 - categorical_accuracy: 0.9167\n",
      "Epoch 13/30\n",
      "284/284 [==============================] - 30s 105ms/step - loss: 0.2153 - categorical_accuracy: 0.9276\n",
      "Epoch 14/30\n",
      "284/284 [==============================] - 30s 106ms/step - loss: 0.1845 - categorical_accuracy: 0.9413\n",
      "Epoch 15/30\n",
      "284/284 [==============================] - 30s 106ms/step - loss: 0.1903 - categorical_accuracy: 0.9403\n",
      "Epoch 16/30\n",
      "112/284 [==========>...................] - ETA: 18s - loss: 0.1431 - categorical_accuracy: 0.9562"
     ]
    },
    {
     "ename": "KeyboardInterrupt",
     "evalue": "",
     "output_type": "error",
     "traceback": [
      "\u001b[1;31m---------------------------------------------------------------------------\u001b[0m",
      "\u001b[1;31mKeyboardInterrupt\u001b[0m                         Traceback (most recent call last)",
      "\u001b[1;32md:\\Documents\\TARC\\FINAL YEAR PROJECT\\Code\\sign-language-recognition\\action-feature-extraction\\model_train_test.ipynb Cell 24\u001b[0m line \u001b[0;36m1\n\u001b[1;32m----> <a href='vscode-notebook-cell:/d%3A/Documents/TARC/FINAL%20YEAR%20PROJECT/Code/sign-language-recognition/action-feature-extraction/model_train_test.ipynb#X31sZmlsZQ%3D%3D?line=0'>1</a>\u001b[0m model\u001b[39m.\u001b[39;49mfit(X_train, y_train, epochs\u001b[39m=\u001b[39;49m\u001b[39m30\u001b[39;49m, callbacks\u001b[39m=\u001b[39;49m[tb_callback])\n",
      "File \u001b[1;32mc:\\Users\\USER\\AppData\\Local\\Programs\\Python\\Python39\\lib\\site-packages\\keras\\utils\\traceback_utils.py:65\u001b[0m, in \u001b[0;36mfilter_traceback.<locals>.error_handler\u001b[1;34m(*args, **kwargs)\u001b[0m\n\u001b[0;32m     63\u001b[0m filtered_tb \u001b[39m=\u001b[39m \u001b[39mNone\u001b[39;00m\n\u001b[0;32m     64\u001b[0m \u001b[39mtry\u001b[39;00m:\n\u001b[1;32m---> 65\u001b[0m     \u001b[39mreturn\u001b[39;00m fn(\u001b[39m*\u001b[39margs, \u001b[39m*\u001b[39m\u001b[39m*\u001b[39mkwargs)\n\u001b[0;32m     66\u001b[0m \u001b[39mexcept\u001b[39;00m \u001b[39mException\u001b[39;00m \u001b[39mas\u001b[39;00m e:\n\u001b[0;32m     67\u001b[0m     filtered_tb \u001b[39m=\u001b[39m _process_traceback_frames(e\u001b[39m.\u001b[39m__traceback__)\n",
      "File \u001b[1;32mc:\\Users\\USER\\AppData\\Local\\Programs\\Python\\Python39\\lib\\site-packages\\keras\\engine\\training.py:1650\u001b[0m, in \u001b[0;36mModel.fit\u001b[1;34m(self, x, y, batch_size, epochs, verbose, callbacks, validation_split, validation_data, shuffle, class_weight, sample_weight, initial_epoch, steps_per_epoch, validation_steps, validation_batch_size, validation_freq, max_queue_size, workers, use_multiprocessing)\u001b[0m\n\u001b[0;32m   1642\u001b[0m \u001b[39mwith\u001b[39;00m tf\u001b[39m.\u001b[39mprofiler\u001b[39m.\u001b[39mexperimental\u001b[39m.\u001b[39mTrace(\n\u001b[0;32m   1643\u001b[0m     \u001b[39m\"\u001b[39m\u001b[39mtrain\u001b[39m\u001b[39m\"\u001b[39m,\n\u001b[0;32m   1644\u001b[0m     epoch_num\u001b[39m=\u001b[39mepoch,\n\u001b[1;32m   (...)\u001b[0m\n\u001b[0;32m   1647\u001b[0m     _r\u001b[39m=\u001b[39m\u001b[39m1\u001b[39m,\n\u001b[0;32m   1648\u001b[0m ):\n\u001b[0;32m   1649\u001b[0m     callbacks\u001b[39m.\u001b[39mon_train_batch_begin(step)\n\u001b[1;32m-> 1650\u001b[0m     tmp_logs \u001b[39m=\u001b[39m \u001b[39mself\u001b[39;49m\u001b[39m.\u001b[39;49mtrain_function(iterator)\n\u001b[0;32m   1651\u001b[0m     \u001b[39mif\u001b[39;00m data_handler\u001b[39m.\u001b[39mshould_sync:\n\u001b[0;32m   1652\u001b[0m         context\u001b[39m.\u001b[39masync_wait()\n",
      "File \u001b[1;32mc:\\Users\\USER\\AppData\\Local\\Programs\\Python\\Python39\\lib\\site-packages\\tensorflow\\python\\util\\traceback_utils.py:150\u001b[0m, in \u001b[0;36mfilter_traceback.<locals>.error_handler\u001b[1;34m(*args, **kwargs)\u001b[0m\n\u001b[0;32m    148\u001b[0m filtered_tb \u001b[39m=\u001b[39m \u001b[39mNone\u001b[39;00m\n\u001b[0;32m    149\u001b[0m \u001b[39mtry\u001b[39;00m:\n\u001b[1;32m--> 150\u001b[0m   \u001b[39mreturn\u001b[39;00m fn(\u001b[39m*\u001b[39margs, \u001b[39m*\u001b[39m\u001b[39m*\u001b[39mkwargs)\n\u001b[0;32m    151\u001b[0m \u001b[39mexcept\u001b[39;00m \u001b[39mException\u001b[39;00m \u001b[39mas\u001b[39;00m e:\n\u001b[0;32m    152\u001b[0m   filtered_tb \u001b[39m=\u001b[39m _process_traceback_frames(e\u001b[39m.\u001b[39m__traceback__)\n",
      "File \u001b[1;32mc:\\Users\\USER\\AppData\\Local\\Programs\\Python\\Python39\\lib\\site-packages\\tensorflow\\python\\eager\\polymorphic_function\\polymorphic_function.py:880\u001b[0m, in \u001b[0;36mFunction.__call__\u001b[1;34m(self, *args, **kwds)\u001b[0m\n\u001b[0;32m    877\u001b[0m compiler \u001b[39m=\u001b[39m \u001b[39m\"\u001b[39m\u001b[39mxla\u001b[39m\u001b[39m\"\u001b[39m \u001b[39mif\u001b[39;00m \u001b[39mself\u001b[39m\u001b[39m.\u001b[39m_jit_compile \u001b[39melse\u001b[39;00m \u001b[39m\"\u001b[39m\u001b[39mnonXla\u001b[39m\u001b[39m\"\u001b[39m\n\u001b[0;32m    879\u001b[0m \u001b[39mwith\u001b[39;00m OptionalXlaContext(\u001b[39mself\u001b[39m\u001b[39m.\u001b[39m_jit_compile):\n\u001b[1;32m--> 880\u001b[0m   result \u001b[39m=\u001b[39m \u001b[39mself\u001b[39m\u001b[39m.\u001b[39m_call(\u001b[39m*\u001b[39margs, \u001b[39m*\u001b[39m\u001b[39m*\u001b[39mkwds)\n\u001b[0;32m    882\u001b[0m new_tracing_count \u001b[39m=\u001b[39m \u001b[39mself\u001b[39m\u001b[39m.\u001b[39mexperimental_get_tracing_count()\n\u001b[0;32m    883\u001b[0m without_tracing \u001b[39m=\u001b[39m (tracing_count \u001b[39m==\u001b[39m new_tracing_count)\n",
      "File \u001b[1;32mc:\\Users\\USER\\AppData\\Local\\Programs\\Python\\Python39\\lib\\site-packages\\tensorflow\\python\\eager\\polymorphic_function\\polymorphic_function.py:912\u001b[0m, in \u001b[0;36mFunction._call\u001b[1;34m(self, *args, **kwds)\u001b[0m\n\u001b[0;32m    909\u001b[0m   \u001b[39mself\u001b[39m\u001b[39m.\u001b[39m_lock\u001b[39m.\u001b[39mrelease()\n\u001b[0;32m    910\u001b[0m   \u001b[39m# In this case we have created variables on the first call, so we run the\u001b[39;00m\n\u001b[0;32m    911\u001b[0m   \u001b[39m# defunned version which is guaranteed to never create variables.\u001b[39;00m\n\u001b[1;32m--> 912\u001b[0m   \u001b[39mreturn\u001b[39;00m \u001b[39mself\u001b[39m\u001b[39m.\u001b[39m_no_variable_creation_fn(\u001b[39m*\u001b[39margs, \u001b[39m*\u001b[39m\u001b[39m*\u001b[39mkwds)  \u001b[39m# pylint: disable=not-callable\u001b[39;00m\n\u001b[0;32m    913\u001b[0m \u001b[39melif\u001b[39;00m \u001b[39mself\u001b[39m\u001b[39m.\u001b[39m_variable_creation_fn \u001b[39mis\u001b[39;00m \u001b[39mnot\u001b[39;00m \u001b[39mNone\u001b[39;00m:\n\u001b[0;32m    914\u001b[0m   \u001b[39m# Release the lock early so that multiple threads can perform the call\u001b[39;00m\n\u001b[0;32m    915\u001b[0m   \u001b[39m# in parallel.\u001b[39;00m\n\u001b[0;32m    916\u001b[0m   \u001b[39mself\u001b[39m\u001b[39m.\u001b[39m_lock\u001b[39m.\u001b[39mrelease()\n",
      "File \u001b[1;32mc:\\Users\\USER\\AppData\\Local\\Programs\\Python\\Python39\\lib\\site-packages\\tensorflow\\python\\eager\\polymorphic_function\\tracing_compiler.py:134\u001b[0m, in \u001b[0;36mTracingCompiler.__call__\u001b[1;34m(self, *args, **kwargs)\u001b[0m\n\u001b[0;32m    131\u001b[0m \u001b[39mwith\u001b[39;00m \u001b[39mself\u001b[39m\u001b[39m.\u001b[39m_lock:\n\u001b[0;32m    132\u001b[0m   (concrete_function,\n\u001b[0;32m    133\u001b[0m    filtered_flat_args) \u001b[39m=\u001b[39m \u001b[39mself\u001b[39m\u001b[39m.\u001b[39m_maybe_define_function(args, kwargs)\n\u001b[1;32m--> 134\u001b[0m \u001b[39mreturn\u001b[39;00m concrete_function\u001b[39m.\u001b[39;49m_call_flat(\n\u001b[0;32m    135\u001b[0m     filtered_flat_args, captured_inputs\u001b[39m=\u001b[39;49mconcrete_function\u001b[39m.\u001b[39;49mcaptured_inputs)\n",
      "File \u001b[1;32mc:\\Users\\USER\\AppData\\Local\\Programs\\Python\\Python39\\lib\\site-packages\\tensorflow\\python\\eager\\polymorphic_function\\monomorphic_function.py:1745\u001b[0m, in \u001b[0;36mConcreteFunction._call_flat\u001b[1;34m(self, args, captured_inputs, cancellation_manager)\u001b[0m\n\u001b[0;32m   1741\u001b[0m possible_gradient_type \u001b[39m=\u001b[39m gradients_util\u001b[39m.\u001b[39mPossibleTapeGradientTypes(args)\n\u001b[0;32m   1742\u001b[0m \u001b[39mif\u001b[39;00m (possible_gradient_type \u001b[39m==\u001b[39m gradients_util\u001b[39m.\u001b[39mPOSSIBLE_GRADIENT_TYPES_NONE\n\u001b[0;32m   1743\u001b[0m     \u001b[39mand\u001b[39;00m executing_eagerly):\n\u001b[0;32m   1744\u001b[0m   \u001b[39m# No tape is watching; skip to running the function.\u001b[39;00m\n\u001b[1;32m-> 1745\u001b[0m   \u001b[39mreturn\u001b[39;00m \u001b[39mself\u001b[39m\u001b[39m.\u001b[39m_build_call_outputs(\u001b[39mself\u001b[39;49m\u001b[39m.\u001b[39;49m_inference_function\u001b[39m.\u001b[39;49mcall(\n\u001b[0;32m   1746\u001b[0m       ctx, args, cancellation_manager\u001b[39m=\u001b[39;49mcancellation_manager))\n\u001b[0;32m   1747\u001b[0m forward_backward \u001b[39m=\u001b[39m \u001b[39mself\u001b[39m\u001b[39m.\u001b[39m_select_forward_and_backward_functions(\n\u001b[0;32m   1748\u001b[0m     args,\n\u001b[0;32m   1749\u001b[0m     possible_gradient_type,\n\u001b[0;32m   1750\u001b[0m     executing_eagerly)\n\u001b[0;32m   1751\u001b[0m forward_function, args_with_tangents \u001b[39m=\u001b[39m forward_backward\u001b[39m.\u001b[39mforward()\n",
      "File \u001b[1;32mc:\\Users\\USER\\AppData\\Local\\Programs\\Python\\Python39\\lib\\site-packages\\tensorflow\\python\\eager\\polymorphic_function\\monomorphic_function.py:378\u001b[0m, in \u001b[0;36m_EagerDefinedFunction.call\u001b[1;34m(self, ctx, args, cancellation_manager)\u001b[0m\n\u001b[0;32m    376\u001b[0m \u001b[39mwith\u001b[39;00m _InterpolateFunctionError(\u001b[39mself\u001b[39m):\n\u001b[0;32m    377\u001b[0m   \u001b[39mif\u001b[39;00m cancellation_manager \u001b[39mis\u001b[39;00m \u001b[39mNone\u001b[39;00m:\n\u001b[1;32m--> 378\u001b[0m     outputs \u001b[39m=\u001b[39m execute\u001b[39m.\u001b[39;49mexecute(\n\u001b[0;32m    379\u001b[0m         \u001b[39mstr\u001b[39;49m(\u001b[39mself\u001b[39;49m\u001b[39m.\u001b[39;49msignature\u001b[39m.\u001b[39;49mname),\n\u001b[0;32m    380\u001b[0m         num_outputs\u001b[39m=\u001b[39;49m\u001b[39mself\u001b[39;49m\u001b[39m.\u001b[39;49m_num_outputs,\n\u001b[0;32m    381\u001b[0m         inputs\u001b[39m=\u001b[39;49margs,\n\u001b[0;32m    382\u001b[0m         attrs\u001b[39m=\u001b[39;49mattrs,\n\u001b[0;32m    383\u001b[0m         ctx\u001b[39m=\u001b[39;49mctx)\n\u001b[0;32m    384\u001b[0m   \u001b[39melse\u001b[39;00m:\n\u001b[0;32m    385\u001b[0m     outputs \u001b[39m=\u001b[39m execute\u001b[39m.\u001b[39mexecute_with_cancellation(\n\u001b[0;32m    386\u001b[0m         \u001b[39mstr\u001b[39m(\u001b[39mself\u001b[39m\u001b[39m.\u001b[39msignature\u001b[39m.\u001b[39mname),\n\u001b[0;32m    387\u001b[0m         num_outputs\u001b[39m=\u001b[39m\u001b[39mself\u001b[39m\u001b[39m.\u001b[39m_num_outputs,\n\u001b[1;32m   (...)\u001b[0m\n\u001b[0;32m    390\u001b[0m         ctx\u001b[39m=\u001b[39mctx,\n\u001b[0;32m    391\u001b[0m         cancellation_manager\u001b[39m=\u001b[39mcancellation_manager)\n",
      "File \u001b[1;32mc:\\Users\\USER\\AppData\\Local\\Programs\\Python\\Python39\\lib\\site-packages\\tensorflow\\python\\eager\\execute.py:52\u001b[0m, in \u001b[0;36mquick_execute\u001b[1;34m(op_name, num_outputs, inputs, attrs, ctx, name)\u001b[0m\n\u001b[0;32m     50\u001b[0m \u001b[39mtry\u001b[39;00m:\n\u001b[0;32m     51\u001b[0m   ctx\u001b[39m.\u001b[39mensure_initialized()\n\u001b[1;32m---> 52\u001b[0m   tensors \u001b[39m=\u001b[39m pywrap_tfe\u001b[39m.\u001b[39;49mTFE_Py_Execute(ctx\u001b[39m.\u001b[39;49m_handle, device_name, op_name,\n\u001b[0;32m     53\u001b[0m                                       inputs, attrs, num_outputs)\n\u001b[0;32m     54\u001b[0m \u001b[39mexcept\u001b[39;00m core\u001b[39m.\u001b[39m_NotOkStatusException \u001b[39mas\u001b[39;00m e:\n\u001b[0;32m     55\u001b[0m   \u001b[39mif\u001b[39;00m name \u001b[39mis\u001b[39;00m \u001b[39mnot\u001b[39;00m \u001b[39mNone\u001b[39;00m:\n",
      "\u001b[1;31mKeyboardInterrupt\u001b[0m: "
     ]
    }
   ],
   "source": [
    "model.fit(X_train, y_train, epochs=30, callbacks=[tb_callback])"
   ]
  },
  {
   "cell_type": "code",
   "execution_count": null,
   "metadata": {},
   "outputs": [],
   "source": [
    "MODEL_PATH = os.path.join(\"../action-recognition/models\")\n",
    "model.load_weights(os.path.join(MODEL_PATH, 'model_1.h5'))"
   ]
  },
  {
   "cell_type": "code",
   "execution_count": 35,
   "metadata": {},
   "outputs": [
    {
     "name": "stdout",
     "output_type": "stream",
     "text": [
      "Model: \"sequential_3\"\n",
      "_________________________________________________________________\n",
      " Layer (type)                Output Shape              Param #   \n",
      "=================================================================\n",
      " lstm_9 (LSTM)               (None, 20, 128)           188928    \n",
      "                                                                 \n",
      " lstm_10 (LSTM)              (None, 20, 256)           394240    \n",
      "                                                                 \n",
      " lstm_11 (LSTM)              (None, 256)               525312    \n",
      "                                                                 \n",
      " dense_9 (Dense)             (None, 128)               32896     \n",
      "                                                                 \n",
      " dense_10 (Dense)            (None, 128)               16512     \n",
      "                                                                 \n",
      " dense_11 (Dense)            (None, 121)               15609     \n",
      "                                                                 \n",
      "=================================================================\n",
      "Total params: 1,173,497\n",
      "Trainable params: 1,173,497\n",
      "Non-trainable params: 0\n",
      "_________________________________________________________________\n"
     ]
    }
   ],
   "source": [
    "model.summary()"
   ]
  },
  {
   "cell_type": "markdown",
   "metadata": {},
   "source": [
    "4. Model Testing"
   ]
  },
  {
   "cell_type": "code",
   "execution_count": 36,
   "metadata": {},
   "outputs": [
    {
     "name": "stdout",
     "output_type": "stream",
     "text": [
      "95/95 [==============================] - 4s 40ms/step\n"
     ]
    }
   ],
   "source": [
    "test_results = model.predict(X_test)"
   ]
  },
  {
   "cell_type": "code",
   "execution_count": 37,
   "metadata": {},
   "outputs": [],
   "source": [
    "from sklearn.metrics import multilabel_confusion_matrix, accuracy_score"
   ]
  },
  {
   "cell_type": "code",
   "execution_count": 38,
   "metadata": {},
   "outputs": [],
   "source": [
    "y_actual = np.argmax(y_test, axis=1)\n",
    "y_predict = np.argmax(test_results, axis=1)"
   ]
  },
  {
   "cell_type": "code",
   "execution_count": 39,
   "metadata": {},
   "outputs": [
    {
     "data": {
      "text/plain": [
       "0.9120661157024793"
      ]
     },
     "execution_count": 39,
     "metadata": {},
     "output_type": "execute_result"
    }
   ],
   "source": [
    "accuracy_score(y_actual, y_predict)"
   ]
  },
  {
   "cell_type": "code",
   "execution_count": 40,
   "metadata": {},
   "outputs": [
    {
     "data": {
      "text/plain": [
       "array([[[2997,    1],\n",
       "        [   0,   27]],\n",
       "\n",
       "       [[2997,    3],\n",
       "        [   2,   23]],\n",
       "\n",
       "       [[2987,    7],\n",
       "        [   1,   30]],\n",
       "\n",
       "       [[2993,    6],\n",
       "        [   1,   25]],\n",
       "\n",
       "       [[2991,    3],\n",
       "        [  13,   18]],\n",
       "\n",
       "       [[2998,    2],\n",
       "        [   3,   22]],\n",
       "\n",
       "       [[3006,    0],\n",
       "        [   3,   16]],\n",
       "\n",
       "       [[3004,    1],\n",
       "        [   0,   20]],\n",
       "\n",
       "       [[2991,    9],\n",
       "        [   4,   21]],\n",
       "\n",
       "       [[3004,    1],\n",
       "        [   5,   15]],\n",
       "\n",
       "       [[2989,    3],\n",
       "        [   1,   32]],\n",
       "\n",
       "       [[3001,    0],\n",
       "        [   1,   23]],\n",
       "\n",
       "       [[2997,    2],\n",
       "        [   0,   26]],\n",
       "\n",
       "       [[2996,    4],\n",
       "        [   5,   20]],\n",
       "\n",
       "       [[2989,    2],\n",
       "        [   3,   31]],\n",
       "\n",
       "       [[3000,    2],\n",
       "        [   5,   18]],\n",
       "\n",
       "       [[3004,    1],\n",
       "        [   1,   19]],\n",
       "\n",
       "       [[2992,    3],\n",
       "        [   0,   30]],\n",
       "\n",
       "       [[2994,    0],\n",
       "        [   1,   30]],\n",
       "\n",
       "       [[2995,    1],\n",
       "        [   1,   28]],\n",
       "\n",
       "       [[2996,    7],\n",
       "        [   0,   22]],\n",
       "\n",
       "       [[2994,    0],\n",
       "        [   5,   26]],\n",
       "\n",
       "       [[2999,    3],\n",
       "        [   1,   22]],\n",
       "\n",
       "       [[2986,    6],\n",
       "        [   1,   32]],\n",
       "\n",
       "       [[3000,    5],\n",
       "        [   8,   12]],\n",
       "\n",
       "       [[2994,    2],\n",
       "        [   2,   27]],\n",
       "\n",
       "       [[2994,    5],\n",
       "        [   2,   24]],\n",
       "\n",
       "       [[2996,    8],\n",
       "        [   2,   19]],\n",
       "\n",
       "       [[3003,    4],\n",
       "        [   2,   16]],\n",
       "\n",
       "       [[3003,    1],\n",
       "        [   3,   18]],\n",
       "\n",
       "       [[3000,    0],\n",
       "        [   3,   22]],\n",
       "\n",
       "       [[2996,    0],\n",
       "        [   1,   28]],\n",
       "\n",
       "       [[3002,    1],\n",
       "        [   1,   21]],\n",
       "\n",
       "       [[2995,    1],\n",
       "        [   0,   29]],\n",
       "\n",
       "       [[3003,    0],\n",
       "        [   1,   21]],\n",
       "\n",
       "       [[3002,    1],\n",
       "        [   3,   19]],\n",
       "\n",
       "       [[2999,    1],\n",
       "        [   0,   25]],\n",
       "\n",
       "       [[3004,    0],\n",
       "        [   4,   17]],\n",
       "\n",
       "       [[2993,    2],\n",
       "        [   3,   27]],\n",
       "\n",
       "       [[3002,    2],\n",
       "        [   1,   20]],\n",
       "\n",
       "       [[2993,    4],\n",
       "        [   4,   24]],\n",
       "\n",
       "       [[2999,    4],\n",
       "        [   2,   20]],\n",
       "\n",
       "       [[3003,    0],\n",
       "        [   5,   17]],\n",
       "\n",
       "       [[2997,    3],\n",
       "        [   6,   19]],\n",
       "\n",
       "       [[3001,    2],\n",
       "        [   1,   21]],\n",
       "\n",
       "       [[2996,    0],\n",
       "        [   3,   26]],\n",
       "\n",
       "       [[3003,    0],\n",
       "        [   5,   17]],\n",
       "\n",
       "       [[2996,    0],\n",
       "        [   3,   26]],\n",
       "\n",
       "       [[2996,    9],\n",
       "        [   1,   19]],\n",
       "\n",
       "       [[3000,    1],\n",
       "        [   0,   24]],\n",
       "\n",
       "       [[3004,    0],\n",
       "        [   2,   19]],\n",
       "\n",
       "       [[3003,    1],\n",
       "        [   7,   14]],\n",
       "\n",
       "       [[3001,    2],\n",
       "        [   0,   22]],\n",
       "\n",
       "       [[2995,    1],\n",
       "        [   3,   26]],\n",
       "\n",
       "       [[2998,    1],\n",
       "        [   3,   23]],\n",
       "\n",
       "       [[2993,    1],\n",
       "        [   1,   30]],\n",
       "\n",
       "       [[3001,    0],\n",
       "        [   1,   23]],\n",
       "\n",
       "       [[2992,    6],\n",
       "        [   0,   27]],\n",
       "\n",
       "       [[2990,    3],\n",
       "        [   2,   30]],\n",
       "\n",
       "       [[2992,    6],\n",
       "        [   5,   22]],\n",
       "\n",
       "       [[3003,    1],\n",
       "        [   2,   19]],\n",
       "\n",
       "       [[2993,    2],\n",
       "        [   0,   30]],\n",
       "\n",
       "       [[2997,    1],\n",
       "        [   1,   26]],\n",
       "\n",
       "       [[2998,    0],\n",
       "        [   2,   25]],\n",
       "\n",
       "       [[2995,    1],\n",
       "        [   0,   29]],\n",
       "\n",
       "       [[2999,    0],\n",
       "        [   6,   20]],\n",
       "\n",
       "       [[2996,    2],\n",
       "        [   2,   25]],\n",
       "\n",
       "       [[2998,    0],\n",
       "        [   5,   22]],\n",
       "\n",
       "       [[3002,    0],\n",
       "        [   0,   23]],\n",
       "\n",
       "       [[2995,    2],\n",
       "        [   0,   28]],\n",
       "\n",
       "       [[3004,    0],\n",
       "        [   2,   19]],\n",
       "\n",
       "       [[2995,    2],\n",
       "        [   1,   27]],\n",
       "\n",
       "       [[3002,    0],\n",
       "        [   0,   23]],\n",
       "\n",
       "       [[3002,    3],\n",
       "        [   2,   18]],\n",
       "\n",
       "       [[3004,    0],\n",
       "        [   4,   17]],\n",
       "\n",
       "       [[2989,   14],\n",
       "        [   2,   20]],\n",
       "\n",
       "       [[2993,    5],\n",
       "        [   4,   23]],\n",
       "\n",
       "       [[2988,    8],\n",
       "        [   3,   26]],\n",
       "\n",
       "       [[2985,   13],\n",
       "        [   4,   23]],\n",
       "\n",
       "       [[2997,    1],\n",
       "        [   1,   26]],\n",
       "\n",
       "       [[2998,    0],\n",
       "        [   0,   27]],\n",
       "\n",
       "       [[3008,    0],\n",
       "        [   0,   17]],\n",
       "\n",
       "       [[2993,   11],\n",
       "        [   1,   20]],\n",
       "\n",
       "       [[2988,    1],\n",
       "        [   2,   34]],\n",
       "\n",
       "       [[2989,    3],\n",
       "        [   1,   32]],\n",
       "\n",
       "       [[3003,    0],\n",
       "        [   2,   20]],\n",
       "\n",
       "       [[2996,    0],\n",
       "        [   1,   28]],\n",
       "\n",
       "       [[3000,    0],\n",
       "        [   2,   23]],\n",
       "\n",
       "       [[3002,    0],\n",
       "        [   2,   21]],\n",
       "\n",
       "       [[2994,    3],\n",
       "        [   1,   27]],\n",
       "\n",
       "       [[3008,    0],\n",
       "        [   1,   16]],\n",
       "\n",
       "       [[3009,    1],\n",
       "        [   6,    9]],\n",
       "\n",
       "       [[2999,    1],\n",
       "        [   0,   25]],\n",
       "\n",
       "       [[2999,    2],\n",
       "        [   1,   23]],\n",
       "\n",
       "       [[2991,    0],\n",
       "        [   4,   30]],\n",
       "\n",
       "       [[3003,    0],\n",
       "        [   0,   22]],\n",
       "\n",
       "       [[2999,    2],\n",
       "        [   5,   19]],\n",
       "\n",
       "       [[2998,    0],\n",
       "        [   0,   27]],\n",
       "\n",
       "       [[3011,    0],\n",
       "        [   2,   12]],\n",
       "\n",
       "       [[2999,    0],\n",
       "        [  13,   13]],\n",
       "\n",
       "       [[3004,    1],\n",
       "        [   0,   20]],\n",
       "\n",
       "       [[2995,    0],\n",
       "        [   0,   30]],\n",
       "\n",
       "       [[3000,    1],\n",
       "        [   1,   23]],\n",
       "\n",
       "       [[2997,    1],\n",
       "        [   3,   24]],\n",
       "\n",
       "       [[2992,    1],\n",
       "        [   4,   28]],\n",
       "\n",
       "       [[3009,    0],\n",
       "        [   0,   16]],\n",
       "\n",
       "       [[3001,    2],\n",
       "        [   7,   15]],\n",
       "\n",
       "       [[3003,    2],\n",
       "        [   2,   18]],\n",
       "\n",
       "       [[2998,    1],\n",
       "        [   3,   23]],\n",
       "\n",
       "       [[2990,   13],\n",
       "        [   0,   22]],\n",
       "\n",
       "       [[3001,    3],\n",
       "        [   2,   19]],\n",
       "\n",
       "       [[3006,    1],\n",
       "        [   1,   17]],\n",
       "\n",
       "       [[2996,    0],\n",
       "        [   1,   28]],\n",
       "\n",
       "       [[3004,    2],\n",
       "        [   3,   16]],\n",
       "\n",
       "       [[2988,    6],\n",
       "        [   1,   30]],\n",
       "\n",
       "       [[2997,    2],\n",
       "        [   3,   23]],\n",
       "\n",
       "       [[2998,    3],\n",
       "        [   1,   23]],\n",
       "\n",
       "       [[3003,    3],\n",
       "        [   0,   19]],\n",
       "\n",
       "       [[2997,    0],\n",
       "        [   2,   26]],\n",
       "\n",
       "       [[3003,    0],\n",
       "        [   0,   22]],\n",
       "\n",
       "       [[2991,    1],\n",
       "        [   0,   33]]], dtype=int64)"
      ]
     },
     "execution_count": 40,
     "metadata": {},
     "output_type": "execute_result"
    }
   ],
   "source": [
    "multilabel_confusion_matrix(y_actual, y_predict)"
   ]
  },
  {
   "cell_type": "code",
   "execution_count": 41,
   "metadata": {},
   "outputs": [
    {
     "data": {
      "image/png": "[encoded data removed]",
      "text/plain": [
       "<Figure size 640x480 with 2 Axes>"
      ]
     },
     "metadata": {},
     "output_type": "display_data"
    }
   ],
   "source": [
    "from sklearn.metrics import ConfusionMatrixDisplay, confusion_matrix\n",
    "import matplotlib.pyplot as plt\n",
    "%matplotlib inline\n",
    "\n",
    "cm = confusion_matrix(y_actual, y_predict)\n",
    "cmDisp = ConfusionMatrixDisplay(confusion_matrix=cm)\n",
    "cmDisp.plot()\n",
    "plt.show()"
   ]
  },
  {
   "cell_type": "markdown",
   "metadata": {},
   "source": [
    "5. Saving Model Weights"
   ]
  },
  {
   "cell_type": "code",
   "execution_count": 42,
   "metadata": {},
   "outputs": [],
   "source": [
    "MODEL_PATH = os.path.join(\"../action-recognition/models\")"
   ]
  },
  {
   "cell_type": "code",
   "execution_count": 43,
   "metadata": {},
   "outputs": [],
   "source": [
    "model.save(os.path.join(MODEL_PATH, \"model_v2_1.h5\"))"
   ]
  },
  {
   "cell_type": "code",
   "execution_count": null,
   "metadata": {},
   "outputs": [],
   "source": []
  }
 ],
 "metadata": {
  "kernelspec": {
   "display_name": "Python 3",
   "language": "python",
   "name": "python3"
  },
  "language_info": {
   "codemirror_mode": {
    "name": "ipython",
    "version": 3
   },
   "file_extension": ".py",
   "mimetype": "text/x-python",
   "name": "python",
   "nbconvert_exporter": "python",
   "pygments_lexer": "ipython3",
   "version": "3.9.5"
  }
 },
 "nbformat": 4,
 "nbformat_minor": 2
}
