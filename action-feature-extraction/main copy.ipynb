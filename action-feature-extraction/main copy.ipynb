{
 "cells": [
  {
   "attachments": {},
   "cell_type": "markdown",
   "metadata": {},
   "source": [
    "1. Import Libraries & Dependencies"
   ]
  },
  {
   "cell_type": "code",
   "execution_count": 1,
   "metadata": {},
   "outputs": [],
   "source": [
    "import cv2\n",
    "import numpy as np\n",
    "import os\n",
    "from matplotlib import pyplot as plt\n",
    "import time\n",
    "import mediapipe as mp"
   ]
  },
  {
   "cell_type": "code",
   "execution_count": 2,
   "metadata": {},
   "outputs": [],
   "source": [
    "from cvzone import FPS"
   ]
  },
  {
   "cell_type": "code",
   "execution_count": 3,
   "metadata": {},
   "outputs": [
    {
     "data": {
      "text/plain": [
       "<module 'mediapipe.python.solutions' from 'c:\\\\Users\\\\USER\\\\AppData\\\\Local\\\\Programs\\\\Python\\\\Python39\\\\lib\\\\site-packages\\\\mediapipe\\\\python\\\\solutions\\\\__init__.py'>"
      ]
     },
     "execution_count": 3,
     "metadata": {},
     "output_type": "execute_result"
    }
   ],
   "source": [
    "mp.solutions"
   ]
  },
  {
   "attachments": {},
   "cell_type": "markdown",
   "metadata": {},
   "source": [
    "2. Keypoints using MediaPipe Holistic"
   ]
  },
  {
   "cell_type": "code",
   "execution_count": 4,
   "metadata": {},
   "outputs": [],
   "source": [
    "mp_holistic = mp.solutions.holistic\n",
    "mp_pose = mp.solutions.pose\n",
    "mp_hands = mp.solutions.hands\n",
    "mp_drawing_utils = mp.solutions.drawing_utils\n",
    "mp_drawing_styles = mp.solutions.drawing_styles"
   ]
  },
  {
   "cell_type": "code",
   "execution_count": 5,
   "metadata": {},
   "outputs": [],
   "source": [
    "def pose_detection(image, model):\n",
    "    image = cv2.cvtColor(image, cv2.COLOR_BGR2RGB)\n",
    "    image.flags.writeable = False       # Read-only to reduce memory size (Pass by reference)\n",
    "    results = model.process(image)\n",
    "    image.flags.writeable = True\n",
    "    image= cv2.cvtColor(image, cv2.COLOR_RGB2BGR)\n",
    "    return image, results"
   ]
  },
  {
   "cell_type": "code",
   "execution_count": 6,
   "metadata": {},
   "outputs": [],
   "source": [
    "def draw_landmarks(image, landmarks):\n",
    "\n",
    "    # # Face Detection is disabled to improve efficiency\n",
    "    # # Draw face contour\n",
    "    # mp_drawing_utils.draw_landmarks(\n",
    "    #     image=image, \n",
    "    #     landmark_list=landmarks.face_landmarks, \n",
    "    #     connections=mp_holistic.FACEMESH_TESSELATION, \n",
    "    #     landmark_drawing_spec=mp_drawing_utils.DrawingSpec(color=(80, 110, 10), thickness=1, circle_radius=1),\n",
    "    #     connection_drawing_spec=mp_drawing_styles.get_default_face_mesh_tesselation_style()\n",
    "    # )\n",
    "\n",
    "    # Draw body pose\n",
    "    mp_drawing_utils.draw_landmarks(\n",
    "        image=image, \n",
    "        landmark_list=landmarks.pose_landmarks, \n",
    "        connections=mp_holistic.POSE_CONNECTIONS, \n",
    "        landmark_drawing_spec=mp_drawing_styles.get_default_pose_landmarks_style()\n",
    "    )\n",
    "\n",
    "    # Draw left hand\n",
    "    mp_drawing_utils.draw_landmarks(\n",
    "        image=image, \n",
    "        landmark_list=landmarks.left_hand_landmarks, \n",
    "        connections=mp_holistic.HAND_CONNECTIONS, \n",
    "        landmark_drawing_spec=mp_drawing_styles.get_default_hand_landmarks_style(), \n",
    "        connection_drawing_spec=mp_drawing_styles.get_default_hand_connections_style()\n",
    "    )\n",
    "    # Draw right  hand\n",
    "    mp_drawing_utils.draw_landmarks(\n",
    "        image=image, \n",
    "        landmark_list=landmarks.right_hand_landmarks, \n",
    "        connections=mp_holistic.HAND_CONNECTIONS, \n",
    "        landmark_drawing_spec=mp_drawing_styles.get_default_hand_landmarks_style(), \n",
    "        connection_drawing_spec=mp_drawing_styles.get_default_hand_connections_style()\n",
    "    )"
   ]
  },
  {
   "cell_type": "code",
   "execution_count": null,
   "metadata": {},
   "outputs": [],
   "source": []
  },
  {
   "cell_type": "code",
   "execution_count": 7,
   "metadata": {},
   "outputs": [],
   "source": [
    "from time import time"
   ]
  },
  {
   "cell_type": "code",
   "execution_count": 23,
   "metadata": {},
   "outputs": [],
   "source": [
    "# Webcam\n",
    "cam = cv2.VideoCapture(0, cv2.CAP_DSHOW)\n",
    "cam.set(cv2.CAP_PROP_FRAME_WIDTH, 1280)\n",
    "cam.set(cv2.CAP_PROP_FRAME_HEIGHT, 720)\n",
    "timeStats = []\n",
    "fpsReader = FPS()\n",
    "# Webcam Loop\n",
    "with mp_holistic.Holistic(min_detection_confidence=0.5, min_tracking_confidence=0.5) as model:\n",
    "    \n",
    "    initialTime = time()\n",
    "    while cam.isOpened():\n",
    "\n",
    "        startTime = time()\n",
    "        # Read Frame\n",
    "        ret, frame = cam.read()\n",
    "        if not ret:\n",
    "            print(\"No frames detected\")\n",
    "            continue\n",
    "        \n",
    "        # Pose Detection\n",
    "        image, landmarks = pose_detection(frame, model)\n",
    "        draw_landmarks(frame, landmarks)\n",
    "\n",
    "        fps, frame = fpsReader.update(frame,pos=(50,80),color=(0,255,0),scale=5,thickness=5)\n",
    "\n",
    "\n",
    "        # Screen Output\n",
    "        cv2.imshow('Sign Language Recognition Prototype', frame)\n",
    "\n",
    "        timeStats.append(time() - startTime)\n",
    "\n",
    "        # Release condition\n",
    "        keyPressed = cv2.waitKey(10)\n",
    "        if keyPressed == 27:\n",
    "            # Close Application\n",
    "            cam.release()\n",
    "            cv2.destroyAllWindows()\n",
    "            break\n",
    "        \n",
    "        if time() - initialTime > 10:\n",
    "            cam.release()\n",
    "            cv2.destroyAllWindows()\n",
    "            break"
   ]
  },
  {
   "cell_type": "code",
   "execution_count": 24,
   "metadata": {},
   "outputs": [
    {
     "data": {
      "text/plain": [
       "0.06561559677124024"
      ]
     },
     "execution_count": 24,
     "metadata": {},
     "output_type": "execute_result"
    }
   ],
   "source": [
    "np.array(timeStats[1:]).mean()"
   ]
  },
  {
   "cell_type": "code",
   "execution_count": 20,
   "metadata": {},
   "outputs": [
    {
     "data": {
      "text/plain": [
       "0.013344293290918524"
      ]
     },
     "execution_count": 20,
     "metadata": {},
     "output_type": "execute_result"
    }
   ],
   "source": [
    "np.array(timeStats[1:]).mean()"
   ]
  },
  {
   "cell_type": "code",
   "execution_count": 18,
   "metadata": {},
   "outputs": [
    {
     "data": {
      "text/plain": [
       "0.07079772651195526"
      ]
     },
     "execution_count": 18,
     "metadata": {},
     "output_type": "execute_result"
    }
   ],
   "source": [
    "np.array(timeStats[1:]).mean()"
   ]
  },
  {
   "cell_type": "code",
   "execution_count": 8,
   "metadata": {},
   "outputs": [],
   "source": [
    "cam.release()\n",
    "cv2.destroyAllWindows()"
   ]
  },
  {
   "cell_type": "code",
   "execution_count": 9,
   "metadata": {},
   "outputs": [
    {
     "data": {
      "text/plain": [
       "['ByteSize',\n",
       " 'Clear',\n",
       " 'ClearExtension',\n",
       " 'ClearField',\n",
       " 'CopyFrom',\n",
       " 'DESCRIPTOR',\n",
       " 'DiscardUnknownFields',\n",
       " 'Extensions',\n",
       " 'FindInitializationErrors',\n",
       " 'FromString',\n",
       " 'HasExtension',\n",
       " 'HasField',\n",
       " 'IsInitialized',\n",
       " 'ListFields',\n",
       " 'MergeFrom',\n",
       " 'MergeFromString',\n",
       " 'ParseFromString',\n",
       " 'RegisterExtension',\n",
       " 'SerializePartialToString',\n",
       " 'SerializeToString',\n",
       " 'SetInParent',\n",
       " 'UnknownFields',\n",
       " 'WhichOneof',\n",
       " '_CheckCalledFromGeneratedFile',\n",
       " '_SetListener',\n",
       " '__class__',\n",
       " '__deepcopy__',\n",
       " '__delattr__',\n",
       " '__dir__',\n",
       " '__doc__',\n",
       " '__eq__',\n",
       " '__format__',\n",
       " '__ge__',\n",
       " '__getattribute__',\n",
       " '__getstate__',\n",
       " '__gt__',\n",
       " '__hash__',\n",
       " '__init__',\n",
       " '__init_subclass__',\n",
       " '__le__',\n",
       " '__lt__',\n",
       " '__module__',\n",
       " '__ne__',\n",
       " '__new__',\n",
       " '__reduce__',\n",
       " '__reduce_ex__',\n",
       " '__repr__',\n",
       " '__setattr__',\n",
       " '__setstate__',\n",
       " '__sizeof__',\n",
       " '__slots__',\n",
       " '__str__',\n",
       " '__subclasshook__',\n",
       " '__unicode__',\n",
       " '_extensions_by_name',\n",
       " '_extensions_by_number',\n",
       " 'landmark']"
      ]
     },
     "execution_count": 9,
     "metadata": {},
     "output_type": "execute_result"
    }
   ],
   "source": [
    "dir(landmarks.left_hand_landmarks)"
   ]
  },
  {
   "attachments": {},
   "cell_type": "markdown",
   "metadata": {},
   "source": [
    "3. Feature Extraction (Extract Landmark Values + Calculate Extra Features)"
   ]
  },
  {
   "cell_type": "code",
   "execution_count": 43,
   "metadata": {},
   "outputs": [
    {
     "name": "stdout",
     "output_type": "stream",
     "text": [
      "[0. 0. 0. 0. 0. 0. 0. 0. 0. 0. 0. 0. 0. 0. 0. 0. 0. 0. 0. 0. 0. 0. 0. 0.\n",
      " 0. 0. 0. 0. 0. 0. 0. 0. 0. 0. 0. 0. 0. 0. 0. 0. 0. 0. 0. 0. 0. 0. 0. 0.\n",
      " 0. 0. 0. 0. 0. 0. 0. 0. 0. 0. 0. 0. 0. 0. 0.]\n",
      "[(0.5015471338322668, 1.335449796734434, -0.3009474404384629), (0.5195341791425433, 0.32102417378198533, -0.013014709007466405), (0, 0, 0)]\n"
     ]
    }
   ],
   "source": [
    "\n",
    "def featureExtraction(landmarks):\n",
    "    pose_lm = []\n",
    "    left_hand_lm = []\n",
    "    right_hand_lm = []\n",
    "    \n",
    "    # Calculate centroid from a list of xyz coordinates\n",
    "    def centroid(arr):\n",
    "        length = arr.shape[0]\n",
    "        sum_x = np.sum(arr[:, 0])\n",
    "        sum_y = np.sum(arr[:, 1])\n",
    "        sum_z = np.sum(arr[:, 2])\n",
    "        return sum_x/length, sum_y/length, sum_z/length\n",
    "\n",
    "    # Perform all landmark extraction operations\n",
    "    def extractLandmarks(landmarksList, defaultZeros, includeVisibility=False):\n",
    "        if not landmarksList:\n",
    "            return np.zeros(defaultZeros), (0, 0, 0)\n",
    "        \n",
    "        output = []\n",
    "        if includeVisibility:\n",
    "            output = [[each.x, each.y, each.z, each.visibility] for each in landmarksList.landmark]\n",
    "        else:\n",
    "            output = [[each.x, each.y, each.z] for each in landmarksList.landmark]\n",
    "        output = np.array(output)\n",
    "        return output.flatten(), centroid(output)\n",
    "\n",
    "    pose_lm, pose_centroid      = extractLandmarks(landmarks.pose_landmarks, defaultZeros=132, includeVisibility=True)\n",
    "    left_hand_lm, lh_centroid   = extractLandmarks(landmarks.left_hand_landmarks, defaultZeros=63)\n",
    "    right_hand_lm, rh_centroid  = extractLandmarks(landmarks.right_hand_landmarks, defaultZeros=63)\n",
    "\n",
    "    return np.concatenate([pose_lm, left_hand_lm, right_hand_lm]), [pose_centroid, lh_centroid, rh_centroid]\n",
    "\n",
    "xLandmarks, centroids = featureExtraction(landmarks)"
   ]
  },
  {
   "cell_type": "markdown",
   "metadata": {},
   "source": [
    "4. Extract Extra Features"
   ]
  },
  {
   "cell_type": "code",
   "execution_count": 12,
   "metadata": {},
   "outputs": [
    {
     "name": "stdout",
     "output_type": "stream",
     "text": [
      "-0.6764288544654846 2.961961507797241\n",
      "-2.991369457452593 2.960440034291155\n",
      "(86, 3)\n"
     ]
    }
   ],
   "source": [
    "# Calculate the center \n",
    "def distance(pointsArr):\n",
    "    # return np.linalg.norm(np.array(a) - np.array(b))\n",
    "    pass\n",
    "\n",
    "testData = np.random.random(size=(258 // 3, 1 * 3)) * 6 - 3\n",
    "\n",
    "print(min(xLandmarks), max(xLandmarks))\n",
    "print(np.min(testData), np.max(testData))\n",
    "print(testData.shape)\n",
    "\n",
    "\n"
   ]
  },
  {
   "cell_type": "code",
   "execution_count": 26,
   "metadata": {},
   "outputs": [
    {
     "name": "stdout",
     "output_type": "stream",
     "text": [
      "[ 0.45312276  0.78516418 -0.46312538  0.99993253  0.48683429  0.73243636\n",
      " -0.42282629  0.99985081  0.50434029]\n",
      "[x: 0.4531227648258209\n",
      "y: 0.7851641774177551\n",
      "z: -0.4631253778934479\n",
      "visibility: 0.9999325275421143\n",
      ", x: 0.4868342876434326\n",
      "y: 0.7324363589286804\n",
      "z: -0.42282629013061523\n",
      "visibility: 0.9998508095741272\n",
      ", x: 0.5043402910232544\n",
      "y: 0.7309010624885559\n",
      "z: -0.42261797189712524\n",
      "visibility: 0.9998418092727661\n",
      "]\n",
      "[[ 0.45312276  0.78516418 -0.46312538]\n",
      " [ 0.99993253  0.48683429  0.73243636]\n",
      " [-0.42282629  0.99985081  0.50434029]\n",
      " [ 0.73090106 -0.42261797  0.99984181]\n",
      " [ 0.52128971  0.73023671 -0.4223803 ]\n",
      " [ 0.99985176  0.45039302  0.73809391]\n",
      " [-0.38673082  0.99984783  0.44226074]\n",
      " [ 0.73923188 -0.38610789  0.99982017]\n",
      " [ 0.43313536  0.74061579 -0.38619661]]\n",
      "(86, 3)\n"
     ]
    }
   ],
   "source": [
    "print(xLandmarks[:9])\n",
    "print(landmarks.pose_landmarks.landmark[:3])\n",
    "import timeit\n",
    "test = xLandmarks.reshape(258 // 3, 3)\n",
    "print(test[:9])\n",
    "print(test.shape)"
   ]
  },
  {
   "cell_type": "code",
   "execution_count": null,
   "metadata": {},
   "outputs": [],
   "source": []
  }
 ],
 "metadata": {
  "kernelspec": {
   "display_name": "Python 3",
   "language": "python",
   "name": "python3"
  },
  "language_info": {
   "codemirror_mode": {
    "name": "ipython",
    "version": 3
   },
   "file_extension": ".py",
   "mimetype": "text/x-python",
   "name": "python",
   "nbconvert_exporter": "python",
   "pygments_lexer": "ipython3",
   "version": "3.9.5"
  },
  "orig_nbformat": 4
 },
 "nbformat": 4,
 "nbformat_minor": 2
}
