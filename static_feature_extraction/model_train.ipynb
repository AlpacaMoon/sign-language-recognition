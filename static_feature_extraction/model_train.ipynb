{
 "cells": [
  {
   "cell_type": "markdown",
   "metadata": {},
   "source": [
    "## Static Recognition Model Training & Testing"
   ]
  },
  {
   "cell_type": "code",
   "execution_count": 1,
   "metadata": {},
   "outputs": [],
   "source": [
    "# ! pip install scikit-learn"
   ]
  },
  {
   "cell_type": "code",
   "execution_count": 2,
   "metadata": {},
   "outputs": [],
   "source": [
    "import os\n",
    "from constants import FRAMES_PER_TRAINING, TRAININGS_PER_LABEL, STATIC_LABELS_PATH, KEYPOINTS_PATH\n",
    "import numpy as np"
   ]
  },
  {
   "cell_type": "code",
   "execution_count": 3,
   "metadata": {},
   "outputs": [
    {
     "data": {
      "text/plain": [
       "['A',\n",
       " 'B',\n",
       " 'C',\n",
       " 'D',\n",
       " 'E',\n",
       " 'F',\n",
       " 'G',\n",
       " 'H',\n",
       " 'I',\n",
       " 'J',\n",
       " 'K',\n",
       " 'L',\n",
       " 'M',\n",
       " 'N',\n",
       " 'O',\n",
       " 'P',\n",
       " 'Q',\n",
       " 'R',\n",
       " 'S',\n",
       " 'T',\n",
       " 'U',\n",
       " 'V',\n",
       " 'W',\n",
       " 'X',\n",
       " 'Y',\n",
       " 'Z',\n",
       " '1',\n",
       " '2',\n",
       " '3',\n",
       " '4',\n",
       " '5',\n",
       " '6',\n",
       " '7',\n",
       " '8',\n",
       " '9',\n",
       " '10']"
      ]
     },
     "execution_count": 3,
     "metadata": {},
     "output_type": "execute_result"
    }
   ],
   "source": [
    "from files_io import readActionLabels, readActionMapping\n",
    "\n",
    "static_labels = readActionLabels()\n",
    "static_labels"
   ]
  },
  {
   "cell_type": "code",
   "execution_count": 4,
   "metadata": {},
   "outputs": [
    {
     "data": {
      "text/plain": [
       "{'A': '0',\n",
       " 'B': '1',\n",
       " 'C': '2',\n",
       " 'D': '3',\n",
       " 'E': '4',\n",
       " 'F': '5',\n",
       " 'G': '6',\n",
       " 'H': '7',\n",
       " 'I': '8',\n",
       " 'J': '9',\n",
       " 'K': '10',\n",
       " 'L': '11',\n",
       " 'M': '12',\n",
       " 'N': '13',\n",
       " 'O': '14',\n",
       " 'P': '15',\n",
       " 'Q': '16',\n",
       " 'R': '17',\n",
       " 'S': '18',\n",
       " 'T': '19',\n",
       " 'U': '20',\n",
       " 'V': '21',\n",
       " 'W': '22',\n",
       " 'X': '23',\n",
       " 'Y': '24',\n",
       " 'Z': '25',\n",
       " '1': '26',\n",
       " '2': '27',\n",
       " '3': '28',\n",
       " '4': '29',\n",
       " '5': '30',\n",
       " '6': '31',\n",
       " '7': '32',\n",
       " '8': '33',\n",
       " '9': '34',\n",
       " '10': '35'}"
      ]
     },
     "execution_count": 4,
     "metadata": {},
     "output_type": "execute_result"
    }
   ],
   "source": [
    "static_mapping = readActionMapping()\n",
    "static_mapping"
   ]
  },
  {
   "cell_type": "markdown",
   "metadata": {},
   "source": [
    "### 1. Preprocess Data"
   ]
  },
  {
   "cell_type": "code",
   "execution_count": 5,
   "metadata": {},
   "outputs": [],
   "source": [
    "from sklearn.model_selection import train_test_split\n",
    "from keras.utils import to_categorical"
   ]
  },
  {
   "cell_type": "code",
   "execution_count": 6,
   "metadata": {},
   "outputs": [
    {
     "name": "stdout",
     "output_type": "stream",
     "text": [
      "10800\n",
      "10800\n"
     ]
    }
   ],
   "source": [
    "features, labels = [], []\n",
    "\n",
    "for static in static_labels:\n",
    "    sequence = np.load(os.path.join(KEYPOINTS_PATH, f\"{static}.npy\"))\n",
    "    # seperate out the features and labels\n",
    "    for i in range(len(sequence)):\n",
    "    # for i in range(TRAININGS_PER_LABEL):\n",
    "        features.append(sequence[i])\n",
    "        labels.append(static_mapping[static])\n",
    "      \n",
    "print(len(features))\n",
    "print(len(labels))\n",
    "# print(features)\n",
    "# print(labels)"
   ]
  },
  {
   "cell_type": "code",
   "execution_count": 7,
   "metadata": {},
   "outputs": [
    {
     "data": {
      "text/plain": [
       "(10800, 138)"
      ]
     },
     "execution_count": 7,
     "metadata": {},
     "output_type": "execute_result"
    }
   ],
   "source": [
    "X = np.array(features)\n",
    "X.shape"
   ]
  },
  {
   "cell_type": "code",
   "execution_count": 8,
   "metadata": {},
   "outputs": [
    {
     "data": {
      "text/plain": [
       "(10800, 36)"
      ]
     },
     "execution_count": 8,
     "metadata": {},
     "output_type": "execute_result"
    }
   ],
   "source": [
    "y = to_categorical(labels).astype(int)\n",
    "y.shape"
   ]
  },
  {
   "cell_type": "code",
   "execution_count": 9,
   "metadata": {},
   "outputs": [],
   "source": [
    "# downscale the data size\n",
    "X = X.astype(np.float32)"
   ]
  },
  {
   "cell_type": "code",
   "execution_count": 10,
   "metadata": {},
   "outputs": [
    {
     "data": {
      "text/plain": [
       "5961600"
      ]
     },
     "execution_count": 10,
     "metadata": {},
     "output_type": "execute_result"
    }
   ],
   "source": [
    "X.nbytes"
   ]
  },
  {
   "cell_type": "code",
   "execution_count": 11,
   "metadata": {},
   "outputs": [],
   "source": [
    "X_train, X_test, y_train, y_test = train_test_split(X, y, train_size=0.75)"
   ]
  },
  {
   "cell_type": "code",
   "execution_count": 12,
   "metadata": {},
   "outputs": [
    {
     "name": "stdout",
     "output_type": "stream",
     "text": [
      "(8100, 138)\n",
      "(2700, 138)\n",
      "(8100, 36)\n",
      "(2700, 36)\n"
     ]
    }
   ],
   "source": [
    "print(X_train.shape)\n",
    "print(X_test.shape)\n",
    "print(y_train.shape)\n",
    "print(y_test.shape)"
   ]
  },
  {
   "cell_type": "markdown",
   "metadata": {},
   "source": [
    "2. Model Compiling"
   ]
  },
  {
   "cell_type": "code",
   "execution_count": 13,
   "metadata": {},
   "outputs": [],
   "source": [
    "from keras.models import Sequential\n",
    "from keras.layers import Conv1D, MaxPooling1D, Flatten, Dense, Dropout, BatchNormalization\n",
    "from keras.callbacks import TensorBoard"
   ]
  },
  {
   "cell_type": "code",
   "execution_count": 14,
   "metadata": {},
   "outputs": [],
   "source": [
    "LOG_PATH = os.path.join(\"log\")\n",
    "tb_callback = TensorBoard(log_dir=LOG_PATH)"
   ]
  },
  {
   "cell_type": "code",
   "execution_count": 15,
   "metadata": {},
   "outputs": [
    {
     "data": {
      "text/plain": [
       "(138, 1)"
      ]
     },
     "execution_count": 15,
     "metadata": {},
     "output_type": "execute_result"
    }
   ],
   "source": [
    "modelInputSize = (X.shape[1],1)\n",
    "modelInputSize"
   ]
  },
  {
   "cell_type": "code",
   "execution_count": 18,
   "metadata": {},
   "outputs": [
    {
     "name": "stdout",
     "output_type": "stream",
     "text": [
      "Model: \"sequential_2\"\n",
      "_________________________________________________________________\n",
      " Layer (type)                Output Shape              Param #   \n",
      "=================================================================\n",
      " conv1d (Conv1D)             (None, 136, 32)           128       \n",
      "                                                                 \n",
      " max_pooling1d (MaxPooling1D  (None, 68, 32)           0         \n",
      " )                                                               \n",
      "                                                                 \n",
      " conv1d_1 (Conv1D)           (None, 66, 64)            6208      \n",
      "                                                                 \n",
      " max_pooling1d_1 (MaxPooling  (None, 33, 64)           0         \n",
      " 1D)                                                             \n",
      "                                                                 \n",
      " conv1d_2 (Conv1D)           (None, 31, 128)           24704     \n",
      "                                                                 \n",
      " flatten (Flatten)           (None, 3968)              0         \n",
      "                                                                 \n",
      " dense (Dense)               (None, 256)               1016064   \n",
      "                                                                 \n",
      " batch_normalization (BatchN  (None, 256)              1024      \n",
      " ormalization)                                                   \n",
      "                                                                 \n",
      " dropout (Dropout)           (None, 256)               0         \n",
      "                                                                 \n",
      " dense_1 (Dense)             (None, 36)                9252      \n",
      "                                                                 \n",
      "=================================================================\n",
      "Total params: 1,057,380\n",
      "Trainable params: 1,056,868\n",
      "Non-trainable params: 512\n",
      "_________________________________________________________________\n"
     ]
    }
   ],
   "source": [
    "# # Define the CNN model\n",
    "# model = Sequential()\n",
    "\n",
    "# # Convolutional layers\n",
    "# model.add(Conv1D(32, 3, activation='relu', input_shape=modelInputSize))\n",
    "# model.add(MaxPooling1D(2))\n",
    "# model.add(Conv1D(64, 3, activation='relu'))\n",
    "# model.add(MaxPooling1D(2))\n",
    "# model.add(Conv1D(128, 3, activation='relu'))\n",
    "\n",
    "# model.add(Flatten())\n",
    "\n",
    "# # Dense layers for translation (ANN)\n",
    "# model.add(Dense(256, activation='relu'))\n",
    "# model.add(BatchNormalization())\n",
    "# model.add(Dropout(0.2))\n",
    "\n",
    "# # Final output layer\n",
    "# model.add(Dense(len(static_labels), activation='softmax'))  # num of output classes\n",
    "\n",
    "# # Compile the model\n",
    "# model.compile(optimizer='adam', loss='categorical_crossentropy', metrics=['categorical_accuracy'])\n",
    "\n",
    "# # Print the model summary\n",
    "# model.summary()\n"
   ]
  },
  {
   "cell_type": "code",
   "execution_count": 17,
   "metadata": {},
   "outputs": [],
   "source": [
    "# Define the CNN model\n",
    "model = Sequential()\n",
    "\n",
    "# Convolutional layers\n",
    "# model.add(Conv1D(32, 3, activation='relu', input_shape=modelInputSize))\n",
    "# model.add(MaxPooling1D(2))\n",
    "# model.add(Conv1D(64, 3, activation='relu'))\n",
    "# model.add(MaxPooling1D(2))\n",
    "# model.add(Conv1D(128, 3, activation='relu'))\n",
    "\n",
    "# model.add(Flatten())\n",
    "\n",
    "# Dense layers for translation (ANN)\n",
    "model.add(Dense(64, activation='relu'))\n",
    "model.add(Dense(128, activation='relu'))\n",
    "model.add(Dense(256, activation='relu'))\n",
    "model.add(BatchNormalization())\n",
    "model.add(Dropout(0.2))\n",
    "\n",
    "# Final output layer\n",
    "model.add(Dense(len(static_labels), activation='softmax'))  # num of output classes\n",
    "\n",
    "# Compile the model\n",
    "model.compile(optimizer='adam', loss='categorical_crossentropy', metrics=['categorical_accuracy'])\n",
    "\n",
    "# Print the model summary\n",
    "# model.summary()\n"
   ]
  },
  {
   "cell_type": "code",
   "execution_count": 41,
   "metadata": {},
   "outputs": [],
   "source": [
    "from keras.models import Sequential\n",
    "from keras.layers import Dense, BatchNormalization, Dropout, Flatten\n",
    "from keras.optimizers import RMSprop\n",
    "\n",
    "# Assuming num_classes is the number of sign language symbols\n",
    "num_classes = len(static_labels)\n",
    "\n",
    "# Initialize the model\n",
    "model = Sequential()\n",
    "\n",
    "# Flatten the input\n",
    "model.add(Flatten())\n",
    "\n",
    "# Dense layers\n",
    "model.add(Dense(64, activation='relu'))\n",
    "model.add(Dense(128, activation='relu'))\n",
    "model.add(BatchNormalization())\n",
    "model.add(Dropout(0.2))\n",
    "\n",
    "# Output layer\n",
    "model.add(Dense(num_classes, activation='softmax'))\n",
    "\n",
    "# Compile the model\n",
    "model.compile(optimizer=RMSprop(), loss='categorical_crossentropy', metrics=['categorical_accuracy'])"
   ]
  },
  {
   "cell_type": "code",
   "execution_count": 42,
   "metadata": {},
   "outputs": [],
   "source": [
    "# model.compile(optimizer='Adam', loss='categorical_crossentropy', metrics=['categorical_accuracy'])"
   ]
  },
  {
   "cell_type": "markdown",
   "metadata": {},
   "source": [
    "3. Model Training"
   ]
  },
  {
   "cell_type": "code",
   "execution_count": 53,
   "metadata": {},
   "outputs": [
    {
     "name": "stdout",
     "output_type": "stream",
     "text": [
      "Epoch 1/30\n",
      "254/254 [==============================] - 1s 2ms/step - loss: 0.0271 - categorical_accuracy: 0.9902\n",
      "Epoch 2/30\n",
      "254/254 [==============================] - 1s 2ms/step - loss: 0.0327 - categorical_accuracy: 0.9886\n",
      "Epoch 3/30\n",
      "254/254 [==============================] - 1s 2ms/step - loss: 0.0295 - categorical_accuracy: 0.9912\n",
      "Epoch 4/30\n",
      "254/254 [==============================] - 1s 2ms/step - loss: 0.0345 - categorical_accuracy: 0.9896\n",
      "Epoch 5/30\n",
      "254/254 [==============================] - 1s 2ms/step - loss: 0.0257 - categorical_accuracy: 0.9916\n",
      "Epoch 6/30\n",
      "254/254 [==============================] - 1s 2ms/step - loss: 0.0206 - categorical_accuracy: 0.9937\n",
      "Epoch 7/30\n",
      "254/254 [==============================] - 1s 2ms/step - loss: 0.0264 - categorical_accuracy: 0.9920\n",
      "Epoch 8/30\n",
      "254/254 [==============================] - 1s 2ms/step - loss: 0.0328 - categorical_accuracy: 0.9917\n",
      "Epoch 9/30\n",
      "254/254 [==============================] - 0s 2ms/step - loss: 0.0265 - categorical_accuracy: 0.9915\n",
      "Epoch 10/30\n",
      "254/254 [==============================] - 1s 2ms/step - loss: 0.0222 - categorical_accuracy: 0.9914\n",
      "Epoch 11/30\n",
      "254/254 [==============================] - 1s 2ms/step - loss: 0.0209 - categorical_accuracy: 0.9926\n",
      "Epoch 12/30\n",
      "254/254 [==============================] - 1s 2ms/step - loss: 0.0257 - categorical_accuracy: 0.9906\n",
      "Epoch 13/30\n",
      "254/254 [==============================] - 1s 2ms/step - loss: 0.0280 - categorical_accuracy: 0.9914\n",
      "Epoch 14/30\n",
      "254/254 [==============================] - 1s 2ms/step - loss: 0.0273 - categorical_accuracy: 0.9922\n",
      "Epoch 15/30\n",
      "254/254 [==============================] - 0s 2ms/step - loss: 0.0244 - categorical_accuracy: 0.9921\n",
      "Epoch 16/30\n",
      "254/254 [==============================] - 1s 2ms/step - loss: 0.0229 - categorical_accuracy: 0.9925\n",
      "Epoch 17/30\n",
      "254/254 [==============================] - 1s 2ms/step - loss: 0.0239 - categorical_accuracy: 0.9923\n",
      "Epoch 18/30\n",
      "254/254 [==============================] - 1s 2ms/step - loss: 0.0214 - categorical_accuracy: 0.9936\n",
      "Epoch 19/30\n",
      "254/254 [==============================] - 1s 2ms/step - loss: 0.0223 - categorical_accuracy: 0.9932\n",
      "Epoch 20/30\n",
      "254/254 [==============================] - 1s 2ms/step - loss: 0.0197 - categorical_accuracy: 0.9943\n",
      "Epoch 21/30\n",
      "254/254 [==============================] - 1s 2ms/step - loss: 0.0203 - categorical_accuracy: 0.9920\n",
      "Epoch 22/30\n",
      "254/254 [==============================] - 1s 2ms/step - loss: 0.0235 - categorical_accuracy: 0.9920\n",
      "Epoch 23/30\n",
      "254/254 [==============================] - 1s 2ms/step - loss: 0.0164 - categorical_accuracy: 0.9947\n",
      "Epoch 24/30\n",
      "254/254 [==============================] - 1s 2ms/step - loss: 0.0184 - categorical_accuracy: 0.9942\n",
      "Epoch 25/30\n",
      "254/254 [==============================] - 1s 2ms/step - loss: 0.0211 - categorical_accuracy: 0.9927\n",
      "Epoch 26/30\n",
      "254/254 [==============================] - 1s 2ms/step - loss: 0.0217 - categorical_accuracy: 0.9930\n",
      "Epoch 27/30\n",
      "254/254 [==============================] - 1s 2ms/step - loss: 0.0250 - categorical_accuracy: 0.9927\n",
      "Epoch 28/30\n",
      "254/254 [==============================] - 0s 2ms/step - loss: 0.0195 - categorical_accuracy: 0.9936\n",
      "Epoch 29/30\n",
      "254/254 [==============================] - 1s 2ms/step - loss: 0.0197 - categorical_accuracy: 0.9931\n",
      "Epoch 30/30\n",
      "254/254 [==============================] - 1s 2ms/step - loss: 0.0188 - categorical_accuracy: 0.9936\n"
     ]
    },
    {
     "data": {
      "text/plain": [
       "<keras.callbacks.History at 0x21702180370>"
      ]
     },
     "execution_count": 53,
     "metadata": {},
     "output_type": "execute_result"
    }
   ],
   "source": [
    "model.fit(X_train, y_train, epochs=30)"
   ]
  },
  {
   "cell_type": "code",
   "execution_count": 54,
   "metadata": {},
   "outputs": [
    {
     "name": "stdout",
     "output_type": "stream",
     "text": [
      "Model: \"sequential_3\"\n",
      "_________________________________________________________________\n",
      " Layer (type)                Output Shape              Param #   \n",
      "=================================================================\n",
      " flatten_1 (Flatten)         (None, 138)               0         \n",
      "                                                                 \n",
      " dense_10 (Dense)            (None, 64)                8896      \n",
      "                                                                 \n",
      " dense_11 (Dense)            (None, 128)               8320      \n",
      "                                                                 \n",
      " batch_normalization_3 (Batc  (None, 128)              512       \n",
      " hNormalization)                                                 \n",
      "                                                                 \n",
      " dropout_3 (Dropout)         (None, 128)               0         \n",
      "                                                                 \n",
      " dense_12 (Dense)            (None, 36)                4644      \n",
      "                                                                 \n",
      "=================================================================\n",
      "Total params: 22,372\n",
      "Trainable params: 22,116\n",
      "Non-trainable params: 256\n",
      "_________________________________________________________________\n"
     ]
    }
   ],
   "source": [
    "model.summary()"
   ]
  },
  {
   "cell_type": "markdown",
   "metadata": {},
   "source": [
    "4. Model Testing"
   ]
  },
  {
   "cell_type": "code",
   "execution_count": 66,
   "metadata": {},
   "outputs": [
    {
     "name": "stdout",
     "output_type": "stream",
     "text": [
      "85/85 [==============================] - 0s 3ms/step\n"
     ]
    }
   ],
   "source": [
    "# import keras\n",
    "# model = keras.models.load_model(\"../static_recognition/models/static_model.h5\")\n",
    "test_results = model.predict(X_test)"
   ]
  },
  {
   "cell_type": "code",
   "execution_count": 67,
   "metadata": {},
   "outputs": [],
   "source": [
    "from sklearn.metrics import multilabel_confusion_matrix, accuracy_score"
   ]
  },
  {
   "cell_type": "code",
   "execution_count": 68,
   "metadata": {},
   "outputs": [],
   "source": [
    "y_actual = np.argmax(y_test, axis=1)\n",
    "y_predict = np.argmax(test_results, axis=1)"
   ]
  },
  {
   "cell_type": "code",
   "execution_count": 69,
   "metadata": {},
   "outputs": [
    {
     "data": {
      "text/plain": [
       "0.9981481481481481"
      ]
     },
     "execution_count": 69,
     "metadata": {},
     "output_type": "execute_result"
    }
   ],
   "source": [
    "accuracy_score(y_actual, y_predict)"
   ]
  },
  {
   "cell_type": "code",
   "execution_count": 70,
   "metadata": {},
   "outputs": [
    {
     "data": {
      "text/plain": [
       "array([[[2629,    1],\n",
       "        [   0,   70]],\n",
       "\n",
       "       [[2623,    0],\n",
       "        [   0,   77]],\n",
       "\n",
       "       [[2612,    0],\n",
       "        [   0,   88]],\n",
       "\n",
       "       [[2607,    0],\n",
       "        [   0,   93]],\n",
       "\n",
       "       [[2625,    0],\n",
       "        [   0,   75]],\n",
       "\n",
       "       [[2632,    0],\n",
       "        [   0,   68]],\n",
       "\n",
       "       [[2623,    0],\n",
       "        [   0,   77]],\n",
       "\n",
       "       [[2628,    0],\n",
       "        [   0,   72]],\n",
       "\n",
       "       [[2631,    0],\n",
       "        [   0,   69]],\n",
       "\n",
       "       [[2626,    1],\n",
       "        [   0,   73]],\n",
       "\n",
       "       [[2623,    0],\n",
       "        [   0,   77]],\n",
       "\n",
       "       [[2630,    0],\n",
       "        [   0,   70]],\n",
       "\n",
       "       [[2622,    0],\n",
       "        [   0,   78]],\n",
       "\n",
       "       [[2621,    0],\n",
       "        [   0,   79]],\n",
       "\n",
       "       [[2609,    0],\n",
       "        [   0,   91]],\n",
       "\n",
       "       [[2637,    0],\n",
       "        [   0,   63]],\n",
       "\n",
       "       [[2625,    0],\n",
       "        [   0,   75]],\n",
       "\n",
       "       [[2641,    0],\n",
       "        [   3,   56]],\n",
       "\n",
       "       [[2619,    0],\n",
       "        [   0,   81]],\n",
       "\n",
       "       [[2632,    0],\n",
       "        [   1,   67]],\n",
       "\n",
       "       [[2619,    3],\n",
       "        [   0,   78]],\n",
       "\n",
       "       [[2636,    0],\n",
       "        [   0,   64]],\n",
       "\n",
       "       [[2620,    0],\n",
       "        [   0,   80]],\n",
       "\n",
       "       [[2642,    0],\n",
       "        [   0,   58]],\n",
       "\n",
       "       [[2635,    0],\n",
       "        [   1,   64]],\n",
       "\n",
       "       [[2625,    0],\n",
       "        [   0,   75]],\n",
       "\n",
       "       [[2623,    0],\n",
       "        [   0,   77]],\n",
       "\n",
       "       [[2620,    0],\n",
       "        [   0,   80]],\n",
       "\n",
       "       [[2618,    0],\n",
       "        [   0,   82]],\n",
       "\n",
       "       [[2630,    0],\n",
       "        [   0,   70]],\n",
       "\n",
       "       [[2625,    0],\n",
       "        [   0,   75]],\n",
       "\n",
       "       [[2622,    0],\n",
       "        [   0,   78]],\n",
       "\n",
       "       [[2616,    0],\n",
       "        [   0,   84]],\n",
       "\n",
       "       [[2631,    0],\n",
       "        [   0,   69]],\n",
       "\n",
       "       [[2619,    0],\n",
       "        [   0,   81]],\n",
       "\n",
       "       [[2619,    0],\n",
       "        [   0,   81]]], dtype=int64)"
      ]
     },
     "execution_count": 70,
     "metadata": {},
     "output_type": "execute_result"
    }
   ],
   "source": [
    "multilabel_confusion_matrix(y_actual, y_predict)"
   ]
  },
  {
   "cell_type": "code",
   "execution_count": 71,
   "metadata": {},
   "outputs": [
    {
     "data": {
      "image/png": "[encoded data removed]",
      "text/plain": [
       "<Figure size 640x480 with 2 Axes>"
      ]
     },
     "metadata": {},
     "output_type": "display_data"
    }
   ],
   "source": [
    "from sklearn.metrics import ConfusionMatrixDisplay, confusion_matrix\n",
    "import matplotlib.pyplot as plt\n",
    "%matplotlib inline\n",
    "\n",
    "cm = confusion_matrix(y_actual, y_predict)\n",
    "cmDisp = ConfusionMatrixDisplay(confusion_matrix=cm)\n",
    "cmDisp.plot(include_values=False)\n",
    "plt.show()"
   ]
  },
  {
   "cell_type": "markdown",
   "metadata": {},
   "source": [
    "5. Saving Model Weights"
   ]
  },
  {
   "cell_type": "code",
   "execution_count": 61,
   "metadata": {},
   "outputs": [],
   "source": [
    "MODEL_PATH = os.path.join(\"../static_recognition/models\")"
   ]
  },
  {
   "cell_type": "code",
   "execution_count": 62,
   "metadata": {},
   "outputs": [],
   "source": [
    "# model.save(os.path.join(MODEL_PATH, \"static_model.h5\"))\n",
    "model.save(os.path.join(MODEL_PATH, \"static_model_ANN.h5\"))"
   ]
  }
 ],
 "metadata": {
  "kernelspec": {
   "display_name": "Python 3",
   "language": "python",
   "name": "python3"
  },
  "language_info": {
   "codemirror_mode": {
    "name": "ipython",
    "version": 3
   },
   "file_extension": ".py",
   "mimetype": "text/x-python",
   "name": "python",
   "nbconvert_exporter": "python",
   "pygments_lexer": "ipython3",
   "version": "3.9.6"
  }
 },
 "nbformat": 4,
 "nbformat_minor": 2
}
