{
 "cells": [
  {
   "attachments": {},
   "cell_type": "markdown",
   "metadata": {},
   "source": [
    "1. Import Libraries & Dependencies"
   ]
  },
  {
   "cell_type": "code",
   "execution_count": 2,
   "metadata": {},
   "outputs": [],
   "source": [
    "import cv2\n",
    "import numpy as np\n",
    "import os\n",
    "from matplotlib import pyplot as plt\n",
    "import time\n",
    "import mediapipe as mp\n"
   ]
  },
  {
   "attachments": {},
   "cell_type": "markdown",
   "metadata": {},
   "source": [
    "2. Keypoints using MediaPipe Holistic"
   ]
  },
  {
   "cell_type": "code",
   "execution_count": 3,
   "metadata": {},
   "outputs": [],
   "source": [
    "mp_holistic = mp.solutions.holistic\n",
    "mp_drawing_utils = mp.solutions.drawing_utils\n",
    "mp_drawing_styles = mp.solutions.drawing_styles"
   ]
  },
  {
   "cell_type": "code",
   "execution_count": 4,
   "metadata": {},
   "outputs": [],
   "source": [
    "def pose_detection(image, model):\n",
    "    image = cv2.cvtColor(image, cv2.COLOR_BGR2RGB)\n",
    "    image.flags.writeable = False       # Read-only to reduce memory size (Pass by reference)\n",
    "    results = model.process(image)\n",
    "    image.flags.writeable = True\n",
    "    image= cv2.cvtColor(image, cv2.COLOR_RGB2BGR)\n",
    "    return image, results"
   ]
  },
  {
   "cell_type": "code",
   "execution_count": 5,
   "metadata": {},
   "outputs": [],
   "source": [
    "def draw_landmarks(image, landmarks):\n",
    "\n",
    "    # # Face Detection is disabled to improve efficiency\n",
    "    # # Draw face contour\n",
    "    # mp_drawing_utils.draw_landmarks(\n",
    "    #     image=image, \n",
    "    #     landmark_list=landmarks.face_landmarks, \n",
    "    #     connections=mp_holistic.FACEMESH_TESSELATION, \n",
    "    #     landmark_drawing_spec=mp_drawing_utils.DrawingSpec(color=(80, 110, 10), thickness=1, circle_radius=1),\n",
    "    #     connection_drawing_spec=mp_drawing_styles.get_default_face_mesh_tesselation_style()\n",
    "    # )\n",
    "\n",
    "    # Draw body pose\n",
    "    mp_drawing_utils.draw_landmarks(\n",
    "        image=image, \n",
    "        landmark_list=landmarks.pose_landmarks, \n",
    "        connections=mp_holistic.POSE_CONNECTIONS, \n",
    "        landmark_drawing_spec=mp_drawing_styles.get_default_pose_landmarks_style()\n",
    "    )\n",
    "\n",
    "    # Draw left hand\n",
    "    mp_drawing_utils.draw_landmarks(\n",
    "        image=image, \n",
    "        landmark_list=landmarks.left_hand_landmarks, \n",
    "        connections=mp_holistic.HAND_CONNECTIONS, \n",
    "        landmark_drawing_spec=mp_drawing_styles.get_default_hand_landmarks_style(), \n",
    "        connection_drawing_spec=mp_drawing_styles.get_default_hand_connections_style()\n",
    "    )\n",
    "    # Draw right  hand\n",
    "    mp_drawing_utils.draw_landmarks(\n",
    "        image=image, \n",
    "        landmark_list=landmarks.right_hand_landmarks, \n",
    "        connections=mp_holistic.HAND_CONNECTIONS, \n",
    "        landmark_drawing_spec=mp_drawing_styles.get_default_hand_landmarks_style(), \n",
    "        connection_drawing_spec=mp_drawing_styles.get_default_hand_connections_style()\n",
    "    )"
   ]
  },
  {
   "cell_type": "code",
   "execution_count": 6,
   "metadata": {},
   "outputs": [],
   "source": [
    "# Webcam\n",
    "cam = cv2.VideoCapture(0)\n",
    "\n",
    "# Webcam Loop\n",
    "with mp_holistic.Holistic(min_detection_confidence=0.5, min_tracking_confidence=0.5) as model:\n",
    "    while cam.isOpened():\n",
    "\n",
    "        # Read Frame\n",
    "        ret, frame = cam.read()\n",
    "        if not ret:\n",
    "            print(\"No frames detected\")\n",
    "            continue\n",
    "        \n",
    "        # Pose Detection\n",
    "        image, landmarks = pose_detection(frame, model)\n",
    "        draw_landmarks(frame, landmarks)\n",
    "\n",
    "        # Screen Output\n",
    "        cv2.imshow('Sign Language Recognition Prototype', frame)\n",
    "\n",
    "        # Release condition\n",
    "        keyPressed = cv2.waitKey(10)\n",
    "        if keyPressed == 27:\n",
    "            # Close Application\n",
    "            cam.release()\n",
    "            cv2.destroyAllWindows()\n",
    "            break"
   ]
  },
  {
   "cell_type": "code",
   "execution_count": 7,
   "metadata": {},
   "outputs": [],
   "source": [
    "cam.release()\n",
    "cv2.destroyAllWindows()"
   ]
  },
  {
   "cell_type": "code",
   "execution_count": 8,
   "metadata": {},
   "outputs": [
    {
     "data": {
      "text/plain": [
       "['__bool__',\n",
       " '__class__',\n",
       " '__delattr__',\n",
       " '__dir__',\n",
       " '__doc__',\n",
       " '__eq__',\n",
       " '__format__',\n",
       " '__ge__',\n",
       " '__getattribute__',\n",
       " '__gt__',\n",
       " '__hash__',\n",
       " '__init__',\n",
       " '__init_subclass__',\n",
       " '__le__',\n",
       " '__lt__',\n",
       " '__ne__',\n",
       " '__new__',\n",
       " '__reduce__',\n",
       " '__reduce_ex__',\n",
       " '__repr__',\n",
       " '__setattr__',\n",
       " '__sizeof__',\n",
       " '__str__',\n",
       " '__subclasshook__']"
      ]
     },
     "execution_count": 8,
     "metadata": {},
     "output_type": "execute_result"
    }
   ],
   "source": [
    "dir(landmarks.left_hand_landmarks)"
   ]
  },
  {
   "attachments": {},
   "cell_type": "markdown",
   "metadata": {},
   "source": [
    "3. Extract Landmark Values"
   ]
  },
  {
   "cell_type": "code",
   "execution_count": 9,
   "metadata": {},
   "outputs": [
    {
     "name": "stdout",
     "output_type": "stream",
     "text": [
      "landmark {\n",
      "  x: 0.316459983587265\n",
      "  y: 0.37347567081451416\n",
      "  z: 2.9983161198288144e-07\n",
      "}\n",
      "landmark {\n",
      "  x: 0.33888858556747437\n",
      "  y: 0.40816083550453186\n",
      "  z: -0.01863882690668106\n",
      "}\n",
      "landmark {\n",
      "  x: 0.37121155858039856\n",
      "  y: 0.4353296756744385\n",
      "  z: -0.022908641025424004\n",
      "}\n",
      "landmark {\n",
      "  x: 0.40239593386650085\n",
      "  y: 0.4460475742816925\n",
      "  z: -0.025542449206113815\n",
      "}\n",
      "landmark {\n",
      "  x: 0.4264013469219208\n",
      "  y: 0.44075465202331543\n",
      "  z: -0.027009854093194008\n",
      "}\n",
      "landmark {\n",
      "  x: 0.41381341218948364\n",
      "  y: 0.3921612799167633\n",
      "  z: -0.003548434004187584\n",
      "}\n",
      "landmark {\n",
      "  x: 0.4480164349079132\n",
      "  y: 0.4028260111808777\n",
      "  z: -0.009437289088964462\n",
      "}\n",
      "landmark {\n",
      "  x: 0.46893349289894104\n",
      "  y: 0.4061458706855774\n",
      "  z: -0.01621823199093342\n",
      "}\n",
      "landmark {\n",
      "  x: 0.48725253343582153\n",
      "  y: 0.4064740240573883\n",
      "  z: -0.020891625434160233\n",
      "}\n",
      "landmark {\n",
      "  x: 0.4142712652683258\n",
      "  y: 0.36386197805404663\n",
      "  z: 0.0004412683192640543\n",
      "}\n",
      "landmark {\n",
      "  x: 0.45010948181152344\n",
      "  y: 0.35958895087242126\n",
      "  z: -0.0025609279982745647\n",
      "}\n",
      "landmark {\n",
      "  x: 0.47207069396972656\n",
      "  y: 0.35094502568244934\n",
      "  z: -0.007784654852002859\n",
      "}\n",
      "landmark {\n",
      "  x: 0.48789146542549133\n",
      "  y: 0.34082940220832825\n",
      "  z: -0.011590669862926006\n",
      "}\n",
      "landmark {\n",
      "  x: 0.405852347612381\n",
      "  y: 0.3385479748249054\n",
      "  z: 0.0015082891331985593\n",
      "}\n",
      "landmark {\n",
      "  x: 0.4348168671131134\n",
      "  y: 0.33056873083114624\n",
      "  z: -0.0036652227863669395\n",
      "}\n",
      "landmark {\n",
      "  x: 0.44996827840805054\n",
      "  y: 0.32217374444007874\n",
      "  z: -0.008173877373337746\n",
      "}\n",
      "landmark {\n",
      "  x: 0.46032679080963135\n",
      "  y: 0.3126397728919983\n",
      "  z: -0.010700631886720657\n",
      "}\n",
      "landmark {\n",
      "  x: 0.39112773537635803\n",
      "  y: 0.3147413730621338\n",
      "  z: 0.0004065870598424226\n",
      "}\n",
      "landmark {\n",
      "  x: 0.4124288260936737\n",
      "  y: 0.30622729659080505\n",
      "  z: -0.005395648069679737\n",
      "}\n",
      "landmark {\n",
      "  x: 0.42017754912376404\n",
      "  y: 0.30095309019088745\n",
      "  z: -0.0068033975549042225\n",
      "}\n",
      "landmark {\n",
      "  x: 0.42384475469589233\n",
      "  y: 0.29427099227905273\n",
      "  z: -0.0065021878108382225\n",
      "}\n",
      "\n"
     ]
    }
   ],
   "source": [
    "# print(landmarks.pose_landmarks.landmark)\n",
    "# print(landmarks.left_hand_landmarks)\n",
    "print(landmarks.right_hand_landmarks)"
   ]
  },
  {
   "cell_type": "code",
   "execution_count": 10,
   "metadata": {},
   "outputs": [
    {
     "name": "stdout",
     "output_type": "stream",
     "text": [
      "(258,)\n"
     ]
    }
   ],
   "source": [
    "\n",
    "def extractAllLandmarks(landmarks):\n",
    "    pose_lm = []\n",
    "    left_hand_lm = []\n",
    "    right_hand_lm = []\n",
    "\n",
    "    def extractLandmarks(landmarksList, includeVisibility=False):\n",
    "        output = []\n",
    "        if includeVisibility:\n",
    "            output = [[each.x, each.y, each.z, each.visibility] for each in landmarksList.landmark]\n",
    "        else:\n",
    "            output = [[each.x, each.y, each.z] for each in landmarksList.landmark]\n",
    "        return np.array(output).flatten()\n",
    "\n",
    "    pose_lm         = extractLandmarks(landmarks.pose_landmarks, True) if (landmarks.pose_landmarks) else np.zeros(132)\n",
    "    left_hand_lm    = extractLandmarks(landmarks.left_hand_landmarks) if (landmarks.left_hand_landmarks) else np.zeros(63)\n",
    "    right_hand_lm   = extractLandmarks(landmarks.right_hand_landmarks) if (landmarks.right_hand_landmarks) else np.zeros(63)\n",
    "\n",
    "    return np.concatenate([pose_lm, left_hand_lm, right_hand_lm])\n",
    "\n",
    "xLandmarks = extractAllLandmarks(landmarks)\n",
    "print(xLandmarks.shape)"
   ]
  },
  {
   "cell_type": "markdown",
   "metadata": {},
   "source": [
    "4. Extract Extra Features"
   ]
  },
  {
   "cell_type": "code",
   "execution_count": 18,
   "metadata": {},
   "outputs": [
    {
     "name": "stdout",
     "output_type": "stream",
     "text": [
      "-0.6686346530914307 2.849335193634033\n",
      "-2.984873787396042 2.9848196908894895\n",
      "(86, 3)\n",
      "npTime:  1.4300816999999597\n",
      "pyTime:  5.217582299999947\n",
      "pyTime2:  2.417076199999997\n"
     ]
    }
   ],
   "source": [
    "# Calculate the center \n",
    "def distance(pointsArr):\n",
    "    # return np.linalg.norm(np.array(a) - np.array(b))\n",
    "    pass\n",
    "\n",
    "testData = np.random.random(size=(258 // 3, 1 * 3)) * 6 - 3\n",
    "\n",
    "print(min(xLandmarks), max(xLandmarks))\n",
    "print(np.min(testData), np.max(testData))\n",
    "print(testData.shape)\n",
    "\n",
    "def centroid(arr):\n",
    "    length = arr.shape[0]\n",
    "    sum_x = np.sum(arr[:, 0])\n",
    "    sum_y = np.sum(arr[:, 1])\n",
    "    sum_z = np.sum(arr[:, 2])\n",
    "    return sum_x/length, sum_y/length, sum_z/length\n"
   ]
  },
  {
   "cell_type": "code",
   "execution_count": null,
   "metadata": {},
   "outputs": [],
   "source": []
  }
 ],
 "metadata": {
  "kernelspec": {
   "display_name": "Python 3",
   "language": "python",
   "name": "python3"
  },
  "language_info": {
   "codemirror_mode": {
    "name": "ipython",
    "version": 3
   },
   "file_extension": ".py",
   "mimetype": "text/x-python",
   "name": "python",
   "nbconvert_exporter": "python",
   "pygments_lexer": "ipython3",
   "version": "3.9.5"
  },
  "orig_nbformat": 4
 },
 "nbformat": 4,
 "nbformat_minor": 2
}
