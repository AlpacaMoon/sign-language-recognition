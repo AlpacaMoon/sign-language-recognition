{
 "cells": [
  {
   "cell_type": "code",
   "execution_count": 1,
   "metadata": {},
   "outputs": [],
   "source": [
    "import cv2\n",
    "import numpy as np\n",
    "import os\n",
    "from matplotlib import pyplot as plt\n",
    "import time\n",
    "import mediapipe as mp"
   ]
  },
  {
   "cell_type": "code",
   "execution_count": 2,
   "metadata": {},
   "outputs": [],
   "source": [
    "from cvzone.HandTrackingModule import HandDetector\n",
    "from cvzone.FaceDetectionModule import FaceDetector\n",
    "from cvzone.PoseModule import PoseDetector"
   ]
  },
  {
   "cell_type": "code",
   "execution_count": 12,
   "metadata": {},
   "outputs": [],
   "source": [
    "cam = cv2.VideoCapture(0)\n",
    "\n",
    "# Object handDetector\n",
    "handDetector = HandDetector(detectionCon=0.5, maxHands=2)\n",
    "faceDetector = FaceDetector(minDetectionCon=0.5)\n",
    "poseDetector = PoseDetector(detectionCon=0.5)\n",
    "\n",
    "detectionResults = {}\n",
    "\n",
    "while True:\n",
    "    # Read from camera\n",
    "    success, frame = cam.read()\n",
    "\n",
    "    # Pose Detection\n",
    "    detectionResults['hands'], frame = handDetector.findHands(frame, draw=True)\n",
    "    frame, detectionResults['face'] = faceDetector.findFaces(frame, draw=True)\n",
    "    frame = poseDetector.findPose(frame, draw=True)\n",
    "    detectionResults['pose_landmarks'], detectionResults['pose_bbox'] = poseDetector.findPosition(frame, bboxWithHands=False)\n",
    "\n",
    "    # Hand is a dictionary of: \n",
    "    #   lmList: List of 21 landmark points\n",
    "    #   bbox: Bounding Box info x,y,w,h\n",
    "    #   center: Center coordinates cx,cy\n",
    "    #   type: left or right\n",
    "\n",
    "    # Show result\n",
    "    cv2.imshow(\"Image\", frame)\n",
    "    keyPressed = cv2.waitKey(10)\n",
    "    if (keyPressed == ord('q')):\n",
    "        \n",
    "        # print(hands)\n",
    "        # print('--------------------')\n",
    "        # print(face)\n",
    "        # print('--------------------')\n",
    "        # print(pose_lmList)\n",
    "        # print('--------------------')\n",
    "        # print(pose_bboxInfo)\n",
    "        # sum = 0\n",
    "        # if hands:\n",
    "        #     sum += len(hands[0]['lmList'])\n",
    "        #     if len(hands) == 2:\n",
    "        #         sum += len(hands[1]['lmList'])\n",
    "        # if (face):\n",
    "        #     pass\n",
    "        # if (pose_lmList):\n",
    "        #     sum += len(pose_lmList)\n",
    "\n",
    "        # print(\"lh: \", len(hands[0]['lmList']))\n",
    "        # print(\"rh: \", len(hands[1]['lmList']) if len(hands) == 2 else \"\" )\n",
    "        # print(\"pose: \", len(pose_lmList))\n",
    "        # print(\"SUM: \", sum)\n",
    "        pass\n",
    "\n",
    "    if (keyPressed == 27):\n",
    "        cam.release()\n",
    "        cv2.destroyAllWindows()\n",
    "        break\n"
   ]
  },
  {
   "cell_type": "code",
   "execution_count": 4,
   "metadata": {},
   "outputs": [],
   "source": [
    "cam.release()\n",
    "cv2.destroyAllWindows()"
   ]
  },
  {
   "cell_type": "code",
   "execution_count": 18,
   "metadata": {},
   "outputs": [
    {
     "data": {
      "text/plain": [
       "[{'lmList': [[193, 269, 0],\n",
       "   [214, 285, -12],\n",
       "   [240, 295, -19],\n",
       "   [262, 301, -25],\n",
       "   [279, 309, -31],\n",
       "   [262, 260, -14],\n",
       "   [291, 264, -24],\n",
       "   [308, 268, -31],\n",
       "   [322, 270, -37],\n",
       "   [255, 245, -15],\n",
       "   [281, 232, -23],\n",
       "   [298, 225, -31],\n",
       "   [313, 218, -37],\n",
       "   [240, 235, -17],\n",
       "   [253, 221, -27],\n",
       "   [262, 212, -35],\n",
       "   [272, 203, -40],\n",
       "   [221, 231, -20],\n",
       "   [223, 219, -30],\n",
       "   [223, 211, -35],\n",
       "   [224, 202, -38]],\n",
       "  'bbox': (193, 202, 129, 107),\n",
       "  'center': (257, 255),\n",
       "  'type': 'Right'}]"
      ]
     },
     "execution_count": 18,
     "metadata": {},
     "output_type": "execute_result"
    }
   ],
   "source": [
    "detectionResults['hands']"
   ]
  },
  {
   "attachments": {},
   "cell_type": "markdown",
   "metadata": {},
   "source": [
    "3. Feature Extraction (Extract Landmark Values + Calculate Extra Features)"
   ]
  },
  {
   "cell_type": "code",
   "execution_count": 34,
   "metadata": {},
   "outputs": [
    {
     "name": "stdout",
     "output_type": "stream",
     "text": [
      "[ 292  363 -425  309  332 -432  319  331 -432  329  329 -433  286  334\n",
      " -380  279  335 -380  272  336 -380  355  337 -293  283  345 -102  317\n",
      "  379 -365  287  382 -317  465  459 -188  237  431   46  525  601 -317\n",
      "   94  370  -22  558  717 -465  209  263 -139  577  756 -504  235  236\n",
      " -195  562  750 -537  249  242 -130  549  739 -485  244  255 -132  427\n",
      "  811  -86  269  807   88  435 1096 -210  279 1082  -32  444 1362   29\n",
      "  303 1353   53  451 1405   37  307 1390   50  423 1431 -333  309 1434\n",
      " -308]\n"
     ]
    }
   ],
   "source": [
    "def featureExtraction(results):\n",
    "\n",
    "    # Pose Landmarks\n",
    "    pose_lm = np.array([each[1:] for each in results['pose_landmarks']]).flatten()\n",
    "\n",
    "    if len(results['hands']) > 0:\n",
    "        left_hand = None\n",
    "        right_hand = None\n",
    "        \n",
    "        if results['hands'][0]['type'] == 'Left':\n",
    "            left_hand = results['hands'][0]\n",
    "            if (len(results['hands']) == 2):\n",
    "                right_hand = results['hands'][1]\n",
    "        else:\n",
    "            right_hand = results['hands'][0]\n",
    "            if (len(results['hands']) == 2):\n",
    "                left_hand = results['hands'][1]\n",
    "\n",
    "\n",
    "        # Left Hand Landmarks\n",
    "\n",
    "\n",
    "    pass\n",
    "\n",
    "featureExtraction(detectionResults)"
   ]
  },
  {
   "cell_type": "code",
   "execution_count": 40,
   "metadata": {},
   "outputs": [
    {
     "data": {
      "text/plain": [
       "{'lmList': [[193, 269, 0],\n",
       "  [214, 285, -12],\n",
       "  [240, 295, -19],\n",
       "  [262, 301, -25],\n",
       "  [279, 309, -31],\n",
       "  [262, 260, -14],\n",
       "  [291, 264, -24],\n",
       "  [308, 268, -31],\n",
       "  [322, 270, -37],\n",
       "  [255, 245, -15],\n",
       "  [281, 232, -23],\n",
       "  [298, 225, -31],\n",
       "  [313, 218, -37],\n",
       "  [240, 235, -17],\n",
       "  [253, 221, -27],\n",
       "  [262, 212, -35],\n",
       "  [272, 203, -40],\n",
       "  [221, 231, -20],\n",
       "  [223, 219, -30],\n",
       "  [223, 211, -35],\n",
       "  [224, 202, -38]],\n",
       " 'bbox': (193, 202, 129, 107),\n",
       " 'center': (257, 255),\n",
       " 'type': 'Right'}"
      ]
     },
     "execution_count": 40,
     "metadata": {},
     "output_type": "execute_result"
    }
   ],
   "source": [
    "detectionResults['hands'][0]"
   ]
  },
  {
   "cell_type": "markdown",
   "metadata": {},
   "source": [
    "4. Extract Extra Features"
   ]
  },
  {
   "cell_type": "code",
   "execution_count": 12,
   "metadata": {},
   "outputs": [
    {
     "name": "stdout",
     "output_type": "stream",
     "text": [
      "-0.6764288544654846 2.961961507797241\n",
      "-2.991369457452593 2.960440034291155\n",
      "(86, 3)\n"
     ]
    }
   ],
   "source": [
    "# Calculate the center \n",
    "def distance(pointsArr):\n",
    "    # return np.linalg.norm(np.array(a) - np.array(b))\n",
    "    pass\n",
    "\n",
    "testData = np.random.random(size=(258 // 3, 1 * 3)) * 6 - 3\n",
    "\n",
    "print(min(xLandmarks), max(xLandmarks))\n",
    "print(np.min(testData), np.max(testData))\n",
    "print(testData.shape)\n",
    "\n",
    "\n"
   ]
  },
  {
   "cell_type": "code",
   "execution_count": 26,
   "metadata": {},
   "outputs": [
    {
     "name": "stdout",
     "output_type": "stream",
     "text": [
      "[ 0.45312276  0.78516418 -0.46312538  0.99993253  0.48683429  0.73243636\n",
      " -0.42282629  0.99985081  0.50434029]\n",
      "[x: 0.4531227648258209\n",
      "y: 0.7851641774177551\n",
      "z: -0.4631253778934479\n",
      "visibility: 0.9999325275421143\n",
      ", x: 0.4868342876434326\n",
      "y: 0.7324363589286804\n",
      "z: -0.42282629013061523\n",
      "visibility: 0.9998508095741272\n",
      ", x: 0.5043402910232544\n",
      "y: 0.7309010624885559\n",
      "z: -0.42261797189712524\n",
      "visibility: 0.9998418092727661\n",
      "]\n",
      "[[ 0.45312276  0.78516418 -0.46312538]\n",
      " [ 0.99993253  0.48683429  0.73243636]\n",
      " [-0.42282629  0.99985081  0.50434029]\n",
      " [ 0.73090106 -0.42261797  0.99984181]\n",
      " [ 0.52128971  0.73023671 -0.4223803 ]\n",
      " [ 0.99985176  0.45039302  0.73809391]\n",
      " [-0.38673082  0.99984783  0.44226074]\n",
      " [ 0.73923188 -0.38610789  0.99982017]\n",
      " [ 0.43313536  0.74061579 -0.38619661]]\n",
      "(86, 3)\n"
     ]
    }
   ],
   "source": [
    "print(xLandmarks[:9])\n",
    "print(landmarks.pose_landmarks.landmark[:3])\n",
    "import timeit\n",
    "test = xLandmarks.reshape(258 // 3, 3)\n",
    "print(test[:9])\n",
    "print(test.shape)"
   ]
  },
  {
   "cell_type": "code",
   "execution_count": null,
   "metadata": {},
   "outputs": [],
   "source": []
  }
 ],
 "metadata": {
  "kernelspec": {
   "display_name": "Python 3",
   "language": "python",
   "name": "python3"
  },
  "language_info": {
   "codemirror_mode": {
    "name": "ipython",
    "version": 3
   },
   "file_extension": ".py",
   "mimetype": "text/x-python",
   "name": "python",
   "nbconvert_exporter": "python",
   "pygments_lexer": "ipython3",
   "version": "3.9.5"
  },
  "orig_nbformat": 4
 },
 "nbformat": 4,
 "nbformat_minor": 2
}
