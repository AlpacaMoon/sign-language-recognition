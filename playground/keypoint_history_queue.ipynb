{
 "cells": [
  {
   "cell_type": "code",
   "execution_count": 5,
   "metadata": {},
   "outputs": [],
   "source": [
    "import numpy as np"
   ]
  },
  {
   "cell_type": "code",
   "execution_count": 6,
   "metadata": {},
   "outputs": [],
   "source": [
    "from collections import deque\n",
    "from queue import Queue"
   ]
  },
  {
   "cell_type": "code",
   "execution_count": 9,
   "metadata": {},
   "outputs": [
    {
     "data": {
      "text/plain": [
       "(219,)"
      ]
     },
     "execution_count": 9,
     "metadata": {},
     "output_type": "execute_result"
    }
   ],
   "source": [
    "data = np.load('test.npy')\n",
    "data.shape"
   ]
  },
  {
   "cell_type": "code",
   "execution_count": 21,
   "metadata": {},
   "outputs": [],
   "source": [
    "iterations = 500\n",
    "\n",
    "def algo1():\n",
    "    history = []\n",
    "    for i in range(iterations):\n",
    "        history.append(data)\n",
    "        history = history[:30]\n",
    "\n",
    "def algo2():\n",
    "    history = deque()\n",
    "    for i in range(iterations):\n",
    "        history.append(data)\n",
    "        if len(history) > 30:\n",
    "            history.popleft()\n",
    "\n",
    "def algo3():\n",
    "    history = Queue(maxsize=30)\n",
    "    for i in range(iterations):\n",
    "        if history.full():\n",
    "            history.get()\n",
    "        history.put(data)"
   ]
  },
  {
   "cell_type": "code",
   "execution_count": 22,
   "metadata": {},
   "outputs": [
    {
     "name": "stdout",
     "output_type": "stream",
     "text": [
      "0.15401489999999285\n",
      "0.07641850000004524\n",
      "2.17572610000002\n"
     ]
    }
   ],
   "source": [
    "from timeit import timeit\n",
    "\n",
    "testIter = 1000\n",
    "print(timeit(algo1, number=testIter))\n",
    "print(timeit(algo2, number=testIter))\n",
    "print(timeit(algo3, number=testIter))"
   ]
  },
  {
   "cell_type": "code",
   "execution_count": null,
   "metadata": {},
   "outputs": [],
   "source": []
  }
 ],
 "metadata": {
  "kernelspec": {
   "display_name": "Python 3",
   "language": "python",
   "name": "python3"
  },
  "language_info": {
   "codemirror_mode": {
    "name": "ipython",
    "version": 3
   },
   "file_extension": ".py",
   "mimetype": "text/x-python",
   "name": "python",
   "nbconvert_exporter": "python",
   "pygments_lexer": "ipython3",
   "version": "3.9.5"
  },
  "orig_nbformat": 4
 },
 "nbformat": 4,
 "nbformat_minor": 2
}
