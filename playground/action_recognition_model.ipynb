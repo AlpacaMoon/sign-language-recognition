{
 "cells": [
  {
   "cell_type": "code",
   "execution_count": 81,
   "metadata": {},
   "outputs": [],
   "source": [
    "import keras.layers as kl\n",
    "from keras.models import Sequential"
   ]
  },
  {
   "cell_type": "code",
   "execution_count": 110,
   "metadata": {},
   "outputs": [],
   "source": [
    "from sklearn.model_selection import train_test_split\n",
    "from keras.utils import to_categorical"
   ]
  },
  {
   "cell_type": "code",
   "execution_count": 3,
   "metadata": {},
   "outputs": [],
   "source": [
    "import csv, os, numpy as np\n",
    "\n",
    "ACTION_LABELS_PATH = os.path.join(\"../action-recognition/action-labels.csv\")\n",
    "KEYPOINTS_PATH = os.path.join(\"../action-recognition/keypoints_data/\")\n",
    "\n",
    "# How many video records / training data each label should have\n",
    "trainings_per_label = 100\n",
    "\n",
    "# How many frames each video record / training data should have\n",
    "frames_per_training = 15\n",
    "\n",
    "action_labels = []\n",
    "with open(ACTION_LABELS_PATH) as f:\n",
    "    csv_reader = csv.reader(f, delimiter=\",\")\n",
    "    action_labels = [each[1] for each in csv_reader]\n",
    "\n",
    "action_mapping = {}\n",
    "with open(ACTION_LABELS_PATH) as f:\n",
    "    csv_reader = csv.reader(f, delimiter=\",\")\n",
    "    action_mapping = {each[1]: each[0] for each in csv_reader}\n",
    "    \n",
    "action_mapping\n",
    "\n",
    "features, labels = [], []\n",
    "\n",
    "for action in action_labels:\n",
    "    for trainingNum in range(trainings_per_label):\n",
    "        sequence = np.load(os.path.join(KEYPOINTS_PATH, action, f\"{trainingNum}.npy\"))\n",
    "        features.append(sequence)\n",
    "        labels.append(action_mapping[action])\n"
   ]
  },
  {
   "cell_type": "code",
   "execution_count": 4,
   "metadata": {},
   "outputs": [
    {
     "data": {
      "text/plain": [
       "(300, 15, 219)"
      ]
     },
     "execution_count": 4,
     "metadata": {},
     "output_type": "execute_result"
    }
   ],
   "source": [
    "X = np.array(features)\n",
    "X.shape"
   ]
  },
  {
   "cell_type": "code",
   "execution_count": 6,
   "metadata": {},
   "outputs": [
    {
     "data": {
      "text/plain": [
       "(300, 3)"
      ]
     },
     "execution_count": 6,
     "metadata": {},
     "output_type": "execute_result"
    }
   ],
   "source": [
    "y = to_categorical(labels).astype(int)\n",
    "y.shape"
   ]
  },
  {
   "cell_type": "code",
   "execution_count": 9,
   "metadata": {},
   "outputs": [],
   "source": [
    "X_train, X_test, y_train, y_test = train_test_split(X, y, train_size=0.75, random_state=69)\n",
    "modelInputShape = (X.shape[1], X.shape[2])\n",
    "modelOutputShape = y.shape[1]"
   ]
  },
  {
   "cell_type": "code",
   "execution_count": 11,
   "metadata": {},
   "outputs": [],
   "source": [
    "stats = {}"
   ]
  },
  {
   "cell_type": "code",
   "execution_count": 21,
   "metadata": {},
   "outputs": [],
   "source": [
    "from time import time\n",
    "from sklearn.metrics import accuracy_score"
   ]
  },
  {
   "cell_type": "code",
   "execution_count": 122,
   "metadata": {},
   "outputs": [],
   "source": [
    "\n",
    "from timeit import timeit\n",
    "testIter = 100"
   ]
  },
  {
   "cell_type": "markdown",
   "metadata": {},
   "source": [
    "### 3 LSTM + 3 Dense"
   ]
  },
  {
   "cell_type": "code",
   "execution_count": 123,
   "metadata": {},
   "outputs": [],
   "source": [
    "model_1 = Sequential()\n",
    "model_1.add(kl.LSTM(units=64, activation='relu', return_sequences=True, input_shape=modelInputShape))\n",
    "model_1.add(kl.LSTM(units=128, activation='relu', return_sequences=True))\n",
    "model_1.add(kl.LSTM(units=64, activation='relu', return_sequences=False))\n",
    "model_1.add(kl.Dense(units=64, activation='relu'))\n",
    "model_1.add(kl.Dense(units=32, activation='relu'))\n",
    "model_1.add(kl.Dense(units=modelOutputShape, activation='softmax'))\n",
    "\n",
    "model_1.compile(optimizer='Adam', loss='categorical_crossentropy', metrics=['categorical_accuracy'])"
   ]
  },
  {
   "cell_type": "code",
   "execution_count": 124,
   "metadata": {},
   "outputs": [
    {
     "name": "stdout",
     "output_type": "stream",
     "text": [
      "Epoch 1/30\n",
      "8/8 [==============================] - 5s 26ms/step - loss: 1.0651 - categorical_accuracy: 0.4133\n",
      "Epoch 2/30\n",
      "8/8 [==============================] - 0s 26ms/step - loss: 0.7202 - categorical_accuracy: 0.6844\n",
      "Epoch 3/30\n",
      "8/8 [==============================] - 0s 24ms/step - loss: 0.3857 - categorical_accuracy: 0.9200\n",
      "Epoch 4/30\n",
      "8/8 [==============================] - 0s 24ms/step - loss: 0.3328 - categorical_accuracy: 0.8800\n",
      "Epoch 5/30\n",
      "8/8 [==============================] - 0s 24ms/step - loss: 0.2753 - categorical_accuracy: 0.9644\n",
      "Epoch 6/30\n",
      "8/8 [==============================] - 0s 27ms/step - loss: 0.1023 - categorical_accuracy: 0.9733\n",
      "Epoch 7/30\n",
      "8/8 [==============================] - 0s 24ms/step - loss: 0.0481 - categorical_accuracy: 0.9867\n",
      "Epoch 8/30\n",
      "8/8 [==============================] - 0s 24ms/step - loss: 0.0353 - categorical_accuracy: 0.9911\n",
      "Epoch 9/30\n",
      "8/8 [==============================] - 0s 25ms/step - loss: 0.2797 - categorical_accuracy: 0.9600\n",
      "Epoch 10/30\n",
      "8/8 [==============================] - 0s 24ms/step - loss: 0.0943 - categorical_accuracy: 0.9867\n",
      "Epoch 11/30\n",
      "8/8 [==============================] - 0s 24ms/step - loss: 0.0415 - categorical_accuracy: 0.9911\n",
      "Epoch 12/30\n",
      "8/8 [==============================] - 0s 25ms/step - loss: 0.0114 - categorical_accuracy: 1.0000\n",
      "Epoch 13/30\n",
      "8/8 [==============================] - 0s 24ms/step - loss: 4.1527e-04 - categorical_accuracy: 1.0000\n",
      "Epoch 14/30\n",
      "8/8 [==============================] - 0s 24ms/step - loss: 9.0505e-05 - categorical_accuracy: 1.0000\n",
      "Epoch 15/30\n",
      "8/8 [==============================] - 0s 25ms/step - loss: 2.1151e-05 - categorical_accuracy: 1.0000\n",
      "Epoch 16/30\n",
      "8/8 [==============================] - 0s 24ms/step - loss: 3.8437e-06 - categorical_accuracy: 1.0000\n",
      "Epoch 17/30\n",
      "8/8 [==============================] - 0s 25ms/step - loss: 1.6783e-06 - categorical_accuracy: 1.0000\n",
      "Epoch 18/30\n",
      "8/8 [==============================] - 0s 24ms/step - loss: 1.0718e-06 - categorical_accuracy: 1.0000\n",
      "Epoch 19/30\n",
      "8/8 [==============================] - 0s 26ms/step - loss: 8.7522e-07 - categorical_accuracy: 1.0000\n",
      "Epoch 20/30\n",
      "8/8 [==============================] - 0s 25ms/step - loss: 6.4900e-07 - categorical_accuracy: 1.0000\n",
      "Epoch 21/30\n",
      "8/8 [==============================] - 0s 24ms/step - loss: 5.8172e-07 - categorical_accuracy: 1.0000\n",
      "Epoch 22/30\n",
      "8/8 [==============================] - 0s 28ms/step - loss: 4.4768e-07 - categorical_accuracy: 1.0000\n",
      "Epoch 23/30\n",
      "8/8 [==============================] - 0s 27ms/step - loss: 3.6715e-07 - categorical_accuracy: 1.0000\n",
      "Epoch 24/30\n",
      "8/8 [==============================] - 0s 24ms/step - loss: 3.2159e-07 - categorical_accuracy: 1.0000\n",
      "Epoch 25/30\n",
      "8/8 [==============================] - 0s 24ms/step - loss: 2.8451e-07 - categorical_accuracy: 1.0000\n",
      "Epoch 26/30\n",
      "8/8 [==============================] - 0s 25ms/step - loss: 2.5378e-07 - categorical_accuracy: 1.0000\n",
      "Epoch 27/30\n",
      "8/8 [==============================] - 0s 25ms/step - loss: 2.1245e-07 - categorical_accuracy: 1.0000\n",
      "Epoch 28/30\n",
      "8/8 [==============================] - 0s 24ms/step - loss: 1.9020e-07 - categorical_accuracy: 1.0000\n",
      "Epoch 29/30\n",
      "8/8 [==============================] - 0s 24ms/step - loss: 1.7484e-07 - categorical_accuracy: 1.0000\n",
      "Epoch 30/30\n",
      "8/8 [==============================] - 0s 24ms/step - loss: 1.5523e-07 - categorical_accuracy: 1.0000\n"
     ]
    }
   ],
   "source": [
    "m1stats = {}\n",
    "startTime = time()\n",
    "model_1.fit(X_train, y_train, epochs=30)\n",
    "m1stats['trainingTime'] = time() - startTime"
   ]
  },
  {
   "cell_type": "code",
   "execution_count": 125,
   "metadata": {},
   "outputs": [
    {
     "name": "stdout",
     "output_type": "stream",
     "text": [
      "Model: \"sequential_30\"\n",
      "_________________________________________________________________\n",
      " Layer (type)                Output Shape              Param #   \n",
      "=================================================================\n",
      " lstm_11 (LSTM)              (None, 15, 64)            72704     \n",
      "                                                                 \n",
      " lstm_12 (LSTM)              (None, 15, 128)           98816     \n",
      "                                                                 \n",
      " lstm_13 (LSTM)              (None, 64)                49408     \n",
      "                                                                 \n",
      " dense_22 (Dense)            (None, 64)                4160      \n",
      "                                                                 \n",
      " dense_23 (Dense)            (None, 32)                2080      \n",
      "                                                                 \n",
      " dense_24 (Dense)            (None, 3)                 99        \n",
      "                                                                 \n",
      "=================================================================\n",
      "Total params: 227,267\n",
      "Trainable params: 227,267\n",
      "Non-trainable params: 0\n",
      "_________________________________________________________________\n"
     ]
    }
   ],
   "source": [
    "model_1.summary()"
   ]
  },
  {
   "cell_type": "code",
   "execution_count": 126,
   "metadata": {},
   "outputs": [
    {
     "name": "stdout",
     "output_type": "stream",
     "text": [
      "3/3 [==============================] - 1s 9ms/step\n"
     ]
    }
   ],
   "source": [
    "\n",
    "m1pred = model_1.predict(X_test)\n",
    "m1stats['testingTime'] = timeit(lambda: model_1.predict(X_test, verbose=0), number=testIter)"
   ]
  },
  {
   "cell_type": "code",
   "execution_count": 127,
   "metadata": {},
   "outputs": [],
   "source": [
    "y_actual = np.argmax(y_test, axis=1)\n",
    "y_predict = np.argmax(m1pred, axis=1)\n",
    "m1stats['accuracy'] = accuracy_score(y_actual, y_predict)\n",
    "stats['m1'] = m1stats"
   ]
  },
  {
   "cell_type": "code",
   "execution_count": 128,
   "metadata": {},
   "outputs": [
    {
     "data": {
      "text/plain": [
       "{'m1': {'trainingTime': 10.499933958053589,\n",
       "  'testingTime': 8.631413500000235,\n",
       "  'accuracy': 1.0},\n",
       " 'm2': {'trainingTime': 11.397534847259521,\n",
       "  'testingTime': 0.8976508999999169,\n",
       "  'accuracy': 1.0},\n",
       " 'm3': {'trainingTime': 9.294203758239746,\n",
       "  'testingTime': 0.994646499999817,\n",
       "  'accuracy': 1.0},\n",
       " 'm4': {'trainingTime': 8.696753978729248,\n",
       "  'testingTime': 0.8457244999999602,\n",
       "  'accuracy': 1.0}}"
      ]
     },
     "execution_count": 128,
     "metadata": {},
     "output_type": "execute_result"
    }
   ],
   "source": [
    "stats"
   ]
  },
  {
   "cell_type": "markdown",
   "metadata": {},
   "source": [
    "### LSTM + 2 GRU + 3 Dense"
   ]
  },
  {
   "cell_type": "code",
   "execution_count": 129,
   "metadata": {},
   "outputs": [],
   "source": [
    "model_2 = Sequential()\n",
    "model_2.add(kl.LSTM(units=64, activation='relu', return_sequences=True, input_shape=modelInputShape))\n",
    "model_2.add(kl.GRU(128, return_sequences=True))\n",
    "model_2.add(kl.GRU(units=64, return_sequences=False))\n",
    "model_2.add(kl.Dense(units=64, activation='relu'))\n",
    "model_2.add(kl.Dense(units=32, activation='relu'))\n",
    "model_2.add(kl.Dense(units=modelOutputShape, activation='softmax'))\n",
    "\n",
    "model_2.compile(optimizer='Adam', loss='categorical_crossentropy', metrics=['categorical_accuracy'])"
   ]
  },
  {
   "cell_type": "code",
   "execution_count": 130,
   "metadata": {},
   "outputs": [
    {
     "name": "stdout",
     "output_type": "stream",
     "text": [
      "Epoch 1/30\n"
     ]
    },
    {
     "name": "stdout",
     "output_type": "stream",
     "text": [
      "8/8 [==============================] - 5s 24ms/step - loss: 0.9976 - categorical_accuracy: 0.6133\n",
      "Epoch 2/30\n",
      "8/8 [==============================] - 0s 21ms/step - loss: 0.6614 - categorical_accuracy: 0.7956\n",
      "Epoch 3/30\n",
      "8/8 [==============================] - 0s 21ms/step - loss: 0.2545 - categorical_accuracy: 0.9511\n",
      "Epoch 4/30\n",
      "8/8 [==============================] - 0s 21ms/step - loss: 0.0813 - categorical_accuracy: 0.9822\n",
      "Epoch 5/30\n",
      "8/8 [==============================] - 0s 22ms/step - loss: 0.0399 - categorical_accuracy: 0.9956\n",
      "Epoch 6/30\n",
      "8/8 [==============================] - 0s 22ms/step - loss: 0.0305 - categorical_accuracy: 0.9956\n",
      "Epoch 7/30\n",
      "8/8 [==============================] - 0s 21ms/step - loss: 0.0280 - categorical_accuracy: 0.9956\n",
      "Epoch 8/30\n",
      "8/8 [==============================] - 0s 21ms/step - loss: 0.0213 - categorical_accuracy: 0.9956\n",
      "Epoch 9/30\n",
      "8/8 [==============================] - 0s 21ms/step - loss: 0.0074 - categorical_accuracy: 1.0000\n",
      "Epoch 10/30\n",
      "8/8 [==============================] - 0s 22ms/step - loss: 0.0356 - categorical_accuracy: 0.9867\n",
      "Epoch 11/30\n",
      "8/8 [==============================] - 0s 22ms/step - loss: 0.0506 - categorical_accuracy: 0.9911\n",
      "Epoch 12/30\n",
      "8/8 [==============================] - 0s 22ms/step - loss: 0.0185 - categorical_accuracy: 0.9911\n",
      "Epoch 13/30\n",
      "8/8 [==============================] - 0s 21ms/step - loss: 0.0083 - categorical_accuracy: 0.9956\n",
      "Epoch 14/30\n",
      "8/8 [==============================] - 0s 21ms/step - loss: 0.0031 - categorical_accuracy: 1.0000\n",
      "Epoch 15/30\n",
      "8/8 [==============================] - 0s 22ms/step - loss: 0.0012 - categorical_accuracy: 1.0000\n",
      "Epoch 16/30\n",
      "8/8 [==============================] - 0s 28ms/step - loss: 8.9464e-04 - categorical_accuracy: 1.0000\n",
      "Epoch 17/30\n",
      "8/8 [==============================] - 0s 26ms/step - loss: 7.3915e-04 - categorical_accuracy: 1.0000\n",
      "Epoch 18/30\n",
      "8/8 [==============================] - 0s 23ms/step - loss: 6.2724e-04 - categorical_accuracy: 1.0000\n",
      "Epoch 19/30\n",
      "8/8 [==============================] - 0s 20ms/step - loss: 5.3975e-04 - categorical_accuracy: 1.0000\n",
      "Epoch 20/30\n",
      "8/8 [==============================] - 0s 22ms/step - loss: 4.6861e-04 - categorical_accuracy: 1.0000\n",
      "Epoch 21/30\n",
      "8/8 [==============================] - 0s 21ms/step - loss: 4.1382e-04 - categorical_accuracy: 1.0000\n",
      "Epoch 22/30\n",
      "8/8 [==============================] - 0s 21ms/step - loss: 3.7339e-04 - categorical_accuracy: 1.0000\n",
      "Epoch 23/30\n",
      "8/8 [==============================] - 0s 24ms/step - loss: 3.3902e-04 - categorical_accuracy: 1.0000\n",
      "Epoch 24/30\n",
      "8/8 [==============================] - 0s 21ms/step - loss: 3.1047e-04 - categorical_accuracy: 1.0000\n",
      "Epoch 25/30\n",
      "8/8 [==============================] - 0s 22ms/step - loss: 2.8575e-04 - categorical_accuracy: 1.0000\n",
      "Epoch 26/30\n",
      "8/8 [==============================] - 0s 21ms/step - loss: 2.6627e-04 - categorical_accuracy: 1.0000\n",
      "Epoch 27/30\n",
      "8/8 [==============================] - 0s 22ms/step - loss: 2.4800e-04 - categorical_accuracy: 1.0000\n",
      "Epoch 28/30\n",
      "8/8 [==============================] - 0s 22ms/step - loss: 2.3171e-04 - categorical_accuracy: 1.0000\n",
      "Epoch 29/30\n",
      "8/8 [==============================] - 0s 23ms/step - loss: 2.1741e-04 - categorical_accuracy: 1.0000\n",
      "Epoch 30/30\n",
      "8/8 [==============================] - 0s 22ms/step - loss: 2.0485e-04 - categorical_accuracy: 1.0000\n"
     ]
    }
   ],
   "source": [
    "m2stats = {}\n",
    "startTime = time()\n",
    "model_2.fit(X_train, y_train, epochs=30)\n",
    "m2stats['trainingTime'] = time() - startTime"
   ]
  },
  {
   "cell_type": "code",
   "execution_count": 131,
   "metadata": {},
   "outputs": [
    {
     "name": "stdout",
     "output_type": "stream",
     "text": [
      "Model: \"sequential_31\"\n",
      "_________________________________________________________________\n",
      " Layer (type)                Output Shape              Param #   \n",
      "=================================================================\n",
      " lstm_14 (LSTM)              (None, 15, 64)            72704     \n",
      "                                                                 \n",
      " gru_7 (GRU)                 (None, 15, 128)           74496     \n",
      "                                                                 \n",
      " gru_8 (GRU)                 (None, 64)                37248     \n",
      "                                                                 \n",
      " dense_25 (Dense)            (None, 64)                4160      \n",
      "                                                                 \n",
      " dense_26 (Dense)            (None, 32)                2080      \n",
      "                                                                 \n",
      " dense_27 (Dense)            (None, 3)                 99        \n",
      "                                                                 \n",
      "=================================================================\n",
      "Total params: 190,787\n",
      "Trainable params: 190,787\n",
      "Non-trainable params: 0\n",
      "_________________________________________________________________\n"
     ]
    }
   ],
   "source": [
    "model_2.summary()"
   ]
  },
  {
   "cell_type": "code",
   "execution_count": 132,
   "metadata": {},
   "outputs": [
    {
     "name": "stdout",
     "output_type": "stream",
     "text": [
      "3/3 [==============================] - 1s 10ms/step\n"
     ]
    }
   ],
   "source": [
    "\n",
    "m2pred = model_2.predict(X_test)\n",
    "m2stats['testingTime'] = timeit(lambda: model_2.predict(X_test, verbose=0), number=testIter)\n",
    "\n",
    "y_actual = np.argmax(y_test, axis=1)\n",
    "y_predict = np.argmax(m2pred, axis=1)\n",
    "m2stats['accuracy'] = accuracy_score(y_actual, y_predict)\n",
    "stats['m2'] = m2stats"
   ]
  },
  {
   "cell_type": "code",
   "execution_count": 133,
   "metadata": {},
   "outputs": [
    {
     "data": {
      "text/plain": [
       "{'m1': {'trainingTime': 10.499933958053589,\n",
       "  'testingTime': 8.631413500000235,\n",
       "  'accuracy': 1.0},\n",
       " 'm2': {'trainingTime': 10.625319004058838,\n",
       "  'testingTime': 8.265981300000021,\n",
       "  'accuracy': 1.0},\n",
       " 'm3': {'trainingTime': 9.294203758239746,\n",
       "  'testingTime': 0.994646499999817,\n",
       "  'accuracy': 1.0},\n",
       " 'm4': {'trainingTime': 8.696753978729248,\n",
       "  'testingTime': 0.8457244999999602,\n",
       "  'accuracy': 1.0}}"
      ]
     },
     "execution_count": 133,
     "metadata": {},
     "output_type": "execute_result"
    }
   ],
   "source": [
    "stats"
   ]
  },
  {
   "cell_type": "markdown",
   "metadata": {},
   "source": [
    "### ANother"
   ]
  },
  {
   "cell_type": "code",
   "execution_count": 136,
   "metadata": {},
   "outputs": [
    {
     "name": "stdout",
     "output_type": "stream",
     "text": [
      "Epoch 1/30\n",
      "8/8 [==============================] - 5s 22ms/step - loss: 0.9907 - categorical_accuracy: 0.5333\n",
      "Epoch 2/30\n",
      "8/8 [==============================] - 0s 20ms/step - loss: 0.7477 - categorical_accuracy: 0.6578\n",
      "Epoch 3/30\n",
      "8/8 [==============================] - 0s 22ms/step - loss: 0.4305 - categorical_accuracy: 0.9289\n",
      "Epoch 4/30\n",
      "8/8 [==============================] - 0s 20ms/step - loss: 0.1765 - categorical_accuracy: 0.9733\n",
      "Epoch 5/30\n",
      "8/8 [==============================] - 0s 19ms/step - loss: 0.0698 - categorical_accuracy: 0.9867\n",
      "Epoch 6/30\n",
      "8/8 [==============================] - 0s 20ms/step - loss: 0.0251 - categorical_accuracy: 0.9956\n",
      "Epoch 7/30\n",
      "8/8 [==============================] - 0s 18ms/step - loss: 0.0097 - categorical_accuracy: 1.0000\n",
      "Epoch 8/30\n",
      "8/8 [==============================] - 0s 20ms/step - loss: 0.0079 - categorical_accuracy: 1.0000\n",
      "Epoch 9/30\n",
      "8/8 [==============================] - 0s 20ms/step - loss: 0.0066 - categorical_accuracy: 1.0000\n",
      "Epoch 10/30\n",
      "8/8 [==============================] - 0s 23ms/step - loss: 0.0022 - categorical_accuracy: 1.0000\n",
      "Epoch 11/30\n",
      "8/8 [==============================] - 0s 20ms/step - loss: 0.0025 - categorical_accuracy: 1.0000\n",
      "Epoch 12/30\n",
      "8/8 [==============================] - 0s 28ms/step - loss: 0.0014 - categorical_accuracy: 1.0000\n",
      "Epoch 13/30\n",
      "8/8 [==============================] - 0s 20ms/step - loss: 0.0012 - categorical_accuracy: 1.0000\n",
      "Epoch 14/30\n",
      "8/8 [==============================] - 0s 19ms/step - loss: 0.0010 - categorical_accuracy: 1.0000\n",
      "Epoch 15/30\n",
      "8/8 [==============================] - 0s 20ms/step - loss: 9.2720e-04 - categorical_accuracy: 1.0000\n",
      "Epoch 16/30\n",
      "8/8 [==============================] - 0s 20ms/step - loss: 8.3793e-04 - categorical_accuracy: 1.0000\n",
      "Epoch 17/30\n",
      "8/8 [==============================] - 0s 21ms/step - loss: 7.6135e-04 - categorical_accuracy: 1.0000\n",
      "Epoch 18/30\n",
      "8/8 [==============================] - 0s 20ms/step - loss: 6.9901e-04 - categorical_accuracy: 1.0000\n",
      "Epoch 19/30\n",
      "8/8 [==============================] - 0s 19ms/step - loss: 6.4249e-04 - categorical_accuracy: 1.0000\n",
      "Epoch 20/30\n",
      "8/8 [==============================] - 0s 20ms/step - loss: 5.9278e-04 - categorical_accuracy: 1.0000\n",
      "Epoch 21/30\n",
      "8/8 [==============================] - 0s 19ms/step - loss: 5.4362e-04 - categorical_accuracy: 1.0000\n",
      "Epoch 22/30\n",
      "8/8 [==============================] - 0s 26ms/step - loss: 5.0060e-04 - categorical_accuracy: 1.0000\n",
      "Epoch 23/30\n",
      "8/8 [==============================] - 0s 20ms/step - loss: 4.6529e-04 - categorical_accuracy: 1.0000\n",
      "Epoch 24/30\n",
      "8/8 [==============================] - 0s 19ms/step - loss: 4.3277e-04 - categorical_accuracy: 1.0000\n",
      "Epoch 25/30\n",
      "8/8 [==============================] - 0s 19ms/step - loss: 4.0435e-04 - categorical_accuracy: 1.0000\n",
      "Epoch 26/30\n",
      "8/8 [==============================] - 0s 20ms/step - loss: 3.7835e-04 - categorical_accuracy: 1.0000\n",
      "Epoch 27/30\n",
      "8/8 [==============================] - 0s 19ms/step - loss: 3.5494e-04 - categorical_accuracy: 1.0000\n",
      "Epoch 28/30\n",
      "8/8 [==============================] - 0s 19ms/step - loss: 3.3342e-04 - categorical_accuracy: 1.0000\n",
      "Epoch 29/30\n",
      "8/8 [==============================] - 0s 19ms/step - loss: 3.1278e-04 - categorical_accuracy: 1.0000\n",
      "Epoch 30/30\n",
      "8/8 [==============================] - 0s 19ms/step - loss: 2.9543e-04 - categorical_accuracy: 1.0000\n"
     ]
    }
   ],
   "source": [
    "model_3 = Sequential()\n",
    "model_3.add(kl.LSTM(units=64, activation='relu', return_sequences=True, input_shape=modelInputShape))\n",
    "model_3.add(kl.GRU(128, return_sequences=True))\n",
    "model_3.add(kl.SimpleRNN(units=64, return_sequences=False))\n",
    "model_3.add(kl.Dense(units=64, activation='relu'))\n",
    "model_3.add(kl.Dense(units=32, activation='relu'))\n",
    "model_3.add(kl.Dense(units=modelOutputShape, activation='softmax'))\n",
    "\n",
    "model_3.compile(optimizer='Adam', loss='categorical_crossentropy', metrics=['categorical_accuracy'])\n",
    "\n",
    "m3stats = {}\n",
    "startTime = time()\n",
    "model_3.fit(X_train, y_train, epochs=30)\n",
    "m3stats['trainingTime'] = time() - startTime"
   ]
  },
  {
   "cell_type": "code",
   "execution_count": 137,
   "metadata": {},
   "outputs": [
    {
     "name": "stdout",
     "output_type": "stream",
     "text": [
      "3/3 [==============================] - 1s 12ms/step\n"
     ]
    }
   ],
   "source": [
    "\n",
    "m3pred = model_3.predict(X_test)\n",
    "m3stats['testingTime'] = timeit(lambda: model_3.predict(X_test, verbose=0), number=testIter)\n",
    "\n",
    "y_actual = np.argmax(y_test, axis=1)\n",
    "y_predict = np.argmax(m3pred, axis=1)\n",
    "m3stats['accuracy'] = accuracy_score(y_actual, y_predict)\n",
    "stats['m3'] = m3stats"
   ]
  },
  {
   "cell_type": "code",
   "execution_count": 138,
   "metadata": {},
   "outputs": [
    {
     "name": "stdout",
     "output_type": "stream",
     "text": [
      "Model: \"sequential_32\"\n",
      "_________________________________________________________________\n",
      " Layer (type)                Output Shape              Param #   \n",
      "=================================================================\n",
      " lstm_15 (LSTM)              (None, 15, 64)            72704     \n",
      "                                                                 \n",
      " gru_9 (GRU)                 (None, 15, 128)           74496     \n",
      "                                                                 \n",
      " simple_rnn_3 (SimpleRNN)    (None, 64)                12352     \n",
      "                                                                 \n",
      " dense_28 (Dense)            (None, 64)                4160      \n",
      "                                                                 \n",
      " dense_29 (Dense)            (None, 32)                2080      \n",
      "                                                                 \n",
      " dense_30 (Dense)            (None, 3)                 99        \n",
      "                                                                 \n",
      "=================================================================\n",
      "Total params: 165,891\n",
      "Trainable params: 165,891\n",
      "Non-trainable params: 0\n",
      "_________________________________________________________________\n"
     ]
    }
   ],
   "source": [
    "model_3.summary()"
   ]
  },
  {
   "cell_type": "code",
   "execution_count": 139,
   "metadata": {},
   "outputs": [
    {
     "data": {
      "text/plain": [
       "{'m1': {'trainingTime': 10.499933958053589,\n",
       "  'testingTime': 8.631413500000235,\n",
       "  'accuracy': 1.0},\n",
       " 'm2': {'trainingTime': 10.625319004058838,\n",
       "  'testingTime': 8.265981300000021,\n",
       "  'accuracy': 1.0},\n",
       " 'm3': {'trainingTime': 9.543492317199707,\n",
       "  'testingTime': 8.724061399999755,\n",
       "  'accuracy': 1.0},\n",
       " 'm4': {'trainingTime': 8.696753978729248,\n",
       "  'testingTime': 0.8457244999999602,\n",
       "  'accuracy': 1.0}}"
      ]
     },
     "execution_count": 139,
     "metadata": {},
     "output_type": "execute_result"
    }
   ],
   "source": [
    "stats"
   ]
  },
  {
   "cell_type": "markdown",
   "metadata": {},
   "source": [
    "### ANother"
   ]
  },
  {
   "cell_type": "code",
   "execution_count": 140,
   "metadata": {},
   "outputs": [
    {
     "name": "stdout",
     "output_type": "stream",
     "text": [
      "Epoch 1/30\n",
      "8/8 [==============================] - 4s 21ms/step - loss: 1.0222 - categorical_accuracy: 0.4800\n",
      "Epoch 2/30\n",
      "8/8 [==============================] - 0s 20ms/step - loss: 0.6823 - categorical_accuracy: 0.8356\n",
      "Epoch 3/30\n",
      "8/8 [==============================] - 0s 21ms/step - loss: 0.2846 - categorical_accuracy: 0.9733\n",
      "Epoch 4/30\n",
      "8/8 [==============================] - 0s 22ms/step - loss: 0.0906 - categorical_accuracy: 0.9867\n",
      "Epoch 5/30\n",
      "8/8 [==============================] - 0s 21ms/step - loss: 0.0358 - categorical_accuracy: 0.9911\n",
      "Epoch 6/30\n",
      "8/8 [==============================] - 0s 21ms/step - loss: 0.0213 - categorical_accuracy: 0.9956\n",
      "Epoch 7/30\n",
      "8/8 [==============================] - 0s 22ms/step - loss: 0.0087 - categorical_accuracy: 1.0000\n",
      "Epoch 8/30\n",
      "8/8 [==============================] - 0s 22ms/step - loss: 0.0030 - categorical_accuracy: 1.0000\n",
      "Epoch 9/30\n",
      "8/8 [==============================] - 0s 22ms/step - loss: 0.0101 - categorical_accuracy: 0.9956\n",
      "Epoch 10/30\n",
      "8/8 [==============================] - 0s 23ms/step - loss: 0.0018 - categorical_accuracy: 1.0000\n",
      "Epoch 11/30\n",
      "8/8 [==============================] - 0s 21ms/step - loss: 0.0095 - categorical_accuracy: 0.9956\n",
      "Epoch 12/30\n",
      "8/8 [==============================] - 0s 27ms/step - loss: 0.0384 - categorical_accuracy: 0.9911\n",
      "Epoch 13/30\n",
      "8/8 [==============================] - 0s 22ms/step - loss: 0.0417 - categorical_accuracy: 0.9778\n",
      "Epoch 14/30\n",
      "8/8 [==============================] - 0s 24ms/step - loss: 0.1094 - categorical_accuracy: 0.9822\n",
      "Epoch 15/30\n",
      "8/8 [==============================] - 0s 23ms/step - loss: 0.0070 - categorical_accuracy: 1.0000\n",
      "Epoch 16/30\n",
      "8/8 [==============================] - 0s 21ms/step - loss: 0.0033 - categorical_accuracy: 1.0000\n",
      "Epoch 17/30\n",
      "8/8 [==============================] - 0s 21ms/step - loss: 0.0071 - categorical_accuracy: 0.9956\n",
      "Epoch 18/30\n",
      "8/8 [==============================] - 0s 22ms/step - loss: 0.0020 - categorical_accuracy: 1.0000\n",
      "Epoch 19/30\n",
      "8/8 [==============================] - 0s 23ms/step - loss: 0.0016 - categorical_accuracy: 1.0000\n",
      "Epoch 20/30\n",
      "8/8 [==============================] - 0s 25ms/step - loss: 0.0011 - categorical_accuracy: 1.0000\n",
      "Epoch 21/30\n",
      "8/8 [==============================] - 0s 22ms/step - loss: 9.0069e-04 - categorical_accuracy: 1.0000\n",
      "Epoch 22/30\n",
      "8/8 [==============================] - 0s 22ms/step - loss: 7.3940e-04 - categorical_accuracy: 1.0000\n",
      "Epoch 23/30\n",
      "8/8 [==============================] - 0s 22ms/step - loss: 6.7667e-04 - categorical_accuracy: 1.0000\n",
      "Epoch 24/30\n",
      "8/8 [==============================] - 0s 24ms/step - loss: 6.4125e-04 - categorical_accuracy: 1.0000\n",
      "Epoch 25/30\n",
      "8/8 [==============================] - 0s 22ms/step - loss: 6.2641e-04 - categorical_accuracy: 1.0000\n",
      "Epoch 26/30\n",
      "8/8 [==============================] - 0s 22ms/step - loss: 4.8569e-04 - categorical_accuracy: 1.0000\n",
      "Epoch 27/30\n",
      "8/8 [==============================] - 0s 22ms/step - loss: 4.7010e-04 - categorical_accuracy: 1.0000\n",
      "Epoch 28/30\n",
      "8/8 [==============================] - 0s 21ms/step - loss: 4.9711e-04 - categorical_accuracy: 1.0000\n",
      "Epoch 29/30\n",
      "8/8 [==============================] - 0s 21ms/step - loss: 4.9069e-04 - categorical_accuracy: 1.0000\n",
      "Epoch 30/30\n",
      "8/8 [==============================] - 0s 23ms/step - loss: 4.0595e-04 - categorical_accuracy: 1.0000\n"
     ]
    }
   ],
   "source": [
    "model_4 = Sequential()\n",
    "model_4.add(kl.LSTM(units=64, activation='relu', return_sequences=True, input_shape=modelInputShape))\n",
    "model_4.add(kl.GRU(128, return_sequences=True))\n",
    "model_4.add(kl.SimpleRNN(units=64, return_sequences=False))\n",
    "model_4.add(kl.Dropout(.2))\n",
    "model_4.add(kl.Dense(units=64, activation='relu'))\n",
    "model_4.add(kl.Dense(units=32, activation='relu'))\n",
    "model_4.add(kl.Dense(units=modelOutputShape, activation='softmax'))\n",
    "\n",
    "model_4.compile(optimizer='Adam', loss='categorical_crossentropy', metrics=['categorical_accuracy'])\n",
    "\n",
    "m4stats = {}\n",
    "startTime = time()\n",
    "model_4.fit(X_train, y_train, epochs=30)\n",
    "m4stats['trainingTime'] = time() - startTime"
   ]
  },
  {
   "cell_type": "code",
   "execution_count": 141,
   "metadata": {},
   "outputs": [
    {
     "name": "stdout",
     "output_type": "stream",
     "text": [
      "3/3 [==============================] - 1s 9ms/step\n"
     ]
    }
   ],
   "source": [
    "\n",
    "m4pred = model_4.predict(X_test)\n",
    "m4stats['testingTime'] = timeit(lambda: model_4.predict(X_test, verbose=0), number=testIter)\n",
    "\n",
    "y_actual = np.argmax(y_test, axis=1)\n",
    "y_predict = np.argmax(m4pred, axis=1)\n",
    "m4stats['accuracy'] = accuracy_score(y_actual, y_predict)\n",
    "stats['m4'] = m4stats"
   ]
  },
  {
   "cell_type": "code",
   "execution_count": 142,
   "metadata": {},
   "outputs": [
    {
     "name": "stdout",
     "output_type": "stream",
     "text": [
      "Model: \"sequential_33\"\n",
      "_________________________________________________________________\n",
      " Layer (type)                Output Shape              Param #   \n",
      "=================================================================\n",
      " lstm_16 (LSTM)              (None, 15, 64)            72704     \n",
      "                                                                 \n",
      " gru_10 (GRU)                (None, 15, 128)           74496     \n",
      "                                                                 \n",
      " simple_rnn_4 (SimpleRNN)    (None, 64)                12352     \n",
      "                                                                 \n",
      " dropout_2 (Dropout)         (None, 64)                0         \n",
      "                                                                 \n",
      " dense_31 (Dense)            (None, 64)                4160      \n",
      "                                                                 \n",
      " dense_32 (Dense)            (None, 32)                2080      \n",
      "                                                                 \n",
      " dense_33 (Dense)            (None, 3)                 99        \n",
      "                                                                 \n",
      "=================================================================\n",
      "Total params: 165,891\n",
      "Trainable params: 165,891\n",
      "Non-trainable params: 0\n",
      "_________________________________________________________________\n"
     ]
    }
   ],
   "source": [
    "model_4.summary()"
   ]
  },
  {
   "cell_type": "code",
   "execution_count": 143,
   "metadata": {},
   "outputs": [
    {
     "data": {
      "text/plain": [
       "{'m1': {'trainingTime': 10.499933958053589,\n",
       "  'testingTime': 8.631413500000235,\n",
       "  'accuracy': 1.0},\n",
       " 'm2': {'trainingTime': 10.625319004058838,\n",
       "  'testingTime': 8.265981300000021,\n",
       "  'accuracy': 1.0},\n",
       " 'm3': {'trainingTime': 9.543492317199707,\n",
       "  'testingTime': 8.724061399999755,\n",
       "  'accuracy': 1.0},\n",
       " 'm4': {'trainingTime': 9.670153617858887,\n",
       "  'testingTime': 8.14717870000004,\n",
       "  'accuracy': 1.0}}"
      ]
     },
     "execution_count": 143,
     "metadata": {},
     "output_type": "execute_result"
    }
   ],
   "source": [
    "stats"
   ]
  },
  {
   "cell_type": "markdown",
   "metadata": {},
   "source": [
    "### Another Git"
   ]
  },
  {
   "cell_type": "code",
   "execution_count": 144,
   "metadata": {},
   "outputs": [
    {
     "name": "stdout",
     "output_type": "stream",
     "text": [
      "Epoch 1/30\n",
      "8/8 [==============================] - 6s 24ms/step - loss: 0.8578 - categorical_accuracy: 0.5911\n",
      "Epoch 2/30\n",
      "8/8 [==============================] - 0s 24ms/step - loss: 0.5598 - categorical_accuracy: 0.7956\n",
      "Epoch 3/30\n",
      "8/8 [==============================] - 0s 24ms/step - loss: 0.3044 - categorical_accuracy: 0.8711\n",
      "Epoch 4/30\n",
      "8/8 [==============================] - 0s 25ms/step - loss: 0.1358 - categorical_accuracy: 0.9822\n",
      "Epoch 5/30\n",
      "8/8 [==============================] - 0s 25ms/step - loss: 0.0543 - categorical_accuracy: 0.9911\n",
      "Epoch 6/30\n",
      "8/8 [==============================] - 0s 24ms/step - loss: 0.0446 - categorical_accuracy: 0.9867\n",
      "Epoch 7/30\n",
      "8/8 [==============================] - 0s 25ms/step - loss: 0.0210 - categorical_accuracy: 0.9911\n",
      "Epoch 8/30\n",
      "8/8 [==============================] - 0s 24ms/step - loss: 0.0069 - categorical_accuracy: 1.0000\n",
      "Epoch 9/30\n",
      "8/8 [==============================] - 0s 24ms/step - loss: 0.0031 - categorical_accuracy: 1.0000\n",
      "Epoch 10/30\n",
      "8/8 [==============================] - 0s 25ms/step - loss: 0.0026 - categorical_accuracy: 1.0000\n",
      "Epoch 11/30\n",
      "8/8 [==============================] - 0s 26ms/step - loss: 0.0016 - categorical_accuracy: 1.0000\n",
      "Epoch 12/30\n",
      "8/8 [==============================] - 0s 27ms/step - loss: 0.0015 - categorical_accuracy: 1.0000\n",
      "Epoch 13/30\n",
      "8/8 [==============================] - 0s 25ms/step - loss: 8.6896e-04 - categorical_accuracy: 1.0000\n",
      "Epoch 14/30\n",
      "8/8 [==============================] - 0s 25ms/step - loss: 6.2760e-04 - categorical_accuracy: 1.0000\n",
      "Epoch 15/30\n",
      "8/8 [==============================] - 0s 32ms/step - loss: 6.7844e-04 - categorical_accuracy: 1.0000\n",
      "Epoch 16/30\n",
      "8/8 [==============================] - 0s 28ms/step - loss: 5.8780e-04 - categorical_accuracy: 1.0000\n",
      "Epoch 17/30\n",
      "8/8 [==============================] - 0s 27ms/step - loss: 6.3568e-04 - categorical_accuracy: 1.0000\n",
      "Epoch 18/30\n",
      "8/8 [==============================] - 0s 26ms/step - loss: 5.3081e-04 - categorical_accuracy: 1.0000\n",
      "Epoch 19/30\n",
      "8/8 [==============================] - 0s 25ms/step - loss: 5.3808e-04 - categorical_accuracy: 1.0000\n",
      "Epoch 20/30\n",
      "8/8 [==============================] - 0s 27ms/step - loss: 4.4762e-04 - categorical_accuracy: 1.0000\n",
      "Epoch 21/30\n",
      "8/8 [==============================] - 0s 25ms/step - loss: 4.6028e-04 - categorical_accuracy: 1.0000\n",
      "Epoch 22/30\n",
      "8/8 [==============================] - 0s 25ms/step - loss: 4.5265e-04 - categorical_accuracy: 1.0000\n",
      "Epoch 23/30\n",
      "8/8 [==============================] - 0s 27ms/step - loss: 3.2791e-04 - categorical_accuracy: 1.0000\n",
      "Epoch 24/30\n",
      "8/8 [==============================] - 0s 28ms/step - loss: 3.4834e-04 - categorical_accuracy: 1.0000\n",
      "Epoch 25/30\n",
      "8/8 [==============================] - 0s 26ms/step - loss: 3.6852e-04 - categorical_accuracy: 1.0000\n",
      "Epoch 26/30\n",
      "8/8 [==============================] - 0s 36ms/step - loss: 3.6554e-04 - categorical_accuracy: 1.0000\n",
      "Epoch 27/30\n",
      "8/8 [==============================] - 0s 26ms/step - loss: 2.9308e-04 - categorical_accuracy: 1.0000\n",
      "Epoch 28/30\n",
      "8/8 [==============================] - 0s 24ms/step - loss: 3.6968e-04 - categorical_accuracy: 1.0000\n",
      "Epoch 29/30\n",
      "8/8 [==============================] - 0s 24ms/step - loss: 2.8470e-04 - categorical_accuracy: 1.0000\n",
      "Epoch 30/30\n",
      "8/8 [==============================] - 0s 24ms/step - loss: 2.4208e-04 - categorical_accuracy: 1.0000\n"
     ]
    }
   ],
   "source": [
    "\n",
    "\n",
    "model_5 = Sequential()\n",
    "model_5.add(kl.LSTM(units=64, activation='relu', return_sequences=True, input_shape=modelInputShape))\n",
    "model_5.add(kl.GRU(128, return_sequences=True))\n",
    "model_5.add(kl.SimpleRNN(units=64, return_sequences=False))\n",
    "model_5.add(kl.Flatten())\n",
    "model_5.add(kl.Dense(units=128, activation='relu'))\n",
    "model_5.add(kl.Dropout(0.2))\n",
    "model_5.add(kl.Dense(units=modelOutputShape, activation='softmax'))\n",
    "\n",
    "model_5.compile(optimizer='Adam', loss='categorical_crossentropy', metrics=['categorical_accuracy'])\n",
    "\n",
    "m5stats = {}\n",
    "startTime = time()\n",
    "model_5.fit(X_train, y_train, epochs=30)\n",
    "m5stats['trainingTime'] = time() - startTime\n"
   ]
  },
  {
   "cell_type": "code",
   "execution_count": 148,
   "metadata": {},
   "outputs": [
    {
     "name": "stdout",
     "output_type": "stream",
     "text": [
      "1/3 [=========>....................] - ETA: 0s"
     ]
    },
    {
     "name": "stdout",
     "output_type": "stream",
     "text": [
      "3/3 [==============================] - 0s 10ms/step\n"
     ]
    }
   ],
   "source": [
    "\n",
    "m5pred = model_5.predict(X_test)\n",
    "m5stats['testingTime'] = timeit(lambda: model_5.predict(X_test, verbose=0), number=testIter)\n",
    "\n",
    "y_actual = np.argmax(y_test, axis=1)\n",
    "y_predict = np.argmax(m5pred, axis=1)\n",
    "m5stats['accuracy'] = accuracy_score(y_actual, y_predict)\n",
    "stats['m5'] = m5stats"
   ]
  },
  {
   "cell_type": "code",
   "execution_count": 149,
   "metadata": {},
   "outputs": [
    {
     "name": "stdout",
     "output_type": "stream",
     "text": [
      "Model: \"sequential_34\"\n",
      "_________________________________________________________________\n",
      " Layer (type)                Output Shape              Param #   \n",
      "=================================================================\n",
      " lstm_17 (LSTM)              (None, 15, 64)            72704     \n",
      "                                                                 \n",
      " gru_11 (GRU)                (None, 15, 128)           74496     \n",
      "                                                                 \n",
      " simple_rnn_5 (SimpleRNN)    (None, 64)                12352     \n",
      "                                                                 \n",
      " flatten (Flatten)           (None, 64)                0         \n",
      "                                                                 \n",
      " dense_34 (Dense)            (None, 128)               8320      \n",
      "                                                                 \n",
      " dropout_3 (Dropout)         (None, 128)               0         \n",
      "                                                                 \n",
      " dense_35 (Dense)            (None, 3)                 387       \n",
      "                                                                 \n",
      "=================================================================\n",
      "Total params: 168,259\n",
      "Trainable params: 168,259\n",
      "Non-trainable params: 0\n",
      "_________________________________________________________________\n"
     ]
    }
   ],
   "source": [
    "model_5.summary()"
   ]
  },
  {
   "cell_type": "code",
   "execution_count": 150,
   "metadata": {},
   "outputs": [
    {
     "data": {
      "text/plain": [
       "{'m1': {'trainingTime': 10.499933958053589,\n",
       "  'testingTime': 8.631413500000235,\n",
       "  'accuracy': 1.0},\n",
       " 'm2': {'trainingTime': 10.625319004058838,\n",
       "  'testingTime': 8.265981300000021,\n",
       "  'accuracy': 1.0},\n",
       " 'm3': {'trainingTime': 9.543492317199707,\n",
       "  'testingTime': 8.724061399999755,\n",
       "  'accuracy': 1.0},\n",
       " 'm4': {'trainingTime': 9.670153617858887,\n",
       "  'testingTime': 8.14717870000004,\n",
       "  'accuracy': 1.0},\n",
       " 'm5': {'trainingTime': 12.172465085983276,\n",
       "  'testingTime': 8.930334700000003,\n",
       "  'accuracy': 1.0}}"
      ]
     },
     "execution_count": 150,
     "metadata": {},
     "output_type": "execute_result"
    }
   ],
   "source": [
    "stats"
   ]
  },
  {
   "cell_type": "markdown",
   "metadata": {},
   "source": [
    "### Another"
   ]
  },
  {
   "cell_type": "code",
   "execution_count": 151,
   "metadata": {},
   "outputs": [
    {
     "name": "stdout",
     "output_type": "stream",
     "text": [
      "Epoch 1/30\n",
      "8/8 [==============================] - 7s 32ms/step - loss: 1.0959 - categorical_accuracy: 0.3867\n",
      "Epoch 2/30\n",
      "8/8 [==============================] - 0s 35ms/step - loss: 1.0335 - categorical_accuracy: 0.5022\n",
      "Epoch 3/30\n",
      "8/8 [==============================] - 0s 34ms/step - loss: 0.6694 - categorical_accuracy: 0.7867\n",
      "Epoch 4/30\n",
      "8/8 [==============================] - 0s 34ms/step - loss: 0.3624 - categorical_accuracy: 0.9422\n",
      "Epoch 5/30\n",
      "8/8 [==============================] - 0s 34ms/step - loss: 0.2048 - categorical_accuracy: 0.9244\n",
      "Epoch 6/30\n",
      "8/8 [==============================] - 0s 39ms/step - loss: 0.1373 - categorical_accuracy: 0.9600\n",
      "Epoch 7/30\n",
      "8/8 [==============================] - 0s 37ms/step - loss: 0.1751 - categorical_accuracy: 0.9511\n",
      "Epoch 8/30\n",
      "8/8 [==============================] - 0s 34ms/step - loss: 0.2718 - categorical_accuracy: 0.9067\n",
      "Epoch 9/30\n",
      "8/8 [==============================] - 0s 33ms/step - loss: 0.2419 - categorical_accuracy: 0.8533\n",
      "Epoch 10/30\n",
      "8/8 [==============================] - 0s 34ms/step - loss: 0.1158 - categorical_accuracy: 0.9600\n",
      "Epoch 11/30\n",
      "8/8 [==============================] - 0s 54ms/step - loss: 0.0735 - categorical_accuracy: 0.9733\n",
      "Epoch 12/30\n",
      "8/8 [==============================] - 0s 35ms/step - loss: 0.0408 - categorical_accuracy: 0.9778\n",
      "Epoch 13/30\n",
      "8/8 [==============================] - 0s 33ms/step - loss: 0.0319 - categorical_accuracy: 0.9822\n",
      "Epoch 14/30\n",
      "8/8 [==============================] - 0s 34ms/step - loss: 0.0118 - categorical_accuracy: 1.0000\n",
      "Epoch 15/30\n",
      "8/8 [==============================] - 0s 43ms/step - loss: 0.0533 - categorical_accuracy: 0.9956\n",
      "Epoch 16/30\n",
      "8/8 [==============================] - 0s 33ms/step - loss: 0.0864 - categorical_accuracy: 0.9822\n",
      "Epoch 17/30\n",
      "8/8 [==============================] - 0s 33ms/step - loss: 0.0732 - categorical_accuracy: 0.9600\n",
      "Epoch 18/30\n",
      "8/8 [==============================] - 0s 35ms/step - loss: 0.2772 - categorical_accuracy: 0.9778\n",
      "Epoch 19/30\n",
      "8/8 [==============================] - 0s 33ms/step - loss: 0.4236 - categorical_accuracy: 0.8756\n",
      "Epoch 20/30\n",
      "8/8 [==============================] - 0s 34ms/step - loss: 2.6092 - categorical_accuracy: 0.8756\n",
      "Epoch 21/30\n",
      "8/8 [==============================] - 0s 37ms/step - loss: 0.3115 - categorical_accuracy: 0.9689\n",
      "Epoch 22/30\n",
      "8/8 [==============================] - 0s 33ms/step - loss: 0.3241 - categorical_accuracy: 0.9689\n",
      "Epoch 23/30\n",
      "8/8 [==============================] - 0s 32ms/step - loss: 0.1988 - categorical_accuracy: 0.9867\n",
      "Epoch 24/30\n",
      "8/8 [==============================] - 0s 34ms/step - loss: 0.3026 - categorical_accuracy: 0.9867\n",
      "Epoch 25/30\n",
      "8/8 [==============================] - 0s 32ms/step - loss: 3.7240 - categorical_accuracy: 0.9556\n",
      "Epoch 26/30\n",
      "8/8 [==============================] - 0s 34ms/step - loss: 0.3917 - categorical_accuracy: 0.9644\n",
      "Epoch 27/30\n",
      "8/8 [==============================] - 0s 33ms/step - loss: 0.1525 - categorical_accuracy: 0.9556\n",
      "Epoch 28/30\n",
      "8/8 [==============================] - 0s 34ms/step - loss: 0.1274 - categorical_accuracy: 0.9556\n",
      "Epoch 29/30\n",
      "8/8 [==============================] - 0s 31ms/step - loss: 0.0828 - categorical_accuracy: 0.9644\n",
      "Epoch 30/30\n",
      "8/8 [==============================] - 0s 34ms/step - loss: 0.0598 - categorical_accuracy: 0.9778\n"
     ]
    }
   ],
   "source": [
    "\n",
    "\n",
    "model_6 = Sequential()\n",
    "model_6.add(kl.LSTM(units=128, activation='swish', return_sequences=True, input_shape=modelInputShape))\n",
    "model_6.add(kl.LSTM(units=64, activation='swish', return_sequences=True))\n",
    "model_6.add(kl.LSTM(units=32, activation='swish', return_sequences=False))\n",
    "model_6.add(kl.Dropout(0.1))\n",
    "model_6.add(kl.Flatten())\n",
    "model_6.add(kl.Dense(units=modelOutputShape, activation='softmax'))\n",
    "\n",
    "model_6.compile(optimizer='Adam', loss='categorical_crossentropy', metrics=['categorical_accuracy'])\n",
    "\n",
    "m6stats = {}\n",
    "startTime = time()\n",
    "model_6.fit(X_train, y_train, epochs=30)\n",
    "m6stats['trainingTime'] = time() - startTime\n"
   ]
  },
  {
   "cell_type": "code",
   "execution_count": 152,
   "metadata": {},
   "outputs": [
    {
     "name": "stdout",
     "output_type": "stream",
     "text": [
      "3/3 [==============================] - 2s 15ms/step\n"
     ]
    }
   ],
   "source": [
    "\n",
    "m6pred = model_6.predict(X_test)\n",
    "m6stats['testingTime'] = timeit(lambda: model_6.predict(X_test, verbose=0), number=testIter)\n",
    "\n",
    "y_actual = np.argmax(y_test, axis=1)\n",
    "y_predict = np.argmax(m6pred, axis=1)\n",
    "m6stats['accuracy'] = accuracy_score(y_actual, y_predict)\n",
    "stats['m6'] = m6stats"
   ]
  },
  {
   "cell_type": "code",
   "execution_count": 153,
   "metadata": {},
   "outputs": [
    {
     "name": "stdout",
     "output_type": "stream",
     "text": [
      "Model: \"sequential_35\"\n",
      "_________________________________________________________________\n",
      " Layer (type)                Output Shape              Param #   \n",
      "=================================================================\n",
      " lstm_18 (LSTM)              (None, 15, 128)           178176    \n",
      "                                                                 \n",
      " lstm_19 (LSTM)              (None, 15, 64)            49408     \n",
      "                                                                 \n",
      " lstm_20 (LSTM)              (None, 32)                12416     \n",
      "                                                                 \n",
      " dropout_4 (Dropout)         (None, 32)                0         \n",
      "                                                                 \n",
      " flatten_1 (Flatten)         (None, 32)                0         \n",
      "                                                                 \n",
      " dense_36 (Dense)            (None, 3)                 99        \n",
      "                                                                 \n",
      "=================================================================\n",
      "Total params: 240,099\n",
      "Trainable params: 240,099\n",
      "Non-trainable params: 0\n",
      "_________________________________________________________________\n"
     ]
    }
   ],
   "source": [
    "model_6.summary()"
   ]
  },
  {
   "cell_type": "code",
   "execution_count": 155,
   "metadata": {},
   "outputs": [
    {
     "data": {
      "text/plain": [
       "{'m1': {'trainingTime': 10.499933958053589,\n",
       "  'testingTime': 8.631413500000235,\n",
       "  'accuracy': 1.0},\n",
       " 'm2': {'trainingTime': 10.625319004058838,\n",
       "  'testingTime': 8.265981300000021,\n",
       "  'accuracy': 1.0},\n",
       " 'm3': {'trainingTime': 9.543492317199707,\n",
       "  'testingTime': 8.724061399999755,\n",
       "  'accuracy': 1.0},\n",
       " 'm4': {'trainingTime': 9.670153617858887,\n",
       "  'testingTime': 8.14717870000004,\n",
       "  'accuracy': 1.0},\n",
       " 'm5': {'trainingTime': 12.172465085983276,\n",
       "  'testingTime': 8.930334700000003,\n",
       "  'accuracy': 1.0},\n",
       " 'm6': {'trainingTime': 15.21023440361023,\n",
       "  'testingTime': 11.614888500000234,\n",
       "  'accuracy': 1.0}}"
      ]
     },
     "execution_count": 155,
     "metadata": {},
     "output_type": "execute_result"
    }
   ],
   "source": [
    "stats"
   ]
  },
  {
   "cell_type": "code",
   "execution_count": null,
   "metadata": {},
   "outputs": [],
   "source": []
  }
 ],
 "metadata": {
  "kernelspec": {
   "display_name": "Python 3",
   "language": "python",
   "name": "python3"
  },
  "language_info": {
   "codemirror_mode": {
    "name": "ipython",
    "version": 3
   },
   "file_extension": ".py",
   "mimetype": "text/x-python",
   "name": "python",
   "nbconvert_exporter": "python",
   "pygments_lexer": "ipython3",
   "version": "3.9.5"
  },
  "orig_nbformat": 4
 },
 "nbformat": 4,
 "nbformat_minor": 2
}
