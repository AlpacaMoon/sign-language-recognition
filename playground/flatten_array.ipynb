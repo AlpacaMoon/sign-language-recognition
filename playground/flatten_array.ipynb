{
 "cells": [
  {
   "cell_type": "code",
   "execution_count": 3,
   "metadata": {},
   "outputs": [],
   "source": [
    "import numpy as np\n"
   ]
  },
  {
   "cell_type": "code",
   "execution_count": 2,
   "metadata": {},
   "outputs": [],
   "source": [
    "testData = [[149, 433, 0],\n",
    " [174, 424, -15],\n",
    " [194, 397, -18],\n",
    " [182, 365, -19],\n",
    " [169, 347, -20],\n",
    " [212, 374, -4],\n",
    " [240, 351, -9],\n",
    " [255, 339, -14],\n",
    " [269, 327, -18],\n",
    " [197, 362, -3],\n",
    " [221, 334, -6],\n",
    " [235, 317, -10],\n",
    " [247, 302, -13],\n",
    " [180, 358, -4],\n",
    " [195, 329, -12],\n",
    " [207, 312, -19],\n",
    " [217, 296, -24],\n",
    " [160, 361, -7],\n",
    " [167, 341, -16],\n",
    " [166, 350, -17],\n",
    " [163, 360, -17]]"
   ]
  },
  {
   "cell_type": "code",
   "execution_count": 3,
   "metadata": {},
   "outputs": [
    {
     "name": "stdout",
     "output_type": "stream",
     "text": [
      "1.0394668\n",
      "1.5088916999999995\n",
      "0.6989552000000003\n",
      "0.420871\n",
      "2.276574000000001\n"
     ]
    }
   ],
   "source": [
    "\n",
    "def flatten():\n",
    "    return np.array([each for sublist in testData for each in sublist])\n",
    "\n",
    "def flatten2():\n",
    "    return np.array(testData).flatten()\n",
    "\n",
    "import itertools\n",
    "def flatten3():\n",
    "    return np.array(list(itertools.chain.from_iterable(testData)))\n",
    "\n",
    "def flatten4():\n",
    "    return np.fromiter(itertools.chain.from_iterable(testData), int)\n",
    "\n",
    "def flatten5():\n",
    "    return np.concatenate(testData)\n",
    "\n",
    "import timeit\n",
    "print(timeit.timeit(flatten , number=100000))\n",
    "print(timeit.timeit(flatten2, number=100000))\n",
    "print(timeit.timeit(flatten3, number=100000))\n",
    "print(timeit.timeit(flatten4, number=100000))\n",
    "print(timeit.timeit(flatten5, number=100000))"
   ]
  },
  {
   "cell_type": "markdown",
   "metadata": {},
   "source": [
    "NP Difference"
   ]
  },
  {
   "cell_type": "code",
   "execution_count": 26,
   "metadata": {},
   "outputs": [
    {
     "name": "stdout",
     "output_type": "stream",
     "text": [
      "0.07274620000004006\n",
      "0.07178519999996524\n"
     ]
    }
   ],
   "source": [
    "x1 = np.random.rand(100)\n",
    "x2 = np.random.rand(100)\n",
    "\n",
    "\n",
    "def f1():\n",
    "    return x1-x2\n",
    "\n",
    "\n",
    "def f2():\n",
    "    return np.subtract(x1, x2)\n",
    "\n",
    "import timeit\n",
    "print(timeit.timeit(f1, number=100000))\n",
    "print(timeit.timeit(f2, number=100000))"
   ]
  },
  {
   "cell_type": "code",
   "execution_count": 24,
   "metadata": {},
   "outputs": [
    {
     "data": {
      "text/plain": [
       "array([0.479057  , 0.40316443, 0.20395125, 0.27706597, 0.27883321,\n",
       "       0.95923075, 0.54442159, 0.41625724, 0.07260183, 0.64543261])"
      ]
     },
     "execution_count": 24,
     "metadata": {},
     "output_type": "execute_result"
    }
   ],
   "source": [
    "np.random.rand(10)"
   ]
  },
  {
   "cell_type": "code",
   "execution_count": 16,
   "metadata": {},
   "outputs": [
    {
     "data": {
      "text/plain": [
       "{'lmList': [[916, 488, 0],\n",
       "  [890, 467, -8],\n",
       "  [858, 452, -15],\n",
       "  [833, 438, -20],\n",
       "  [821, 420, -27],\n",
       "  [844, 487, -25],\n",
       "  [814, 479, -34],\n",
       "  [795, 470, -38],\n",
       "  [781, 462, -41],\n",
       "  [849, 512, -25],\n",
       "  [819, 526, -33],\n",
       "  [801, 536, -37],\n",
       "  [789, 546, -41],\n",
       "  [859, 531, -25],\n",
       "  [837, 554, -33],\n",
       "  [823, 569, -39],\n",
       "  [813, 583, -43],\n",
       "  [872, 542, -25],\n",
       "  [858, 568, -33],\n",
       "  [851, 584, -38],\n",
       "  [845, 599, -41]],\n",
       " 'bbox': (781, 420, 135, 179),\n",
       " 'center': (848, 509),\n",
       " 'type': 'Left'}"
      ]
     },
     "execution_count": 16,
     "metadata": {},
     "output_type": "execute_result"
    }
   ],
   "source": [
    "test = {'lmList': [[916, 488, 0], [890, 467, -8], [858, 452, -15], [833, 438, -20], [821, 420, -27], [844, 487, -25], [814, 479, -34], [795, 470, -38], [781, 462, -41], [849, 512, -25], [819, 526, -33], [801, 536, -37], [789, 546, -41], [859, 531, -25], [837, 554, -33], [823, 569, -39], [813, 583, -43], [872, 542, -25], [858, 568, -33], [851, 584, -38], [845, 599, -41]], 'bbox': (781, 420, 135, 179), 'center': (848, 509), 'type': 'Left'}\n",
    "test"
   ]
  },
  {
   "cell_type": "code",
   "execution_count": 23,
   "metadata": {},
   "outputs": [],
   "source": [
    "\n",
    "from itertools import chain\n",
    "# Flatten a 2d np array into 1d array\n",
    "def flatten2dList(arr, dataType=int):\n",
    "    return np.fromiter(chain.from_iterable(arr), dataType)\n",
    "\n",
    "    # Get the largest absolute value in an np array\n",
    "def getAbsLargestVal(arr):\n",
    "    return max(np.max(arr), abs(np.min(arr)))\n",
    "    "
   ]
  },
  {
   "cell_type": "code",
   "execution_count": 24,
   "metadata": {},
   "outputs": [],
   "source": [
    "# Offset and normalize the landmark list\n",
    "def preprocess_landmarks(landmark_list):\n",
    "    if not landmark_list:\n",
    "        return []\n",
    "    \n",
    "    # Offset every point with respect to the first point\n",
    "    new_landmark_list = []\n",
    "    origin = landmark_list[0]\n",
    "    for each in landmark_list:\n",
    "        updated_point = [\n",
    "            each[0] - origin[0], \n",
    "            each[1] - origin[1], \n",
    "            each[2] - origin[2]\n",
    "        ]\n",
    "        new_landmark_list.append(updated_point)\n",
    "    \n",
    "    # Convert to 1D-array\n",
    "    new_landmark_list = flatten2dList(new_landmark_list)\n",
    "    \n",
    "    # Get highest absolute value\n",
    "    # largest_value = getAbsLargestVal(new_landmark_list)\n",
    "    \n",
    "    # Normalization\n",
    "    return new_landmark_list"
   ]
  },
  {
   "cell_type": "code",
   "execution_count": 35,
   "metadata": {},
   "outputs": [],
   "source": [
    "# Offset and normalize the landmark list\n",
    "def preprocess_landmarks2(landmark_list):\n",
    "    if not landmark_list:\n",
    "        return []\n",
    "\n",
    "    landmark_list = np.array(landmark_list, dtype=float)\n",
    "    origin = landmark_list[0]\n",
    "\n",
    "    new_landmark_list = landmark_list - origin\n",
    "    \n",
    "    # # Offset every point with respect to the first point\n",
    "    \n",
    "    # # Convert to 1D-array\n",
    "    new_landmark_list = new_landmark_list.ravel()\n",
    "    \n",
    "    # # Get highest absolute value\n",
    "    # largest_value = getAbsLargestVal(new_landmark_list)\n",
    "    \n",
    "    # Normalization\n",
    "    return new_landmark_list "
   ]
  },
  {
   "cell_type": "code",
   "execution_count": 36,
   "metadata": {},
   "outputs": [
    {
     "name": "stdout",
     "output_type": "stream",
     "text": [
      "[ 0.          0.          0.         -0.19259259 -0.15555556 -0.05925926\n",
      " -0.42962963 -0.26666667 -0.11111111 -0.61481481 -0.37037037 -0.14814815\n",
      " -0.7037037  -0.5037037  -0.2        -0.53333333 -0.00740741 -0.18518519\n",
      " -0.75555556 -0.06666667 -0.25185185 -0.8962963  -0.13333333 -0.28148148\n",
      " -1.         -0.19259259 -0.3037037  -0.4962963   0.17777778 -0.18518519\n",
      " -0.71851852  0.28148148 -0.24444444 -0.85185185  0.35555556 -0.27407407\n",
      " -0.94074074  0.42962963 -0.3037037  -0.42222222  0.31851852 -0.18518519\n",
      " -0.58518519  0.48888889 -0.24444444 -0.68888889  0.6        -0.28888889\n",
      " -0.76296296  0.7037037  -0.31851852 -0.32592593  0.4        -0.18518519\n",
      " -0.42962963  0.59259259 -0.24444444 -0.48148148  0.71111111 -0.28148148\n",
      " -0.52592593  0.82222222 -0.3037037 ]\n",
      "[ 0.          0.          0.         -0.19259259 -0.15555556 -0.05925926\n",
      " -0.42962963 -0.26666667 -0.11111111 -0.61481481 -0.37037037 -0.14814815\n",
      " -0.7037037  -0.5037037  -0.2        -0.53333333 -0.00740741 -0.18518519\n",
      " -0.75555556 -0.06666667 -0.25185185 -0.8962963  -0.13333333 -0.28148148\n",
      " -1.         -0.19259259 -0.3037037  -0.4962963   0.17777778 -0.18518519\n",
      " -0.71851852  0.28148148 -0.24444444 -0.85185185  0.35555556 -0.27407407\n",
      " -0.94074074  0.42962963 -0.3037037  -0.42222222  0.31851852 -0.18518519\n",
      " -0.58518519  0.48888889 -0.24444444 -0.68888889  0.6        -0.28888889\n",
      " -0.76296296  0.7037037  -0.31851852 -0.32592593  0.4        -0.18518519\n",
      " -0.42962963  0.59259259 -0.24444444 -0.48148148  0.71111111 -0.28148148\n",
      " -0.52592593  0.82222222 -0.3037037 ]\n",
      "[ True  True  True  True  True  True  True  True  True  True  True  True\n",
      "  True  True  True  True  True  True  True  True  True  True  True  True\n",
      "  True  True  True  True  True  True  True  True  True  True  True  True\n",
      "  True  True  True  True  True  True  True  True  True  True  True  True\n",
      "  True  True  True  True  True  True  True  True  True  True  True  True\n",
      "  True  True  True]\n"
     ]
    }
   ],
   "source": [
    "print(preprocess_landmarks(test['lmList']))\n",
    "print(preprocess_landmarks2(test['lmList']))\n",
    "print(preprocess_landmarks(test['lmList']) == preprocess_landmarks2(test['lmList']))"
   ]
  },
  {
   "cell_type": "code",
   "execution_count": 41,
   "metadata": {},
   "outputs": [
    {
     "name": "stdout",
     "output_type": "stream",
     "text": [
      "0.2852898000001005\n",
      "0.2650476000001163\n"
     ]
    }
   ],
   "source": [
    "\n",
    "def f1():\n",
    "    preprocess_landmarks(test['lmList'])\n",
    "def f2():\n",
    "    preprocess_landmarks2(test['lmList'])\n",
    "\n",
    "import timeit\n",
    "print(timeit.timeit(f2, number=10000))\n",
    "print(timeit.timeit(f1, number=10000))"
   ]
  },
  {
   "cell_type": "code",
   "execution_count": null,
   "metadata": {},
   "outputs": [],
   "source": []
  }
 ],
 "metadata": {
  "kernelspec": {
   "display_name": "Python 3",
   "language": "python",
   "name": "python3"
  },
  "language_info": {
   "codemirror_mode": {
    "name": "ipython",
    "version": 3
   },
   "file_extension": ".py",
   "mimetype": "text/x-python",
   "name": "python",
   "nbconvert_exporter": "python",
   "pygments_lexer": "ipython3",
   "version": "3.9.5"
  },
  "orig_nbformat": 4
 },
 "nbformat": 4,
 "nbformat_minor": 2
}
