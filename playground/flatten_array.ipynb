{
 "cells": [
  {
   "cell_type": "code",
   "execution_count": 1,
   "metadata": {},
   "outputs": [],
   "source": [
    "import numpy as np\n"
   ]
  },
  {
   "cell_type": "code",
   "execution_count": 2,
   "metadata": {},
   "outputs": [],
   "source": [
    "testData = [[149, 433, 0],\n",
    " [174, 424, -15],\n",
    " [194, 397, -18],\n",
    " [182, 365, -19],\n",
    " [169, 347, -20],\n",
    " [212, 374, -4],\n",
    " [240, 351, -9],\n",
    " [255, 339, -14],\n",
    " [269, 327, -18],\n",
    " [197, 362, -3],\n",
    " [221, 334, -6],\n",
    " [235, 317, -10],\n",
    " [247, 302, -13],\n",
    " [180, 358, -4],\n",
    " [195, 329, -12],\n",
    " [207, 312, -19],\n",
    " [217, 296, -24],\n",
    " [160, 361, -7],\n",
    " [167, 341, -16],\n",
    " [166, 350, -17],\n",
    " [163, 360, -17]]"
   ]
  },
  {
   "cell_type": "code",
   "execution_count": 3,
   "metadata": {},
   "outputs": [
    {
     "name": "stdout",
     "output_type": "stream",
     "text": [
      "1.0394668\n",
      "1.5088916999999995\n",
      "0.6989552000000003\n",
      "0.420871\n",
      "2.276574000000001\n"
     ]
    }
   ],
   "source": [
    "\n",
    "def flatten():\n",
    "    return np.array([each for sublist in testData for each in sublist])\n",
    "\n",
    "def flatten2():\n",
    "    return np.array(testData).flatten()\n",
    "\n",
    "import itertools\n",
    "def flatten3():\n",
    "    return np.array(list(itertools.chain.from_iterable(testData)))\n",
    "\n",
    "def flatten4():\n",
    "    return np.fromiter(itertools.chain.from_iterable(testData), int)\n",
    "\n",
    "def flatten5():\n",
    "    return np.concatenate(testData)\n",
    "\n",
    "import timeit\n",
    "print(timeit.timeit(flatten , number=100000))\n",
    "print(timeit.timeit(flatten2, number=100000))\n",
    "print(timeit.timeit(flatten3, number=100000))\n",
    "print(timeit.timeit(flatten4, number=100000))\n",
    "print(timeit.timeit(flatten5, number=100000))"
   ]
  },
  {
   "cell_type": "code",
   "execution_count": null,
   "metadata": {},
   "outputs": [],
   "source": []
  }
 ],
 "metadata": {
  "kernelspec": {
   "display_name": "Python 3",
   "language": "python",
   "name": "python3"
  },
  "language_info": {
   "codemirror_mode": {
    "name": "ipython",
    "version": 3
   },
   "file_extension": ".py",
   "mimetype": "text/x-python",
   "name": "python",
   "nbconvert_exporter": "python",
   "pygments_lexer": "ipython3",
   "version": "3.9.5"
  },
  "orig_nbformat": 4
 },
 "nbformat": 4,
 "nbformat_minor": 2
}
