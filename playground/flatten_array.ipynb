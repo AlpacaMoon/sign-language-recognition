{
 "cells": [
  {
   "cell_type": "code",
   "execution_count": 3,
   "metadata": {},
   "outputs": [],
   "source": [
    "import numpy as np\n"
   ]
  },
  {
   "cell_type": "code",
   "execution_count": 2,
   "metadata": {},
   "outputs": [],
   "source": [
    "testData = [[149, 433, 0],\n",
    " [174, 424, -15],\n",
    " [194, 397, -18],\n",
    " [182, 365, -19],\n",
    " [169, 347, -20],\n",
    " [212, 374, -4],\n",
    " [240, 351, -9],\n",
    " [255, 339, -14],\n",
    " [269, 327, -18],\n",
    " [197, 362, -3],\n",
    " [221, 334, -6],\n",
    " [235, 317, -10],\n",
    " [247, 302, -13],\n",
    " [180, 358, -4],\n",
    " [195, 329, -12],\n",
    " [207, 312, -19],\n",
    " [217, 296, -24],\n",
    " [160, 361, -7],\n",
    " [167, 341, -16],\n",
    " [166, 350, -17],\n",
    " [163, 360, -17]]"
   ]
  },
  {
   "cell_type": "code",
   "execution_count": 3,
   "metadata": {},
   "outputs": [
    {
     "name": "stdout",
     "output_type": "stream",
     "text": [
      "1.0394668\n",
      "1.5088916999999995\n",
      "0.6989552000000003\n",
      "0.420871\n",
      "2.276574000000001\n"
     ]
    }
   ],
   "source": [
    "\n",
    "def flatten():\n",
    "    return np.array([each for sublist in testData for each in sublist])\n",
    "\n",
    "def flatten2():\n",
    "    return np.array(testData).flatten()\n",
    "\n",
    "import itertools\n",
    "def flatten3():\n",
    "    return np.array(list(itertools.chain.from_iterable(testData)))\n",
    "\n",
    "def flatten4():\n",
    "    return np.fromiter(itertools.chain.from_iterable(testData), int)\n",
    "\n",
    "def flatten5():\n",
    "    return np.concatenate(testData)\n",
    "\n",
    "import timeit\n",
    "print(timeit.timeit(flatten , number=100000))\n",
    "print(timeit.timeit(flatten2, number=100000))\n",
    "print(timeit.timeit(flatten3, number=100000))\n",
    "print(timeit.timeit(flatten4, number=100000))\n",
    "print(timeit.timeit(flatten5, number=100000))"
   ]
  },
  {
   "cell_type": "markdown",
   "metadata": {},
   "source": [
    "NP Difference"
   ]
  },
  {
   "cell_type": "code",
   "execution_count": 26,
   "metadata": {},
   "outputs": [
    {
     "name": "stdout",
     "output_type": "stream",
     "text": [
      "0.07274620000004006\n",
      "0.07178519999996524\n"
     ]
    }
   ],
   "source": [
    "x1 = np.random.rand(100)\n",
    "x2 = np.random.rand(100)\n",
    "\n",
    "\n",
    "def f1():\n",
    "    return x1-x2\n",
    "\n",
    "\n",
    "def f2():\n",
    "    return np.subtract(x1, x2)\n",
    "\n",
    "import timeit\n",
    "print(timeit.timeit(f1, number=100000))\n",
    "print(timeit.timeit(f2, number=100000))"
   ]
  },
  {
   "cell_type": "code",
   "execution_count": 24,
   "metadata": {},
   "outputs": [
    {
     "data": {
      "text/plain": [
       "array([0.479057  , 0.40316443, 0.20395125, 0.27706597, 0.27883321,\n",
       "       0.95923075, 0.54442159, 0.41625724, 0.07260183, 0.64543261])"
      ]
     },
     "execution_count": 24,
     "metadata": {},
     "output_type": "execute_result"
    }
   ],
   "source": [
    "np.random.rand(10)"
   ]
  },
  {
   "cell_type": "code",
   "execution_count": 16,
   "metadata": {},
   "outputs": [
    {
     "data": {
      "text/plain": [
       "{'lmList': [[916, 488, 0],\n",
       "  [890, 467, -8],\n",
       "  [858, 452, -15],\n",
       "  [833, 438, -20],\n",
       "  [821, 420, -27],\n",
       "  [844, 487, -25],\n",
       "  [814, 479, -34],\n",
       "  [795, 470, -38],\n",
       "  [781, 462, -41],\n",
       "  [849, 512, -25],\n",
       "  [819, 526, -33],\n",
       "  [801, 536, -37],\n",
       "  [789, 546, -41],\n",
       "  [859, 531, -25],\n",
       "  [837, 554, -33],\n",
       "  [823, 569, -39],\n",
       "  [813, 583, -43],\n",
       "  [872, 542, -25],\n",
       "  [858, 568, -33],\n",
       "  [851, 584, -38],\n",
       "  [845, 599, -41]],\n",
       " 'bbox': (781, 420, 135, 179),\n",
       " 'center': (848, 509),\n",
       " 'type': 'Left'}"
      ]
     },
     "execution_count": 16,
     "metadata": {},
     "output_type": "execute_result"
    }
   ],
   "source": [
    "test = {'lmList': [[916, 488, 0], [890, 467, -8], [858, 452, -15], [833, 438, -20], [821, 420, -27], [844, 487, -25], [814, 479, -34], [795, 470, -38], [781, 462, -41], [849, 512, -25], [819, 526, -33], [801, 536, -37], [789, 546, -41], [859, 531, -25], [837, 554, -33], [823, 569, -39], [813, 583, -43], [872, 542, -25], [858, 568, -33], [851, 584, -38], [845, 599, -41]], 'bbox': (781, 420, 135, 179), 'center': (848, 509), 'type': 'Left'}\n",
    "test"
   ]
  },
  {
   "cell_type": "code",
   "execution_count": 23,
   "metadata": {},
   "outputs": [],
   "source": [
    "\n",
    "from itertools import chain\n",
    "# Flatten a 2d np array into 1d array\n",
    "def flatten2dList(arr, dataType=int):\n",
    "    return np.fromiter(chain.from_iterable(arr), dataType)\n",
    "\n",
    "    # Get the largest absolute value in an np array\n",
    "def getAbsLargestVal(arr):\n",
    "    return max(np.max(arr), abs(np.min(arr)))\n",
    "    "
   ]
  },
  {
   "cell_type": "code",
   "execution_count": 68,
   "metadata": {},
   "outputs": [],
   "source": [
    "# Offset and normalize the landmark list\n",
    "def preprocess_landmarks(landmark_list):\n",
    "    if not landmark_list:\n",
    "        return []\n",
    "    \n",
    "    # Offset every point with respect to the first point\n",
    "    new_landmark_list = []\n",
    "    origin_x = landmark_list[0][0] \n",
    "    origin_y = landmark_list[0][1]\n",
    "    origin_z = landmark_list[0][2]\n",
    "    for each in landmark_list:\n",
    "        updated_point = [\n",
    "            each[0] - origin_x, \n",
    "            each[1] - origin_y, \n",
    "            each[2] - origin_z\n",
    "        ]\n",
    "        new_landmark_list.append(updated_point)\n",
    "    \n",
    "    # Convert to 1D-array\n",
    "    new_landmark_list = flatten2dList(new_landmark_list)\n",
    "    \n",
    "    # Get highest absolute value\n",
    "    largest_value = getAbsLargestVal(new_landmark_list)\n",
    "    \n",
    "    # Normalization\n",
    "    return new_landmark_list / largest_value"
   ]
  },
  {
   "cell_type": "code",
   "execution_count": 76,
   "metadata": {},
   "outputs": [],
   "source": [
    "# Offset and normalize the landmark list\n",
    "def preprocess_landmarks2(landmark_list):\n",
    "    if not landmark_list:\n",
    "        return []\n",
    "\n",
    "    landmark_list = np.array(landmark_list, dtype=float)\n",
    "    origin = landmark_list[0]\n",
    "\n",
    "    new_landmark_list = (landmark_list - origin).ravel()\n",
    "    \n",
    "    # # Offset every point with respect to the first point\n",
    "    \n",
    "    # # Convert to 1D-array\n",
    "    \n",
    "    # # Get highest absolute value\n",
    "    largest_value = getAbsLargestVal(new_landmark_list)\n",
    "    \n",
    "    # Normalization\n",
    "    return new_landmark_list / largest_value"
   ]
  },
  {
   "cell_type": "code",
   "execution_count": 71,
   "metadata": {},
   "outputs": [],
   "source": [
    "# Offset and normalize the landmark list\n",
    "def preprocess_landmarks3(landmark_list):\n",
    "    if not landmark_list:\n",
    "        return []\n",
    "\n",
    "    landmark_list = np.array(landmark_list, dtype=float)\n",
    "    origin = landmark_list[0]\n",
    "\n",
    "    new_landmark_list = landmark_list - origin\n",
    "    \n",
    "    # # Offset every point with respect to the first point\n",
    "    \n",
    "    # # Convert to 1D-array\n",
    "    new_landmark_list = new_landmark_list.flatten()\n",
    "    \n",
    "    # # Get highest absolute value\n",
    "    largest_value = getAbsLargestVal(new_landmark_list)\n",
    "    \n",
    "    # Normalization\n",
    "    return new_landmark_list / largest_value"
   ]
  },
  {
   "cell_type": "code",
   "execution_count": 77,
   "metadata": {},
   "outputs": [
    {
     "name": "stdout",
     "output_type": "stream",
     "text": [
      "[ 0.          0.          0.         -0.19259259 -0.15555556 -0.05925926\n",
      " -0.42962963 -0.26666667 -0.11111111 -0.61481481 -0.37037037 -0.14814815\n",
      " -0.7037037  -0.5037037  -0.2        -0.53333333 -0.00740741 -0.18518519\n",
      " -0.75555556 -0.06666667 -0.25185185 -0.8962963  -0.13333333 -0.28148148\n",
      " -1.         -0.19259259 -0.3037037  -0.4962963   0.17777778 -0.18518519\n",
      " -0.71851852  0.28148148 -0.24444444 -0.85185185  0.35555556 -0.27407407\n",
      " -0.94074074  0.42962963 -0.3037037  -0.42222222  0.31851852 -0.18518519\n",
      " -0.58518519  0.48888889 -0.24444444 -0.68888889  0.6        -0.28888889\n",
      " -0.76296296  0.7037037  -0.31851852 -0.32592593  0.4        -0.18518519\n",
      " -0.42962963  0.59259259 -0.24444444 -0.48148148  0.71111111 -0.28148148\n",
      " -0.52592593  0.82222222 -0.3037037 ]\n",
      "[ 0.          0.          0.         -0.19259259 -0.15555556 -0.05925926\n",
      " -0.42962963 -0.26666667 -0.11111111 -0.61481481 -0.37037037 -0.14814815\n",
      " -0.7037037  -0.5037037  -0.2        -0.53333333 -0.00740741 -0.18518519\n",
      " -0.75555556 -0.06666667 -0.25185185 -0.8962963  -0.13333333 -0.28148148\n",
      " -1.         -0.19259259 -0.3037037  -0.4962963   0.17777778 -0.18518519\n",
      " -0.71851852  0.28148148 -0.24444444 -0.85185185  0.35555556 -0.27407407\n",
      " -0.94074074  0.42962963 -0.3037037  -0.42222222  0.31851852 -0.18518519\n",
      " -0.58518519  0.48888889 -0.24444444 -0.68888889  0.6        -0.28888889\n",
      " -0.76296296  0.7037037  -0.31851852 -0.32592593  0.4        -0.18518519\n",
      " -0.42962963  0.59259259 -0.24444444 -0.48148148  0.71111111 -0.28148148\n",
      " -0.52592593  0.82222222 -0.3037037 ]\n",
      "[ True  True  True  True  True  True  True  True  True  True  True  True\n",
      "  True  True  True  True  True  True  True  True  True  True  True  True\n",
      "  True  True  True  True  True  True  True  True  True  True  True  True\n",
      "  True  True  True  True  True  True  True  True  True  True  True  True\n",
      "  True  True  True  True  True  True  True  True  True  True  True  True\n",
      "  True  True  True]\n"
     ]
    }
   ],
   "source": [
    "print(preprocess_landmarks(test['lmList']))\n",
    "print(preprocess_landmarks2(test['lmList']))\n",
    "print(preprocess_landmarks(test['lmList']) == preprocess_landmarks2(test['lmList']))"
   ]
  },
  {
   "cell_type": "code",
   "execution_count": 72,
   "metadata": {},
   "outputs": [
    {
     "name": "stdout",
     "output_type": "stream",
     "text": [
      "5.713227800000141\n",
      "3.9231790000001183\n",
      "4.172588500000074\n"
     ]
    }
   ],
   "source": [
    "\n",
    "def f1():\n",
    "    preprocess_landmarks(test['lmList'])\n",
    "def f2():\n",
    "    preprocess_landmarks2(test['lmList'])\n",
    "def f3():\n",
    "    preprocess_landmarks3(test['lmList'])\n",
    "\n",
    "import timeit\n",
    "print(timeit.timeit(f1, number=100000))\n",
    "print(timeit.timeit(f2, number=100000))\n",
    "print(timeit.timeit(f3, number=100000))"
   ]
  },
  {
   "cell_type": "code",
   "execution_count": 75,
   "metadata": {},
   "outputs": [
    {
     "name": "stdout",
     "output_type": "stream",
     "text": [
      "1.4366385999996965\n",
      "2.1783331999999973\n"
     ]
    }
   ],
   "source": [
    "\n",
    "def getAbsLargestVal1(arr):\n",
    "    return max(np.max(arr), abs(np.min(arr)))\n",
    "def getAbsLargestVal2(arr):\n",
    "    return np.max(np.abs(arr))\n",
    "\n",
    "g = np.random.rand(1000)\n",
    "    \n",
    "print(timeit.timeit(lambda: getAbsLargestVal2(g), number=100000))\n",
    "print(timeit.timeit(lambda: getAbsLargestVal1(g), number=100000))"
   ]
  },
  {
   "cell_type": "markdown",
   "metadata": {},
   "source": [
    "# Appending List"
   ]
  },
  {
   "cell_type": "code",
   "execution_count": 114,
   "metadata": {},
   "outputs": [],
   "source": [
    "import itertools, sys\n",
    "def appList1():\n",
    "    final = []\n",
    "    print(sys.getsizeof(final))\n",
    "    for training in range(100):\n",
    "        temp = []\n",
    "        for frame_num in range(15):\n",
    "            temp.append(np.random.rand(248))\n",
    "        final.append(temp)\n",
    "    print(sys.getsizeof(final))\n",
    "    print(sys.getsizeof(np.array(final)))\n",
    "    return np.array(final)\n",
    "\n",
    "def appList2():\n",
    "    final = []\n",
    "    for training in range(100):\n",
    "        temp = []\n",
    "        for frame_num in range(15):\n",
    "            temp.append(np.random.rand(248))\n",
    "        final.append(np.fromiter(itertools.chain.from_iterable(temp), float))\n",
    "    return np.array(final)\n",
    "\n",
    "\n",
    "def appList3():\n",
    "    final = np.zeros((100, 15, 248))\n",
    "    print(sys.getsizeof(final))\n",
    "    for training in range(100):\n",
    "        for frame_num in range(15):\n",
    "            final[training][frame_num] = (np.random.rand(248))\n",
    "    print(sys.getsizeof(final))\n",
    "    return final"
   ]
  },
  {
   "cell_type": "code",
   "execution_count": 118,
   "metadata": {},
   "outputs": [
    {
     "name": "stdout",
     "output_type": "stream",
     "text": [
      "2976144\n",
      "2976144\n"
     ]
    },
    {
     "data": {
      "text/plain": [
       "array([[[0.24595914, 0.47634274, 0.64822444, ..., 0.02679062,\n",
       "         0.25990268, 0.60965637],\n",
       "        [0.81980773, 0.05908029, 0.55602314, ..., 0.48338785,\n",
       "         0.95140049, 0.63550204],\n",
       "        [0.32433949, 0.22527092, 0.83481985, ..., 0.29875144,\n",
       "         0.03227199, 0.01464374],\n",
       "        ...,\n",
       "        [0.44244997, 0.50426324, 0.22999833, ..., 0.28923081,\n",
       "         0.41876257, 0.50327589],\n",
       "        [0.13648631, 0.43896356, 0.45883598, ..., 0.93893916,\n",
       "         0.73919185, 0.13629719],\n",
       "        [0.05161625, 0.34770991, 0.84599388, ..., 0.79202084,\n",
       "         0.04390037, 0.63479622]],\n",
       "\n",
       "       [[0.53988354, 0.27463844, 0.3947502 , ..., 0.32783493,\n",
       "         0.79430079, 0.82208954],\n",
       "        [0.08598853, 0.35736607, 0.24512028, ..., 0.06244166,\n",
       "         0.16823852, 0.91469721],\n",
       "        [0.78898611, 0.55710069, 0.43324516, ..., 0.21554692,\n",
       "         0.08444185, 0.40153495],\n",
       "        ...,\n",
       "        [0.5575474 , 0.94186418, 0.30761443, ..., 0.7347195 ,\n",
       "         0.78317055, 0.93258347],\n",
       "        [0.86724923, 0.77710526, 0.00615922, ..., 0.00763992,\n",
       "         0.41614316, 0.43715769],\n",
       "        [0.59065056, 0.46003391, 0.23178183, ..., 0.47781777,\n",
       "         0.61355616, 0.98227751]],\n",
       "\n",
       "       [[0.31667538, 0.64644577, 0.91644174, ..., 0.61827142,\n",
       "         0.21673638, 0.12606116],\n",
       "        [0.8558231 , 0.82719508, 0.28569242, ..., 0.79687172,\n",
       "         0.20235169, 0.63284266],\n",
       "        [0.04892505, 0.1789533 , 0.34273344, ..., 0.5149768 ,\n",
       "         0.25231095, 0.94072294],\n",
       "        ...,\n",
       "        [0.02592889, 0.35772949, 0.31326758, ..., 0.70098675,\n",
       "         0.62994923, 0.96565831],\n",
       "        [0.68233931, 0.17956915, 0.45769744, ..., 0.22938281,\n",
       "         0.33575522, 0.71203748],\n",
       "        [0.95412815, 0.34827845, 0.96057806, ..., 0.7371323 ,\n",
       "         0.18425712, 0.63480921]],\n",
       "\n",
       "       ...,\n",
       "\n",
       "       [[0.32286465, 0.70571657, 0.68176414, ..., 0.13227372,\n",
       "         0.34114037, 0.8680912 ],\n",
       "        [0.45355368, 0.04174283, 0.86701822, ..., 0.22033113,\n",
       "         0.53193532, 0.85009778],\n",
       "        [0.35333869, 0.84624415, 0.27127982, ..., 0.31166026,\n",
       "         0.61593559, 0.75020166],\n",
       "        ...,\n",
       "        [0.04848531, 0.72307346, 0.81867457, ..., 0.99255457,\n",
       "         0.99022579, 0.77677155],\n",
       "        [0.21615847, 0.99750092, 0.97174464, ..., 0.70940833,\n",
       "         0.94682636, 0.21565426],\n",
       "        [0.06093018, 0.63526673, 0.08798019, ..., 0.42374382,\n",
       "         0.37432366, 0.17449194]],\n",
       "\n",
       "       [[0.10054688, 0.14114971, 0.38554573, ..., 0.97639441,\n",
       "         0.5290534 , 0.97261348],\n",
       "        [0.17396287, 0.73999213, 0.36101591, ..., 0.50135738,\n",
       "         0.81428525, 0.90439986],\n",
       "        [0.59655474, 0.92973331, 0.4791808 , ..., 0.48008193,\n",
       "         0.25867042, 0.89756405],\n",
       "        ...,\n",
       "        [0.44140103, 0.57777195, 0.06347375, ..., 0.48187528,\n",
       "         0.81910773, 0.13286893],\n",
       "        [0.50105861, 0.48691939, 0.82458415, ..., 0.0397714 ,\n",
       "         0.52534368, 0.38372142],\n",
       "        [0.72531466, 0.1243817 , 0.76977968, ..., 0.44147768,\n",
       "         0.83909498, 0.38747528]],\n",
       "\n",
       "       [[0.95232527, 0.12929217, 0.63053563, ..., 0.52447449,\n",
       "         0.89281681, 0.59072571],\n",
       "        [0.11655901, 0.22397648, 0.82764034, ..., 0.31464614,\n",
       "         0.31954083, 0.10744724],\n",
       "        [0.72579753, 0.29104058, 0.58544197, ..., 0.04629656,\n",
       "         0.06572676, 0.18613713],\n",
       "        ...,\n",
       "        [0.78455788, 0.52097925, 0.59979726, ..., 0.8863557 ,\n",
       "         0.60125051, 0.79970817],\n",
       "        [0.50756809, 0.4399611 , 0.27109305, ..., 0.83514612,\n",
       "         0.09344312, 0.31634868],\n",
       "        [0.87230086, 0.06077266, 0.43616215, ..., 0.67580288,\n",
       "         0.45891498, 0.68853475]]])"
      ]
     },
     "execution_count": 118,
     "metadata": {},
     "output_type": "execute_result"
    }
   ],
   "source": [
    "appList3()"
   ]
  },
  {
   "cell_type": "code",
   "execution_count": 109,
   "metadata": {},
   "outputs": [
    {
     "name": "stdout",
     "output_type": "stream",
     "text": [
      "0.7966308000004574\n",
      "0.8055443000002924\n"
     ]
    }
   ],
   "source": [
    "\n",
    "# print(timeit.timeit(lambda: appList2(), number=100))\n",
    "print(timeit.timeit(lambda: appList3(), number=100))\n",
    "print(timeit.timeit(lambda: appList1(), number=100))"
   ]
  },
  {
   "cell_type": "code",
   "execution_count": 7,
   "metadata": {},
   "outputs": [],
   "source": [
    "import numpy as np\n",
    "import timeit"
   ]
  },
  {
   "cell_type": "code",
   "execution_count": 8,
   "metadata": {},
   "outputs": [
    {
     "data": {
      "text/plain": [
       "array([1, 2, 3, 1, 2, 3, 1, 2, 3])"
      ]
     },
     "execution_count": 8,
     "metadata": {},
     "output_type": "execute_result"
    }
   ],
   "source": [
    "a = np.array([1, 2, 3])\n",
    "b = np.array([1, 2, 3])\n",
    "c = np.array([1, 2, 3])\n",
    "\n",
    "def f1():\n",
    "    return np.concatenate((a, b, c))\n",
    "\n",
    "def f2():\n",
    "    return np.hstack((a, b, c))\n",
    "\n",
    "f2()"
   ]
  },
  {
   "cell_type": "code",
   "execution_count": 12,
   "metadata": {},
   "outputs": [
    {
     "name": "stdout",
     "output_type": "stream",
     "text": [
      "0.059487499999704596\n",
      "0.024055200000020704\n"
     ]
    }
   ],
   "source": [
    "\n",
    "# print(timeit.timeit(lambda: appList2(), number=100))\n",
    "print(timeit.timeit(lambda: f2(), number=10000))\n",
    "print(timeit.timeit(lambda: f1(), number=10000))"
   ]
  },
  {
   "cell_type": "code",
   "execution_count": null,
   "metadata": {},
   "outputs": [],
   "source": []
  }
 ],
 "metadata": {
  "kernelspec": {
   "display_name": "Python 3",
   "language": "python",
   "name": "python3"
  },
  "language_info": {
   "codemirror_mode": {
    "name": "ipython",
    "version": 3
   },
   "file_extension": ".py",
   "mimetype": "text/x-python",
   "name": "python",
   "nbconvert_exporter": "python",
   "pygments_lexer": "ipython3",
   "version": "3.9.5"
  },
  "orig_nbformat": 4
 },
 "nbformat": 4,
 "nbformat_minor": 2
}
