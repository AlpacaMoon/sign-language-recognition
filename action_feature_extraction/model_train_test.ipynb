{
 "cells": [
  {
   "cell_type": "markdown",
   "metadata": {},
   "source": [
    "# Action Recognition Model Training & Testing"
   ]
  },
  {
   "cell_type": "code",
   "execution_count": 1,
   "metadata": {},
   "outputs": [],
   "source": [
    "import os\n",
    "from constants import *\n",
    "import numpy as np"
   ]
  },
  {
   "cell_type": "code",
   "execution_count": null,
   "metadata": {},
   "outputs": [],
   "source": [
    "from files_io import readActionLabels, readActionMapping\n",
    "\n",
    "action_labels = readActionLabels()"
   ]
  },
  {
   "cell_type": "code",
   "execution_count": null,
   "metadata": {},
   "outputs": [],
   "source": [
    "action_mapping = readActionMapping()"
   ]
  },
  {
   "cell_type": "markdown",
   "metadata": {},
   "source": [
    "## 1. Preprocess Data"
   ]
  },
  {
   "cell_type": "code",
   "execution_count": 4,
   "metadata": {},
   "outputs": [],
   "source": [
    "from sklearn.model_selection import train_test_split\n",
    "from keras.utils import to_categorical"
   ]
  },
  {
   "cell_type": "code",
   "execution_count": 5,
   "metadata": {},
   "outputs": [],
   "source": [
    "features, labels = [], []\n",
    "\n",
    "for action in action_labels:\n",
    "    folderName = (action + \",\" + action_labels[action]).replace(\"/\", \"_\")\n",
    "    for npyFile in os.listdir(os.path.join(KEYPOINTS_PATH, folderName)):\n",
    "        load_data = np.load(os.path.join(KEYPOINTS_PATH, folderName, npyFile))\n",
    "        features.extend(load_data)\n",
    "        labels.extend(np.full((load_data.shape[0], 1), int(action), dtype=int))\n"
   ]
  },
  {
   "cell_type": "code",
   "execution_count": 6,
   "metadata": {},
   "outputs": [
    {
     "data": {
      "text/plain": [
       "(12200, 20, 240)"
      ]
     },
     "execution_count": 6,
     "metadata": {},
     "output_type": "execute_result"
    }
   ],
   "source": [
    "np.array(features).shape"
   ]
  },
  {
   "cell_type": "code",
   "execution_count": 116,
   "metadata": {},
   "outputs": [
    {
     "data": {
      "text/plain": [
       "(12200, 1)"
      ]
     },
     "execution_count": 116,
     "metadata": {},
     "output_type": "execute_result"
    }
   ],
   "source": [
    "np.array(labels).shape"
   ]
  },
  {
   "cell_type": "code",
   "execution_count": 117,
   "metadata": {},
   "outputs": [
    {
     "data": {
      "text/plain": [
       "(12200, 20, 240)"
      ]
     },
     "execution_count": 117,
     "metadata": {},
     "output_type": "execute_result"
    }
   ],
   "source": [
    "X = np.array(features)\n",
    "X.shape"
   ]
  },
  {
   "cell_type": "code",
   "execution_count": 118,
   "metadata": {},
   "outputs": [
    {
     "data": {
      "text/plain": [
       "(12200, 122)"
      ]
     },
     "execution_count": 118,
     "metadata": {},
     "output_type": "execute_result"
    }
   ],
   "source": [
    "y = to_categorical(labels).astype(int)\n",
    "y.shape"
   ]
  },
  {
   "cell_type": "code",
   "execution_count": 119,
   "metadata": {},
   "outputs": [],
   "source": [
    "X = X.astype(np.float32)"
   ]
  },
  {
   "cell_type": "code",
   "execution_count": 120,
   "metadata": {},
   "outputs": [
    {
     "data": {
      "text/plain": [
       "234240000"
      ]
     },
     "execution_count": 120,
     "metadata": {},
     "output_type": "execute_result"
    }
   ],
   "source": [
    "X.nbytes"
   ]
  },
  {
   "cell_type": "code",
   "execution_count": 121,
   "metadata": {},
   "outputs": [
    {
     "data": {
      "text/plain": [
       "5953600"
      ]
     },
     "execution_count": 121,
     "metadata": {},
     "output_type": "execute_result"
    }
   ],
   "source": [
    "y.nbytes"
   ]
  },
  {
   "cell_type": "code",
   "execution_count": 122,
   "metadata": {},
   "outputs": [],
   "source": [
    "X_train = X\n",
    "y_train = y"
   ]
  },
  {
   "cell_type": "code",
   "execution_count": 123,
   "metadata": {},
   "outputs": [],
   "source": [
    "X_train, X_test, y_train, y_test = train_test_split(X, y, train_size=0.75)"
   ]
  },
  {
   "cell_type": "code",
   "execution_count": 124,
   "metadata": {},
   "outputs": [
    {
     "name": "stdout",
     "output_type": "stream",
     "text": [
      "(9150, 20, 240)\n",
      "(3050, 20, 240)\n",
      "(9150, 122)\n",
      "(3050, 122)\n"
     ]
    }
   ],
   "source": [
    "print(X_train.shape)\n",
    "print(X_test.shape)\n",
    "print(y_train.shape)\n",
    "print(y_test.shape)"
   ]
  },
  {
   "cell_type": "markdown",
   "metadata": {},
   "source": [
    "## 2. Model Compiling"
   ]
  },
  {
   "cell_type": "code",
   "execution_count": 125,
   "metadata": {},
   "outputs": [],
   "source": [
    "from keras.models import Sequential\n",
    "from keras.layers import LSTM, Dense, Dropout, Activation, LayerNormalization, Bidirectional, GRU, TimeDistributed, Attention\n",
    "from keras.regularizers import l1, l2\n",
    "from keras.callbacks import TensorBoard"
   ]
  },
  {
   "cell_type": "code",
   "execution_count": 126,
   "metadata": {},
   "outputs": [],
   "source": [
    "LOG_PATH = os.path.join(\"log\")\n",
    "tb_callback = TensorBoard(log_dir=LOG_PATH)"
   ]
  },
  {
   "cell_type": "code",
   "execution_count": 127,
   "metadata": {},
   "outputs": [
    {
     "data": {
      "text/plain": [
       "(20, 240)"
      ]
     },
     "execution_count": 127,
     "metadata": {},
     "output_type": "execute_result"
    }
   ],
   "source": [
    "modelInputSize = (X.shape[1], X.shape[2])\n",
    "modelInputSize"
   ]
  },
  {
   "cell_type": "code",
   "execution_count": 128,
   "metadata": {},
   "outputs": [],
   "source": [
    "model = Sequential()\n",
    "\n",
    "l2_param = 0.1\n",
    "\n",
    "model.add(\n",
    "    LSTM(\n",
    "        units=128,\n",
    "        input_shape=modelInputSize,\n",
    "        return_sequences=True,\n",
    "        activity_regularizer=l2(l=l2_param),\n",
    "    )\n",
    ")\n",
    "model.add(LayerNormalization())\n",
    "\n",
    "model.add(\n",
    "    LSTM(\n",
    "        units=64,\n",
    "        return_sequences=False,\n",
    "        activity_regularizer=l2(l=l2_param),\n",
    "    )\n",
    ")\n",
    "model.add(LayerNormalization())\n",
    "\n",
    "model.add(\n",
    "    Dense(\n",
    "        units=64, \n",
    "        activity_regularizer=l2(l=l2_param)\n",
    "    )\n",
    ")\n",
    "model.add(LayerNormalization())\n",
    "model.add(Activation(\"relu\"))\n",
    "\n",
    "model.add(\n",
    "    Dense(\n",
    "        units=y.shape[1],\n",
    "        activation=\"softmax\",\n",
    "        activity_regularizer=l2(l=l2_param),\n",
    "    )\n",
    ")"
   ]
  },
  {
   "cell_type": "code",
   "execution_count": 132,
   "metadata": {},
   "outputs": [],
   "source": [
    "model.compile(optimizer='Adam', loss='categorical_crossentropy', metrics=['accuracy', 'categorical_accuracy'])"
   ]
  },
  {
   "cell_type": "markdown",
   "metadata": {},
   "source": [
    "## 3. Model Training"
   ]
  },
  {
   "cell_type": "code",
   "execution_count": 133,
   "metadata": {},
   "outputs": [
    {
     "name": "stdout",
     "output_type": "stream",
     "text": [
      "Epoch 1/30\n",
      "286/286 [==============================] - 10s 24ms/step - loss: 5.0816 - accuracy: 0.1357 - categorical_accuracy: 0.1357\n",
      "Epoch 2/30\n",
      "286/286 [==============================] - 8s 28ms/step - loss: 2.9079 - accuracy: 0.4528 - categorical_accuracy: 0.4528\n",
      "Epoch 3/30\n",
      "286/286 [==============================] - 5s 18ms/step - loss: 1.7615 - accuracy: 0.6787 - categorical_accuracy: 0.6787\n",
      "Epoch 4/30\n",
      "286/286 [==============================] - 5s 18ms/step - loss: 1.1990 - accuracy: 0.7975 - categorical_accuracy: 0.7975\n",
      "Epoch 5/30\n",
      "286/286 [==============================] - 5s 18ms/step - loss: 0.9285 - accuracy: 0.8489 - categorical_accuracy: 0.8489\n",
      "Epoch 6/30\n",
      "286/286 [==============================] - 5s 18ms/step - loss: 0.7383 - accuracy: 0.8908 - categorical_accuracy: 0.8908\n",
      "Epoch 7/30\n",
      "286/286 [==============================] - 5s 19ms/step - loss: 0.6115 - accuracy: 0.9118 - categorical_accuracy: 0.9118\n",
      "Epoch 8/30\n",
      "286/286 [==============================] - 5s 19ms/step - loss: 0.5300 - accuracy: 0.9328 - categorical_accuracy: 0.9328\n",
      "Epoch 9/30\n",
      "286/286 [==============================] - 6s 20ms/step - loss: 0.4947 - accuracy: 0.9345 - categorical_accuracy: 0.9345\n",
      "Epoch 10/30\n",
      "286/286 [==============================] - 5s 19ms/step - loss: 0.4598 - accuracy: 0.9352 - categorical_accuracy: 0.9352\n",
      "Epoch 11/30\n",
      "286/286 [==============================] - 6s 19ms/step - loss: 0.3774 - accuracy: 0.9593 - categorical_accuracy: 0.9593\n",
      "Epoch 12/30\n",
      "286/286 [==============================] - 6s 19ms/step - loss: 0.3515 - accuracy: 0.9598 - categorical_accuracy: 0.9598\n",
      "Epoch 13/30\n",
      "286/286 [==============================] - 6s 19ms/step - loss: 0.3462 - accuracy: 0.9562 - categorical_accuracy: 0.9562\n",
      "Epoch 14/30\n",
      "286/286 [==============================] - 5s 19ms/step - loss: 0.3409 - accuracy: 0.9573 - categorical_accuracy: 0.9573\n",
      "Epoch 15/30\n",
      "286/286 [==============================] - 6s 20ms/step - loss: 0.3211 - accuracy: 0.9622 - categorical_accuracy: 0.9622\n",
      "Epoch 16/30\n",
      "286/286 [==============================] - 6s 20ms/step - loss: 0.2820 - accuracy: 0.9686 - categorical_accuracy: 0.9686\n",
      "Epoch 17/30\n",
      "286/286 [==============================] - 6s 19ms/step - loss: 0.2912 - accuracy: 0.9644 - categorical_accuracy: 0.9644\n",
      "Epoch 18/30\n",
      "286/286 [==============================] - 5s 19ms/step - loss: 0.2692 - accuracy: 0.9709 - categorical_accuracy: 0.9709\n",
      "Epoch 19/30\n",
      "286/286 [==============================] - 5s 19ms/step - loss: 0.2332 - accuracy: 0.9787 - categorical_accuracy: 0.9787\n",
      "Epoch 20/30\n",
      "286/286 [==============================] - 6s 20ms/step - loss: 0.2573 - accuracy: 0.9697 - categorical_accuracy: 0.9697\n",
      "Epoch 21/30\n",
      "286/286 [==============================] - 6s 19ms/step - loss: 0.2331 - accuracy: 0.9776 - categorical_accuracy: 0.9776\n",
      "Epoch 22/30\n",
      "286/286 [==============================] - 6s 19ms/step - loss: 0.2866 - accuracy: 0.9601 - categorical_accuracy: 0.9601\n",
      "Epoch 23/30\n",
      "286/286 [==============================] - 6s 19ms/step - loss: 0.2561 - accuracy: 0.9675 - categorical_accuracy: 0.9675\n",
      "Epoch 24/30\n",
      "286/286 [==============================] - 6s 19ms/step - loss: 0.2001 - accuracy: 0.9855 - categorical_accuracy: 0.9855\n",
      "Epoch 25/30\n",
      "286/286 [==============================] - 6s 19ms/step - loss: 0.2561 - accuracy: 0.9668 - categorical_accuracy: 0.9668\n",
      "Epoch 26/30\n",
      "286/286 [==============================] - 6s 20ms/step - loss: 0.2245 - accuracy: 0.9776 - categorical_accuracy: 0.9776\n",
      "Epoch 27/30\n",
      "286/286 [==============================] - 5s 19ms/step - loss: 0.2066 - accuracy: 0.9790 - categorical_accuracy: 0.9790\n",
      "Epoch 28/30\n",
      "286/286 [==============================] - 5s 19ms/step - loss: 0.2122 - accuracy: 0.9767 - categorical_accuracy: 0.9767\n",
      "Epoch 29/30\n",
      "286/286 [==============================] - 5s 19ms/step - loss: 0.2170 - accuracy: 0.9786 - categorical_accuracy: 0.9786\n",
      "Epoch 30/30\n",
      "286/286 [==============================] - 6s 19ms/step - loss: 0.1898 - accuracy: 0.9849 - categorical_accuracy: 0.9849\n"
     ]
    },
    {
     "data": {
      "text/plain": [
       "<keras.callbacks.History at 0x2739c23fe20>"
      ]
     },
     "execution_count": 133,
     "metadata": {},
     "output_type": "execute_result"
    }
   ],
   "source": [
    "# Model training\n",
    "model.fit(X_train, y_train, epochs=30)"
   ]
  },
  {
   "cell_type": "code",
   "execution_count": 27,
   "metadata": {},
   "outputs": [],
   "source": [
    "MODEL_PATH = os.path.join(\"../action_recognition/models\")"
   ]
  },
  {
   "cell_type": "code",
   "execution_count": 28,
   "metadata": {},
   "outputs": [],
   "source": [
    "model.save(os.path.join(MODEL_PATH, 'model_v10_1.keras'))"
   ]
  },
  {
   "cell_type": "code",
   "execution_count": 1,
   "metadata": {},
   "outputs": [
    {
     "ename": "NameError",
     "evalue": "name 'os' is not defined",
     "output_type": "error",
     "traceback": [
      "\u001b[1;31m---------------------------------------------------------------------------\u001b[0m",
      "\u001b[1;31mNameError\u001b[0m                                 Traceback (most recent call last)",
      "Cell \u001b[1;32mIn[1], line 2\u001b[0m\n\u001b[0;32m      1\u001b[0m \u001b[38;5;28;01mfrom\u001b[39;00m \u001b[38;5;21;01mkeras\u001b[39;00m\u001b[38;5;21;01m.\u001b[39;00m\u001b[38;5;21;01mmodels\u001b[39;00m \u001b[38;5;28;01mimport\u001b[39;00m load_model\n\u001b[1;32m----> 2\u001b[0m model \u001b[38;5;241m=\u001b[39m load_model(\u001b[43mos\u001b[49m\u001b[38;5;241m.\u001b[39mpath\u001b[38;5;241m.\u001b[39mjoin(MODEL_PATH, \u001b[38;5;124m'\u001b[39m\u001b[38;5;124mmodel_v10_1.keras\u001b[39m\u001b[38;5;124m'\u001b[39m))\n",
      "\u001b[1;31mNameError\u001b[0m: name 'os' is not defined"
     ]
    }
   ],
   "source": [
    "from keras.models import load_model\n",
    "model = load_model(os.path.join(MODEL_PATH, 'model_v10_1.keras'))"
   ]
  },
  {
   "cell_type": "code",
   "execution_count": 29,
   "metadata": {},
   "outputs": [
    {
     "name": "stdout",
     "output_type": "stream",
     "text": [
      "Model: \"sequential\"\n",
      "_________________________________________________________________\n",
      " Layer (type)                Output Shape              Param #   \n",
      "=================================================================\n",
      " lstm (LSTM)                 (None, 20, 128)           188928    \n",
      "                                                                 \n",
      " layer_normalization (LayerN  (None, 20, 128)          256       \n",
      " ormalization)                                                   \n",
      "                                                                 \n",
      " lstm_1 (LSTM)               (None, 64)                49408     \n",
      "                                                                 \n",
      " layer_normalization_1 (Laye  (None, 64)               128       \n",
      " rNormalization)                                                 \n",
      "                                                                 \n",
      " dense (Dense)               (None, 64)                4160      \n",
      "                                                                 \n",
      " layer_normalization_2 (Laye  (None, 64)               128       \n",
      " rNormalization)                                                 \n",
      "                                                                 \n",
      " activation (Activation)     (None, 64)                0         \n",
      "                                                                 \n",
      " dense_1 (Dense)             (None, 122)               7930      \n",
      "                                                                 \n",
      "=================================================================\n",
      "Total params: 250,938\n",
      "Trainable params: 250,938\n",
      "Non-trainable params: 0\n",
      "_________________________________________________________________\n"
     ]
    }
   ],
   "source": [
    "model.summary()"
   ]
  },
  {
   "cell_type": "markdown",
   "metadata": {},
   "source": [
    "## 4. Model Testing"
   ]
  },
  {
   "cell_type": "code",
   "execution_count": 134,
   "metadata": {},
   "outputs": [
    {
     "name": "stdout",
     "output_type": "stream",
     "text": [
      "96/96 [==============================] - 1s 7ms/step\n"
     ]
    }
   ],
   "source": [
    "test_results = model.predict(X_test)"
   ]
  },
  {
   "cell_type": "code",
   "execution_count": 135,
   "metadata": {},
   "outputs": [],
   "source": [
    "from sklearn.metrics import multilabel_confusion_matrix, accuracy_score"
   ]
  },
  {
   "cell_type": "code",
   "execution_count": 136,
   "metadata": {},
   "outputs": [],
   "source": [
    "y_actual = np.argmax(y_test, axis=1)\n",
    "y_predict = np.argmax(test_results, axis=1)"
   ]
  },
  {
   "cell_type": "code",
   "execution_count": 137,
   "metadata": {},
   "outputs": [
    {
     "data": {
      "text/plain": [
       "0.9580327868852458"
      ]
     },
     "execution_count": 137,
     "metadata": {},
     "output_type": "execute_result"
    }
   ],
   "source": [
    "accuracy_score(y_actual, y_predict)"
   ]
  },
  {
   "cell_type": "code",
   "execution_count": 138,
   "metadata": {},
   "outputs": [
    {
     "data": {
      "text/plain": [
       "array([[[3025,    0],\n",
       "        [   1,   24]],\n",
       "\n",
       "       [[3027,    0],\n",
       "        [   3,   20]],\n",
       "\n",
       "       [[3024,    1],\n",
       "        [   2,   23]],\n",
       "\n",
       "       [[3017,    5],\n",
       "        [   0,   28]],\n",
       "\n",
       "       [[3020,    1],\n",
       "        [   1,   28]],\n",
       "\n",
       "       [[3023,    1],\n",
       "        [   4,   22]],\n",
       "\n",
       "       [[3028,    1],\n",
       "        [   1,   20]],\n",
       "\n",
       "       [[3029,    1],\n",
       "        [   1,   19]],\n",
       "\n",
       "       [[3013,    2],\n",
       "        [   3,   32]],\n",
       "\n",
       "       [[3016,    3],\n",
       "        [   3,   28]],\n",
       "\n",
       "       [[3027,    3],\n",
       "        [   0,   20]],\n",
       "\n",
       "       [[3025,    0],\n",
       "        [   1,   24]],\n",
       "\n",
       "       [[3021,    2],\n",
       "        [   2,   25]],\n",
       "\n",
       "       [[3032,    0],\n",
       "        [   2,   16]],\n",
       "\n",
       "       [[3026,    0],\n",
       "        [   2,   22]],\n",
       "\n",
       "       [[3015,    9],\n",
       "        [   0,   26]],\n",
       "\n",
       "       [[3024,    1],\n",
       "        [   3,   22]],\n",
       "\n",
       "       [[3028,    3],\n",
       "        [   0,   19]],\n",
       "\n",
       "       [[3026,    1],\n",
       "        [   0,   23]],\n",
       "\n",
       "       [[3033,    0],\n",
       "        [   2,   15]],\n",
       "\n",
       "       [[3023,    0],\n",
       "        [   1,   26]],\n",
       "\n",
       "       [[3020,    2],\n",
       "        [   0,   28]],\n",
       "\n",
       "       [[3020,    0],\n",
       "        [   0,   30]],\n",
       "\n",
       "       [[3028,    0],\n",
       "        [   2,   20]],\n",
       "\n",
       "       [[3025,    0],\n",
       "        [   2,   23]],\n",
       "\n",
       "       [[3032,    0],\n",
       "        [   4,   14]],\n",
       "\n",
       "       [[3021,    0],\n",
       "        [   6,   23]],\n",
       "\n",
       "       [[3020,    1],\n",
       "        [   1,   28]],\n",
       "\n",
       "       [[3027,    2],\n",
       "        [   3,   18]],\n",
       "\n",
       "       [[3025,    0],\n",
       "        [   3,   22]],\n",
       "\n",
       "       [[3017,    2],\n",
       "        [   1,   30]],\n",
       "\n",
       "       [[3025,    1],\n",
       "        [   0,   24]],\n",
       "\n",
       "       [[3014,    1],\n",
       "        [   1,   34]],\n",
       "\n",
       "       [[3013,    4],\n",
       "        [   1,   32]],\n",
       "\n",
       "       [[3023,    0],\n",
       "        [   0,   27]],\n",
       "\n",
       "       [[3029,    0],\n",
       "        [   1,   20]],\n",
       "\n",
       "       [[3024,    0],\n",
       "        [   1,   25]],\n",
       "\n",
       "       [[3027,    0],\n",
       "        [   0,   23]],\n",
       "\n",
       "       [[3030,    0],\n",
       "        [   1,   19]],\n",
       "\n",
       "       [[3017,    2],\n",
       "        [   0,   31]],\n",
       "\n",
       "       [[3022,    4],\n",
       "        [   2,   22]],\n",
       "\n",
       "       [[3028,    1],\n",
       "        [   0,   21]],\n",
       "\n",
       "       [[3027,    0],\n",
       "        [   0,   23]],\n",
       "\n",
       "       [[3030,    0],\n",
       "        [   0,   20]],\n",
       "\n",
       "       [[3026,    0],\n",
       "        [   0,   24]],\n",
       "\n",
       "       [[3030,    0],\n",
       "        [   3,   17]],\n",
       "\n",
       "       [[3023,    0],\n",
       "        [   0,   27]],\n",
       "\n",
       "       [[3024,    0],\n",
       "        [   2,   24]],\n",
       "\n",
       "       [[3026,    0],\n",
       "        [   0,   24]],\n",
       "\n",
       "       [[3025,    1],\n",
       "        [   0,   24]],\n",
       "\n",
       "       [[3026,    0],\n",
       "        [   0,   24]],\n",
       "\n",
       "       [[3019,    0],\n",
       "        [   0,   31]],\n",
       "\n",
       "       [[3021,    0],\n",
       "        [   0,   29]],\n",
       "\n",
       "       [[3029,    1],\n",
       "        [   1,   19]],\n",
       "\n",
       "       [[3024,    0],\n",
       "        [   4,   22]],\n",
       "\n",
       "       [[3016,    3],\n",
       "        [   1,   30]],\n",
       "\n",
       "       [[3032,    0],\n",
       "        [   0,   18]],\n",
       "\n",
       "       [[3033,    0],\n",
       "        [   0,   17]],\n",
       "\n",
       "       [[3030,    0],\n",
       "        [   0,   20]],\n",
       "\n",
       "       [[3028,    0],\n",
       "        [   1,   21]],\n",
       "\n",
       "       [[3033,    0],\n",
       "        [   0,   17]],\n",
       "\n",
       "       [[3017,    1],\n",
       "        [   0,   32]],\n",
       "\n",
       "       [[3026,    0],\n",
       "        [   0,   24]],\n",
       "\n",
       "       [[3017,    0],\n",
       "        [   0,   33]],\n",
       "\n",
       "       [[3021,    2],\n",
       "        [   1,   26]],\n",
       "\n",
       "       [[3027,    1],\n",
       "        [   1,   21]],\n",
       "\n",
       "       [[3019,    2],\n",
       "        [   2,   27]],\n",
       "\n",
       "       [[3020,    1],\n",
       "        [   0,   29]],\n",
       "\n",
       "       [[3028,    0],\n",
       "        [   1,   21]],\n",
       "\n",
       "       [[3022,    2],\n",
       "        [   0,   26]],\n",
       "\n",
       "       [[3029,    0],\n",
       "        [   2,   19]],\n",
       "\n",
       "       [[3020,    1],\n",
       "        [   0,   29]],\n",
       "\n",
       "       [[3030,    0],\n",
       "        [   0,   20]],\n",
       "\n",
       "       [[3023,    8],\n",
       "        [   1,   18]],\n",
       "\n",
       "       [[3021,    2],\n",
       "        [   5,   22]],\n",
       "\n",
       "       [[3021,    5],\n",
       "        [   3,   21]],\n",
       "\n",
       "       [[3022,    1],\n",
       "        [   0,   27]],\n",
       "\n",
       "       [[3024,    2],\n",
       "        [   2,   22]],\n",
       "\n",
       "       [[3020,    4],\n",
       "        [   1,   25]],\n",
       "\n",
       "       [[3030,    0],\n",
       "        [   0,   20]],\n",
       "\n",
       "       [[3024,    3],\n",
       "        [   0,   23]],\n",
       "\n",
       "       [[3021,    0],\n",
       "        [   1,   28]],\n",
       "\n",
       "       [[3023,    1],\n",
       "        [   1,   25]],\n",
       "\n",
       "       [[3014,    2],\n",
       "        [   0,   34]],\n",
       "\n",
       "       [[3024,    1],\n",
       "        [   0,   25]],\n",
       "\n",
       "       [[3021,    1],\n",
       "        [   2,   26]],\n",
       "\n",
       "       [[3023,    1],\n",
       "        [   1,   25]],\n",
       "\n",
       "       [[3022,    2],\n",
       "        [   0,   26]],\n",
       "\n",
       "       [[3027,    0],\n",
       "        [   0,   23]],\n",
       "\n",
       "       [[3021,    0],\n",
       "        [   2,   27]],\n",
       "\n",
       "       [[3024,    0],\n",
       "        [   0,   26]],\n",
       "\n",
       "       [[3022,    1],\n",
       "        [   3,   24]],\n",
       "\n",
       "       [[3032,    0],\n",
       "        [   0,   18]],\n",
       "\n",
       "       [[3022,    0],\n",
       "        [   0,   28]],\n",
       "\n",
       "       [[3025,    1],\n",
       "        [   0,   24]],\n",
       "\n",
       "       [[3022,    0],\n",
       "        [   0,   28]],\n",
       "\n",
       "       [[3011,    3],\n",
       "        [   0,   36]],\n",
       "\n",
       "       [[3021,    2],\n",
       "        [   1,   26]],\n",
       "\n",
       "       [[3022,    0],\n",
       "        [   0,   28]],\n",
       "\n",
       "       [[3027,    1],\n",
       "        [   5,   17]],\n",
       "\n",
       "       [[3028,    0],\n",
       "        [   0,   22]],\n",
       "\n",
       "       [[3023,    0],\n",
       "        [   0,   27]],\n",
       "\n",
       "       [[3033,    1],\n",
       "        [   0,   16]],\n",
       "\n",
       "       [[3023,    0],\n",
       "        [   1,   26]],\n",
       "\n",
       "       [[3025,    1],\n",
       "        [   2,   22]],\n",
       "\n",
       "       [[3017,    1],\n",
       "        [   1,   31]],\n",
       "\n",
       "       [[3017,    2],\n",
       "        [   0,   31]],\n",
       "\n",
       "       [[3022,    0],\n",
       "        [   0,   28]],\n",
       "\n",
       "       [[3031,    1],\n",
       "        [   0,   18]],\n",
       "\n",
       "       [[3027,    2],\n",
       "        [   0,   21]],\n",
       "\n",
       "       [[3021,    1],\n",
       "        [   3,   25]],\n",
       "\n",
       "       [[3021,    3],\n",
       "        [   1,   25]],\n",
       "\n",
       "       [[3026,    0],\n",
       "        [   0,   24]],\n",
       "\n",
       "       [[3023,    1],\n",
       "        [   1,   25]],\n",
       "\n",
       "       [[3028,    0],\n",
       "        [   3,   19]],\n",
       "\n",
       "       [[3022,    1],\n",
       "        [   0,   27]],\n",
       "\n",
       "       [[3030,    1],\n",
       "        [   1,   18]],\n",
       "\n",
       "       [[3026,    0],\n",
       "        [   4,   20]],\n",
       "\n",
       "       [[3022,    0],\n",
       "        [   0,   28]],\n",
       "\n",
       "       [[3031,    0],\n",
       "        [   0,   19]],\n",
       "\n",
       "       [[3029,    1],\n",
       "        [   0,   20]],\n",
       "\n",
       "       [[3021,    2],\n",
       "        [   3,   24]]], dtype=int64)"
      ]
     },
     "execution_count": 138,
     "metadata": {},
     "output_type": "execute_result"
    }
   ],
   "source": [
    "multilabel_confusion_matrix(y_actual, y_predict)"
   ]
  },
  {
   "cell_type": "code",
   "execution_count": 139,
   "metadata": {},
   "outputs": [
    {
     "data": {
      "image/png": "[encoded data removed]",
      "text/plain": [
       "<Figure size 640x480 with 2 Axes>"
      ]
     },
     "metadata": {},
     "output_type": "display_data"
    }
   ],
   "source": [
    "from sklearn.metrics import ConfusionMatrixDisplay, confusion_matrix\n",
    "import matplotlib.pyplot as plt\n",
    "%matplotlib inline\n",
    "\n",
    "test_pm = np.array([1, 2, 3, 4, 5])\n",
    "cm = confusion_matrix(y_actual, y_predict)\n",
    "cmDisp = ConfusionMatrixDisplay(confusion_matrix=cm)\n",
    "cmDisp.plot(include_values=False)\n",
    "plt.show()"
   ]
  },
  {
   "cell_type": "markdown",
   "metadata": {},
   "source": [
    "## 5. Saving Model Weights"
   ]
  },
  {
   "cell_type": "code",
   "execution_count": 53,
   "metadata": {},
   "outputs": [],
   "source": [
    "MODEL_PATH = os.path.join(\"../action-recognition/models\")"
   ]
  },
  {
   "cell_type": "code",
   "execution_count": 95,
   "metadata": {},
   "outputs": [],
   "source": [
    "model.save(os.path.join(MODEL_PATH, \"model_v2_float16_1.h5\"))"
   ]
  }
 ],
 "metadata": {
  "kernelspec": {
   "display_name": "Python 3",
   "language": "python",
   "name": "python3"
  },
  "language_info": {
   "codemirror_mode": {
    "name": "ipython",
    "version": 3
   },
   "file_extension": ".py",
   "mimetype": "text/x-python",
   "name": "python",
   "nbconvert_exporter": "python",
   "pygments_lexer": "ipython3",
   "version": "3.9.6"
  }
 },
 "nbformat": 4,
 "nbformat_minor": 2
}
