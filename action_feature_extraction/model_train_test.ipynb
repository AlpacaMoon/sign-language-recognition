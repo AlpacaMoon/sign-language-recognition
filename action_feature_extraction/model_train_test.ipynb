{
 "cells": [
  {
   "cell_type": "markdown",
   "metadata": {},
   "source": [
    "## Action Recognition Model Training & Testing"
   ]
  },
  {
   "cell_type": "code",
   "execution_count": 1,
   "metadata": {},
   "outputs": [],
   "source": [
    "import os\n",
    "from constants import *\n",
    "import numpy as np"
   ]
  },
  {
   "cell_type": "code",
   "execution_count": 2,
   "metadata": {},
   "outputs": [
    {
     "data": {
      "text/plain": [
       "{'0': 'hello',\n",
       " '1': 'good/thank you',\n",
       " '2': 'help',\n",
       " '3': 'I/me',\n",
       " '4': 'please',\n",
       " '5': 'sorry',\n",
       " '6': 'welcome',\n",
       " '7': 'welcome',\n",
       " '8': 'ok',\n",
       " '9': 'what',\n",
       " '10': 'what',\n",
       " '11': 'can',\n",
       " '12': 'thank you very much',\n",
       " '13': 'deaf',\n",
       " '14': 'do not',\n",
       " '15': 'feel',\n",
       " '16': 'eat/food',\n",
       " '17': 'eat a lot',\n",
       " '18': 'tired',\n",
       " '19': 'because',\n",
       " '20': 'sick',\n",
       " '21': 'drink',\n",
       " '22': 'drink',\n",
       " '23': 'apple',\n",
       " '24': 'banana',\n",
       " '25': 'drive',\n",
       " '26': 'again',\n",
       " '27': 'also',\n",
       " '28': 'ask',\n",
       " '29': 'yes',\n",
       " '30': 'no',\n",
       " '31': 'man',\n",
       " '32': 'man',\n",
       " '33': 'woman',\n",
       " '34': 'woman',\n",
       " '35': 'he/she',\n",
       " '36': 'bad',\n",
       " '37': 'have/has/had',\n",
       " '38': 'have/has/had',\n",
       " '39': 'when',\n",
       " '40': 'where',\n",
       " '41': 'which',\n",
       " '42': 'who',\n",
       " '43': 'why',\n",
       " '44': 'how',\n",
       " '45': 'you',\n",
       " '46': 'boy',\n",
       " '47': 'girl',\n",
       " '48': 'friend',\n",
       " '49': 'finish/complete',\n",
       " '50': 'find',\n",
       " '51': 'other',\n",
       " '52': 'forget',\n",
       " '53': 'give',\n",
       " '54': 'give you',\n",
       " '55': 'give me',\n",
       " '56': 'go',\n",
       " '57': 'get',\n",
       " '58': 'understand/comprehend',\n",
       " '59': 'use',\n",
       " '60': 'will',\n",
       " '61': 'with',\n",
       " '62': 'wait',\n",
       " '63': 'work',\n",
       " '64': 'they',\n",
       " '65': 'their',\n",
       " '66': 'school',\n",
       " '67': 'write',\n",
       " '68': 'send text/message',\n",
       " '69': 'email',\n",
       " '70': 'email',\n",
       " '71': 'home',\n",
       " '72': 'but',\n",
       " '73': 'should',\n",
       " '74': 'not',\n",
       " '75': 'my',\n",
       " '76': 'name',\n",
       " '77': 'like',\n",
       " '78': 'say',\n",
       " '79': 'cold',\n",
       " '80': 'hot',\n",
       " '81': 'family',\n",
       " '82': 'mother',\n",
       " '83': 'father',\n",
       " '84': 'many',\n",
       " '85': 'few',\n",
       " '86': 'now',\n",
       " '87': 'later',\n",
       " '88': 'time',\n",
       " '89': 'tomorrow',\n",
       " '90': 'yesterday',\n",
       " '91': 'same/also',\n",
       " '92': 'remember',\n",
       " '93': 'your',\n",
       " '94': 'more',\n",
       " '95': 'meet',\n",
       " '96': 'see',\n",
       " '97': 'slow',\n",
       " '98': 'fast/quick',\n",
       " '99': 'some',\n",
       " '100': 'store/shop',\n",
       " '101': 'take',\n",
       " '102': 'take/bring me',\n",
       " '103': 'tell',\n",
       " '104': 'think',\n",
       " '105': 'want',\n",
       " '106': 'inexpensive',\n",
       " '107': 'expensive',\n",
       " '108': 'that',\n",
       " '109': 'this',\n",
       " '110': 'here',\n",
       " '111': 'near',\n",
       " '112': 'far',\n",
       " '113': 'cat',\n",
       " '114': 'dog',\n",
       " '115': 'morning',\n",
       " '116': 'night',\n",
       " '117': 'beautiful',\n",
       " '118': 'open',\n",
       " '119': 'close/shut',\n",
       " '120': 'close/shut',\n",
       " '121': 'NONE'}"
      ]
     },
     "execution_count": 2,
     "metadata": {},
     "output_type": "execute_result"
    }
   ],
   "source": [
    "from files_io import readActionLabels, readActionMapping\n",
    "\n",
    "action_labels = readActionLabels()\n",
    "action_labels"
   ]
  },
  {
   "cell_type": "code",
   "execution_count": 3,
   "metadata": {},
   "outputs": [
    {
     "data": {
      "text/plain": [
       "{'hello': '0',\n",
       " 'good/thank you': '1',\n",
       " 'help': '2',\n",
       " 'I/me': '3',\n",
       " 'please': '4',\n",
       " 'sorry': '5',\n",
       " 'welcome': '7',\n",
       " 'ok': '8',\n",
       " 'what': '10',\n",
       " 'can': '11',\n",
       " 'thank you very much': '12',\n",
       " 'deaf': '13',\n",
       " 'do not': '14',\n",
       " 'feel': '15',\n",
       " 'eat/food': '16',\n",
       " 'eat a lot': '17',\n",
       " 'tired': '18',\n",
       " 'because': '19',\n",
       " 'sick': '20',\n",
       " 'drink': '22',\n",
       " 'apple': '23',\n",
       " 'banana': '24',\n",
       " 'drive': '25',\n",
       " 'again': '26',\n",
       " 'also': '27',\n",
       " 'ask': '28',\n",
       " 'yes': '29',\n",
       " 'no': '30',\n",
       " 'man': '32',\n",
       " 'woman': '34',\n",
       " 'he/she': '35',\n",
       " 'bad': '36',\n",
       " 'have/has/had': '38',\n",
       " 'when': '39',\n",
       " 'where': '40',\n",
       " 'which': '41',\n",
       " 'who': '42',\n",
       " 'why': '43',\n",
       " 'how': '44',\n",
       " 'you': '45',\n",
       " 'boy': '46',\n",
       " 'girl': '47',\n",
       " 'friend': '48',\n",
       " 'finish/complete': '49',\n",
       " 'find': '50',\n",
       " 'other': '51',\n",
       " 'forget': '52',\n",
       " 'give': '53',\n",
       " 'give you': '54',\n",
       " 'give me': '55',\n",
       " 'go': '56',\n",
       " 'get': '57',\n",
       " 'understand/comprehend': '58',\n",
       " 'use': '59',\n",
       " 'will': '60',\n",
       " 'with': '61',\n",
       " 'wait': '62',\n",
       " 'work': '63',\n",
       " 'they': '64',\n",
       " 'their': '65',\n",
       " 'school': '66',\n",
       " 'write': '67',\n",
       " 'send text/message': '68',\n",
       " 'email': '70',\n",
       " 'home': '71',\n",
       " 'but': '72',\n",
       " 'should': '73',\n",
       " 'not': '74',\n",
       " 'my': '75',\n",
       " 'name': '76',\n",
       " 'like': '77',\n",
       " 'say': '78',\n",
       " 'cold': '79',\n",
       " 'hot': '80',\n",
       " 'family': '81',\n",
       " 'mother': '82',\n",
       " 'father': '83',\n",
       " 'many': '84',\n",
       " 'few': '85',\n",
       " 'now': '86',\n",
       " 'later': '87',\n",
       " 'time': '88',\n",
       " 'tomorrow': '89',\n",
       " 'yesterday': '90',\n",
       " 'same/also': '91',\n",
       " 'remember': '92',\n",
       " 'your': '93',\n",
       " 'more': '94',\n",
       " 'meet': '95',\n",
       " 'see': '96',\n",
       " 'slow': '97',\n",
       " 'fast/quick': '98',\n",
       " 'some': '99',\n",
       " 'store/shop': '100',\n",
       " 'take': '101',\n",
       " 'take/bring me': '102',\n",
       " 'tell': '103',\n",
       " 'think': '104',\n",
       " 'want': '105',\n",
       " 'inexpensive': '106',\n",
       " 'expensive': '107',\n",
       " 'that': '108',\n",
       " 'this': '109',\n",
       " 'here': '110',\n",
       " 'near': '111',\n",
       " 'far': '112',\n",
       " 'cat': '113',\n",
       " 'dog': '114',\n",
       " 'morning': '115',\n",
       " 'night': '116',\n",
       " 'beautiful': '117',\n",
       " 'open': '118',\n",
       " 'close/shut': '120',\n",
       " 'NONE': '121'}"
      ]
     },
     "execution_count": 3,
     "metadata": {},
     "output_type": "execute_result"
    }
   ],
   "source": [
    "action_mapping = readActionMapping()\n",
    "action_mapping"
   ]
  },
  {
   "cell_type": "markdown",
   "metadata": {},
   "source": [
    "### 1. Preprocess Data"
   ]
  },
  {
   "cell_type": "code",
   "execution_count": 4,
   "metadata": {},
   "outputs": [],
   "source": [
    "from sklearn.model_selection import train_test_split\n",
    "from keras.utils import to_categorical"
   ]
  },
  {
   "cell_type": "code",
   "execution_count": 5,
   "metadata": {},
   "outputs": [],
   "source": [
    "features, labels = [], []\n",
    "\n",
    "for action in action_labels:\n",
    "    folderName = (action + \",\" + action_labels[action]).replace(\"/\", \"_\")\n",
    "    for npyFile in os.listdir(os.path.join(KEYPOINTS_PATH, folderName)):\n",
    "        load_data = np.load(os.path.join(KEYPOINTS_PATH, folderName, npyFile))\n",
    "        features.extend(load_data)\n",
    "        labels.extend(np.full((load_data.shape[0], 1), int(action), dtype=int))\n"
   ]
  },
  {
   "cell_type": "code",
   "execution_count": 6,
   "metadata": {},
   "outputs": [
    {
     "data": {
      "text/plain": [
       "(12200, 20, 240)"
      ]
     },
     "execution_count": 6,
     "metadata": {},
     "output_type": "execute_result"
    }
   ],
   "source": [
    "np.array(features).shape"
   ]
  },
  {
   "cell_type": "code",
   "execution_count": 7,
   "metadata": {},
   "outputs": [
    {
     "data": {
      "text/plain": [
       "(12200, 1)"
      ]
     },
     "execution_count": 7,
     "metadata": {},
     "output_type": "execute_result"
    }
   ],
   "source": [
    "np.array(labels).shape"
   ]
  },
  {
   "cell_type": "code",
   "execution_count": 8,
   "metadata": {},
   "outputs": [
    {
     "data": {
      "text/plain": [
       "(12200, 20, 240)"
      ]
     },
     "execution_count": 8,
     "metadata": {},
     "output_type": "execute_result"
    }
   ],
   "source": [
    "X = np.array(features)\n",
    "X.shape"
   ]
  },
  {
   "cell_type": "code",
   "execution_count": 9,
   "metadata": {},
   "outputs": [
    {
     "data": {
      "text/plain": [
       "(12200, 122)"
      ]
     },
     "execution_count": 9,
     "metadata": {},
     "output_type": "execute_result"
    }
   ],
   "source": [
    "y = to_categorical(labels).astype(int)\n",
    "y.shape"
   ]
  },
  {
   "cell_type": "code",
   "execution_count": 10,
   "metadata": {},
   "outputs": [],
   "source": [
    "X = X.astype(np.float32)"
   ]
  },
  {
   "cell_type": "code",
   "execution_count": 11,
   "metadata": {},
   "outputs": [
    {
     "data": {
      "text/plain": [
       "234240000"
      ]
     },
     "execution_count": 11,
     "metadata": {},
     "output_type": "execute_result"
    }
   ],
   "source": [
    "X.nbytes"
   ]
  },
  {
   "cell_type": "code",
   "execution_count": 12,
   "metadata": {},
   "outputs": [
    {
     "data": {
      "text/plain": [
       "5953600"
      ]
     },
     "execution_count": 12,
     "metadata": {},
     "output_type": "execute_result"
    }
   ],
   "source": [
    "y.nbytes"
   ]
  },
  {
   "cell_type": "code",
   "execution_count": 16,
   "metadata": {},
   "outputs": [],
   "source": [
    "X_train = X\n",
    "y_train = y"
   ]
  },
  {
   "cell_type": "code",
   "execution_count": 14,
   "metadata": {},
   "outputs": [],
   "source": [
    "X_train, X_test, y_train, y_test = train_test_split(X, y, train_size=0.75)"
   ]
  },
  {
   "cell_type": "code",
   "execution_count": 17,
   "metadata": {},
   "outputs": [
    {
     "name": "stdout",
     "output_type": "stream",
     "text": [
      "(12200, 20, 240)\n",
      "(3050, 20, 240)\n",
      "(12200, 122)\n",
      "(3050, 122)\n"
     ]
    }
   ],
   "source": [
    "print(X_train.shape)\n",
    "print(X_test.shape)\n",
    "print(y_train.shape)\n",
    "print(y_test.shape)"
   ]
  },
  {
   "cell_type": "markdown",
   "metadata": {},
   "source": [
    "2. Model Compiling"
   ]
  },
  {
   "cell_type": "code",
   "execution_count": 18,
   "metadata": {},
   "outputs": [],
   "source": [
    "from keras.models import Sequential\n",
    "from keras.layers import LSTM, Dense, Dropout, Activation, LayerNormalization, Bidirectional, GRU, TimeDistributed, Attention\n",
    "from keras.regularizers import l1, l2\n",
    "from keras.callbacks import TensorBoard"
   ]
  },
  {
   "cell_type": "code",
   "execution_count": 19,
   "metadata": {},
   "outputs": [],
   "source": [
    "LOG_PATH = os.path.join(\"log\")\n",
    "tb_callback = TensorBoard(log_dir=LOG_PATH)"
   ]
  },
  {
   "cell_type": "code",
   "execution_count": 20,
   "metadata": {},
   "outputs": [
    {
     "data": {
      "text/plain": [
       "(20, 240)"
      ]
     },
     "execution_count": 20,
     "metadata": {},
     "output_type": "execute_result"
    }
   ],
   "source": [
    "modelInputSize = (X.shape[1], X.shape[2])\n",
    "modelInputSize"
   ]
  },
  {
   "cell_type": "code",
   "execution_count": 43,
   "metadata": {},
   "outputs": [],
   "source": [
    "model = Sequential()\n",
    "\n",
    "l1_param = 0.01\n",
    "l2_param = 0.1\n",
    "\n",
    "model.add(\n",
    "    LSTM(\n",
    "        units=128,\n",
    "        input_shape=modelInputSize,\n",
    "        return_sequences=True,\n",
    "        # kernel_regularizer=l1(l=l1_param),\n",
    "        activity_regularizer=l2(l=l2_param),\n",
    "    )\n",
    ")\n",
    "model.add(LayerNormalization())\n",
    "model.add(Dropout(0.2))\n",
    "\n",
    "model.add(\n",
    "    LSTM(\n",
    "        units=64,\n",
    "        return_sequences=False,\n",
    "        # kernel_regularizer=l1(l=l1_param),\n",
    "        activity_regularizer=l2(l=l2_param),\n",
    "    )\n",
    ")\n",
    "model.add(LayerNormalization())\n",
    "model.add(Dropout(0.15))\n",
    "\n",
    "model.add(\n",
    "    Dense(\n",
    "        units=64, \n",
    "        # kernel_regularizer=l1(l=l1_param), \n",
    "        activity_regularizer=l2(l=l2_param)\n",
    "    )\n",
    ")\n",
    "model.add(LayerNormalization())\n",
    "model.add(Activation(\"relu\"))\n",
    "# model.add(Dropout(0.15))\n",
    "\n",
    "model.add(\n",
    "    Dense(\n",
    "        units=y.shape[1],\n",
    "        activation=\"softmax\",\n",
    "        # kernel_regularizer=l1(l=l1_param),\n",
    "        activity_regularizer=l2(l=l2_param),\n",
    "    )\n",
    ")"
   ]
  },
  {
   "cell_type": "code",
   "execution_count": 44,
   "metadata": {},
   "outputs": [],
   "source": [
    "# model = Sequential()\n",
    "\n",
    "# model.add(LSTM(128, input_shape=modelInputSize, return_sequences=True))\n",
    "# model.add(LayerNormalization())\n",
    "# model.add(Dropout(0.1))\n",
    "\n",
    "# model.add(LSTM(64, return_sequences=False))\n",
    "# model.add(LayerNormalization())\n",
    "# model.add(Dropout(0.1))\n",
    "\n",
    "# model.add(Dense(64))\n",
    "# model.add(LayerNormalization())\n",
    "# model.add(Activation('relu'))\n",
    "# model.add(Dropout(0.1))\n",
    "\n",
    "# model.add(Dense(units=y.shape[1], activation='softmax'))\n"
   ]
  },
  {
   "cell_type": "code",
   "execution_count": 45,
   "metadata": {},
   "outputs": [],
   "source": [
    "# model = Sequential()\n",
    "# model.add(LSTM(units=256, activation='relu', dropout=0.2, return_sequences=True, input_shape=modelInputSize))\n",
    "# model.add(LSTM(units=128, activation='relu', return_sequences=True))\n",
    "# model.add(LSTM(units=256, activation='relu', return_sequences=False))\n",
    "# model.add(Dense(units=128, activation='relu'))\n",
    "# model.add(Dense(units=64, activation='relu'))\n",
    "# model.add(Dense(units=y.shape[1], activation='softmax'))"
   ]
  },
  {
   "cell_type": "code",
   "execution_count": 46,
   "metadata": {},
   "outputs": [],
   "source": [
    "# model = Sequential()\n",
    "# model.add(LSTM(units=64, activation='relu', return_sequences=True, input_shape=modelInputSize))\n",
    "# model.add(LSTM(units=128, activation='relu', return_sequences=True))\n",
    "# model.add(LSTM(units=64, activation='relu', return_sequences=False))\n",
    "# model.add(Dense(units=64, activation='relu'))\n",
    "# # model.add(Dropout)\n",
    "# model.add(Dense(units=32, activation='relu'))\n",
    "# model.add(Dense(units=y.shape[1], activation='softmax'))\n"
   ]
  },
  {
   "cell_type": "code",
   "execution_count": 47,
   "metadata": {},
   "outputs": [],
   "source": [
    "model.compile(optimizer='Adam', loss='categorical_crossentropy', metrics=['accuracy', 'categorical_accuracy'])"
   ]
  },
  {
   "cell_type": "markdown",
   "metadata": {},
   "source": [
    "3. Model Training"
   ]
  },
  {
   "cell_type": "code",
   "execution_count": 48,
   "metadata": {},
   "outputs": [
    {
     "name": "stdout",
     "output_type": "stream",
     "text": [
      "Epoch 1/30\n",
      "382/382 [==============================] - 16s 27ms/step - loss: 5.6014 - accuracy: 0.0595 - categorical_accuracy: 0.0595\n",
      "Epoch 2/30\n",
      "382/382 [==============================] - 10s 27ms/step - loss: 3.0810 - accuracy: 0.3433 - categorical_accuracy: 0.3433\n",
      "Epoch 3/30\n",
      "382/382 [==============================] - 10s 27ms/step - loss: 1.7321 - accuracy: 0.6191 - categorical_accuracy: 0.6191\n",
      "Epoch 4/30\n",
      "382/382 [==============================] - 10s 27ms/step - loss: 1.1388 - accuracy: 0.7534 - categorical_accuracy: 0.7534\n",
      "Epoch 5/30\n",
      "382/382 [==============================] - 10s 27ms/step - loss: 0.8732 - accuracy: 0.8160 - categorical_accuracy: 0.8160\n",
      "Epoch 6/30\n",
      "382/382 [==============================] - 11s 28ms/step - loss: 0.6844 - accuracy: 0.8637 - categorical_accuracy: 0.8637\n",
      "Epoch 7/30\n",
      "382/382 [==============================] - 11s 29ms/step - loss: 0.5928 - accuracy: 0.8867 - categorical_accuracy: 0.8867\n",
      "Epoch 8/30\n",
      "382/382 [==============================] - 11s 28ms/step - loss: 0.5179 - accuracy: 0.8994 - categorical_accuracy: 0.8994\n",
      "Epoch 9/30\n",
      "382/382 [==============================] - 12s 30ms/step - loss: 0.4771 - accuracy: 0.9108 - categorical_accuracy: 0.9108\n",
      "Epoch 10/30\n",
      "382/382 [==============================] - 13s 35ms/step - loss: 0.4387 - accuracy: 0.9229 - categorical_accuracy: 0.9229\n",
      "Epoch 11/30\n",
      "382/382 [==============================] - 11s 29ms/step - loss: 0.4287 - accuracy: 0.9212 - categorical_accuracy: 0.9212\n",
      "Epoch 12/30\n",
      "382/382 [==============================] - 12s 32ms/step - loss: 0.3817 - accuracy: 0.9348 - categorical_accuracy: 0.9348\n",
      "Epoch 13/30\n",
      "382/382 [==============================] - 11s 29ms/step - loss: 0.3604 - accuracy: 0.9395 - categorical_accuracy: 0.9395\n",
      "Epoch 14/30\n",
      "382/382 [==============================] - 10s 27ms/step - loss: 0.3465 - accuracy: 0.9407 - categorical_accuracy: 0.9407\n",
      "Epoch 15/30\n",
      "382/382 [==============================] - 11s 29ms/step - loss: 0.3270 - accuracy: 0.9476 - categorical_accuracy: 0.9476\n",
      "Epoch 16/30\n",
      "382/382 [==============================] - 11s 28ms/step - loss: 0.3489 - accuracy: 0.9416 - categorical_accuracy: 0.9416\n",
      "Epoch 17/30\n",
      "382/382 [==============================] - 11s 28ms/step - loss: 0.3219 - accuracy: 0.9511 - categorical_accuracy: 0.9511\n",
      "Epoch 18/30\n",
      "382/382 [==============================] - 11s 28ms/step - loss: 0.2899 - accuracy: 0.9582 - categorical_accuracy: 0.9582\n",
      "Epoch 19/30\n",
      "382/382 [==============================] - 11s 28ms/step - loss: 0.3109 - accuracy: 0.9500 - categorical_accuracy: 0.9500\n",
      "Epoch 20/30\n",
      "382/382 [==============================] - 11s 28ms/step - loss: 0.3130 - accuracy: 0.9499 - categorical_accuracy: 0.9499\n",
      "Epoch 21/30\n",
      "382/382 [==============================] - 11s 28ms/step - loss: 0.2945 - accuracy: 0.9547 - categorical_accuracy: 0.9547\n",
      "Epoch 22/30\n",
      "382/382 [==============================] - 10s 27ms/step - loss: 0.2772 - accuracy: 0.9602 - categorical_accuracy: 0.9602\n",
      "Epoch 23/30\n",
      "382/382 [==============================] - 10s 27ms/step - loss: 0.2876 - accuracy: 0.9564 - categorical_accuracy: 0.9564\n",
      "Epoch 24/30\n",
      "382/382 [==============================] - 11s 28ms/step - loss: 0.2784 - accuracy: 0.9596 - categorical_accuracy: 0.9596\n",
      "Epoch 25/30\n",
      "382/382 [==============================] - 10s 27ms/step - loss: 0.2730 - accuracy: 0.9588 - categorical_accuracy: 0.9588\n",
      "Epoch 26/30\n",
      "382/382 [==============================] - 10s 27ms/step - loss: 0.2684 - accuracy: 0.9603 - categorical_accuracy: 0.9603\n",
      "Epoch 27/30\n",
      "382/382 [==============================] - 10s 27ms/step - loss: 0.2389 - accuracy: 0.9711 - categorical_accuracy: 0.9711\n",
      "Epoch 28/30\n",
      "382/382 [==============================] - 10s 27ms/step - loss: 0.2752 - accuracy: 0.9579 - categorical_accuracy: 0.9579\n",
      "Epoch 29/30\n",
      "382/382 [==============================] - 10s 27ms/step - loss: 0.2412 - accuracy: 0.9684 - categorical_accuracy: 0.9684\n",
      "Epoch 30/30\n",
      "382/382 [==============================] - 10s 27ms/step - loss: 0.2759 - accuracy: 0.9568 - categorical_accuracy: 0.9568\n"
     ]
    },
    {
     "data": {
      "text/plain": [
       "<keras.callbacks.History at 0x2c236045f10>"
      ]
     },
     "execution_count": 48,
     "metadata": {},
     "output_type": "execute_result"
    }
   ],
   "source": [
    "model.fit(X_train, y_train, epochs=30)\n",
    "# model.fit(X_train, y_train, epochs=30, callbacks=[tb_callback])"
   ]
  },
  {
   "cell_type": "code",
   "execution_count": 49,
   "metadata": {},
   "outputs": [],
   "source": [
    "MODEL_PATH = os.path.join(\"../action_recognition/models\")"
   ]
  },
  {
   "cell_type": "code",
   "execution_count": 50,
   "metadata": {},
   "outputs": [],
   "source": [
    "model.save(os.path.join(MODEL_PATH, 'model_v10_1.keras'))"
   ]
  },
  {
   "cell_type": "code",
   "execution_count": null,
   "metadata": {},
   "outputs": [],
   "source": [
    "from keras.models import load_model\n",
    "model = load_model(os.path.join(MODEL_PATH, 'model_v8_l2_1.keras'))"
   ]
  },
  {
   "cell_type": "code",
   "execution_count": null,
   "metadata": {},
   "outputs": [
    {
     "name": "stdout",
     "output_type": "stream",
     "text": [
      "Model: \"sequential_21\"\n",
      "_________________________________________________________________\n",
      " Layer (type)                Output Shape              Param #   \n",
      "=================================================================\n",
      " lstm_36 (LSTM)              (None, 20, 128)           188928    \n",
      "                                                                 \n",
      " layer_normalization_38 (Lay  (None, 20, 128)          256       \n",
      " erNormalization)                                                \n",
      "                                                                 \n",
      " dropout_30 (Dropout)        (None, 20, 128)           0         \n",
      "                                                                 \n",
      " lstm_37 (LSTM)              (None, 64)                49408     \n",
      "                                                                 \n",
      " layer_normalization_39 (Lay  (None, 64)               128       \n",
      " erNormalization)                                                \n",
      "                                                                 \n",
      " dropout_31 (Dropout)        (None, 64)                0         \n",
      "                                                                 \n",
      " dense_28 (Dense)            (None, 64)                4160      \n",
      "                                                                 \n",
      " layer_normalization_40 (Lay  (None, 64)               128       \n",
      " erNormalization)                                                \n",
      "                                                                 \n",
      " activation_10 (Activation)  (None, 64)                0         \n",
      "                                                                 \n",
      " dropout_32 (Dropout)        (None, 64)                0         \n",
      "                                                                 \n",
      " dense_29 (Dense)            (None, 122)               7930      \n",
      "                                                                 \n",
      "=================================================================\n",
      "Total params: 250,938\n",
      "Trainable params: 250,938\n",
      "Non-trainable params: 0\n",
      "_________________________________________________________________\n"
     ]
    }
   ],
   "source": [
    "model.summary()"
   ]
  },
  {
   "cell_type": "markdown",
   "metadata": {},
   "source": [
    "4. Model Testing"
   ]
  },
  {
   "cell_type": "code",
   "execution_count": null,
   "metadata": {},
   "outputs": [
    {
     "name": "stdout",
     "output_type": "stream",
     "text": [
      "96/96 [==============================] - 2s 14ms/step\n"
     ]
    }
   ],
   "source": [
    "test_results = model.predict(X_test)"
   ]
  },
  {
   "cell_type": "code",
   "execution_count": null,
   "metadata": {},
   "outputs": [],
   "source": [
    "from sklearn.metrics import multilabel_confusion_matrix, accuracy_score"
   ]
  },
  {
   "cell_type": "code",
   "execution_count": null,
   "metadata": {},
   "outputs": [],
   "source": [
    "y_actual = np.argmax(y_test, axis=1)\n",
    "y_predict = np.argmax(test_results, axis=1)"
   ]
  },
  {
   "cell_type": "code",
   "execution_count": null,
   "metadata": {},
   "outputs": [
    {
     "data": {
      "text/plain": [
       "0.9845901639344262"
      ]
     },
     "execution_count": 202,
     "metadata": {},
     "output_type": "execute_result"
    }
   ],
   "source": [
    "accuracy_score(y_actual, y_predict)"
   ]
  },
  {
   "cell_type": "code",
   "execution_count": null,
   "metadata": {},
   "outputs": [
    {
     "data": {
      "text/plain": [
       "array([[[2997,    0],\n",
       "        [   3,   25]],\n",
       "\n",
       "       [[3003,    1],\n",
       "        [   1,   20]],\n",
       "\n",
       "       [[2991,    6],\n",
       "        [   1,   27]],\n",
       "\n",
       "       [[3005,    5],\n",
       "        [   0,   15]],\n",
       "\n",
       "       [[3000,    2],\n",
       "        [   2,   21]],\n",
       "\n",
       "       [[3005,    1],\n",
       "        [   1,   18]],\n",
       "\n",
       "       [[3003,    2],\n",
       "        [   1,   19]],\n",
       "\n",
       "       [[3009,    1],\n",
       "        [   0,   15]],\n",
       "\n",
       "       [[3002,    0],\n",
       "        [   7,   16]],\n",
       "\n",
       "       [[3005,    0],\n",
       "        [   8,   12]],\n",
       "\n",
       "       [[3005,    1],\n",
       "        [   0,   19]],\n",
       "\n",
       "       [[2998,    0],\n",
       "        [   1,   26]],\n",
       "\n",
       "       [[3001,    0],\n",
       "        [  10,   14]],\n",
       "\n",
       "       [[2995,    4],\n",
       "        [   3,   23]],\n",
       "\n",
       "       [[2986,    1],\n",
       "        [   4,   34]],\n",
       "\n",
       "       [[2991,    2],\n",
       "        [   4,   28]],\n",
       "\n",
       "       [[2989,    5],\n",
       "        [   2,   29]],\n",
       "\n",
       "       [[3000,    0],\n",
       "        [   7,   18]],\n",
       "\n",
       "       [[3000,    0],\n",
       "        [   1,   24]],\n",
       "\n",
       "       [[2994,    1],\n",
       "        [   0,   30]],\n",
       "\n",
       "       [[3003,    1],\n",
       "        [   8,   13]],\n",
       "\n",
       "       [[2999,    4],\n",
       "        [   1,   21]],\n",
       "\n",
       "       [[2997,    0],\n",
       "        [   7,   21]],\n",
       "\n",
       "       [[2998,    4],\n",
       "        [   2,   21]],\n",
       "\n",
       "       [[3003,    1],\n",
       "        [   1,   20]],\n",
       "\n",
       "       [[3006,    2],\n",
       "        [   0,   17]],\n",
       "\n",
       "       [[2989,    0],\n",
       "        [  11,   25]],\n",
       "\n",
       "       [[2993,    8],\n",
       "        [   6,   18]],\n",
       "\n",
       "       [[2982,   15],\n",
       "        [   1,   27]],\n",
       "\n",
       "       [[2994,    0],\n",
       "        [   5,   26]],\n",
       "\n",
       "       [[2997,    1],\n",
       "        [  11,   16]],\n",
       "\n",
       "       [[3002,    0],\n",
       "        [   0,   23]],\n",
       "\n",
       "       [[3000,    0],\n",
       "        [   0,   25]],\n",
       "\n",
       "       [[2994,    0],\n",
       "        [   3,   28]],\n",
       "\n",
       "       [[3007,    0],\n",
       "        [   0,   18]],\n",
       "\n",
       "       [[3001,    3],\n",
       "        [   1,   20]],\n",
       "\n",
       "       [[3001,    0],\n",
       "        [   0,   24]],\n",
       "\n",
       "       [[3000,    0],\n",
       "        [   0,   25]],\n",
       "\n",
       "       [[3000,    0],\n",
       "        [   2,   23]],\n",
       "\n",
       "       [[3002,    0],\n",
       "        [   3,   20]],\n",
       "\n",
       "       [[2996,    9],\n",
       "        [  12,    8]],\n",
       "\n",
       "       [[2998,    1],\n",
       "        [   0,   26]],\n",
       "\n",
       "       [[2996,    1],\n",
       "        [   4,   24]],\n",
       "\n",
       "       [[3002,    1],\n",
       "        [   1,   21]],\n",
       "\n",
       "       [[3000,    0],\n",
       "        [   2,   23]],\n",
       "\n",
       "       [[2998,    2],\n",
       "        [   2,   23]],\n",
       "\n",
       "       [[2997,    0],\n",
       "        [   0,   28]],\n",
       "\n",
       "       [[3002,    0],\n",
       "        [   2,   21]],\n",
       "\n",
       "       [[3005,    0],\n",
       "        [   3,   17]],\n",
       "\n",
       "       [[2993,    3],\n",
       "        [   6,   23]],\n",
       "\n",
       "       [[2999,    1],\n",
       "        [   1,   24]],\n",
       "\n",
       "       [[2999,    1],\n",
       "        [   1,   24]],\n",
       "\n",
       "       [[3002,    1],\n",
       "        [   3,   19]],\n",
       "\n",
       "       [[2993,   10],\n",
       "        [   0,   22]],\n",
       "\n",
       "       [[2993,    0],\n",
       "        [   1,   31]],\n",
       "\n",
       "       [[3001,    1],\n",
       "        [   2,   21]],\n",
       "\n",
       "       [[2993,    1],\n",
       "        [   2,   29]],\n",
       "\n",
       "       [[2992,    1],\n",
       "        [   1,   31]],\n",
       "\n",
       "       [[3003,    3],\n",
       "        [   2,   17]],\n",
       "\n",
       "       [[2997,    2],\n",
       "        [   0,   26]],\n",
       "\n",
       "       [[2998,    3],\n",
       "        [   5,   19]],\n",
       "\n",
       "       [[2996,    2],\n",
       "        [   0,   27]],\n",
       "\n",
       "       [[2989,   18],\n",
       "        [   0,   18]],\n",
       "\n",
       "       [[2997,    1],\n",
       "        [   0,   27]],\n",
       "\n",
       "       [[2995,    1],\n",
       "        [   1,   28]],\n",
       "\n",
       "       [[3009,    3],\n",
       "        [   0,   13]],\n",
       "\n",
       "       [[2990,    5],\n",
       "        [   1,   29]],\n",
       "\n",
       "       [[2988,    5],\n",
       "        [   2,   30]],\n",
       "\n",
       "       [[2997,    0],\n",
       "        [   1,   27]],\n",
       "\n",
       "       [[2999,    0],\n",
       "        [   2,   24]],\n",
       "\n",
       "       [[3000,    1],\n",
       "        [   0,   24]],\n",
       "\n",
       "       [[2993,    4],\n",
       "        [   1,   27]],\n",
       "\n",
       "       [[3002,    1],\n",
       "        [   1,   21]],\n",
       "\n",
       "       [[2997,    8],\n",
       "        [   3,   17]],\n",
       "\n",
       "       [[2984,   13],\n",
       "        [   3,   25]],\n",
       "\n",
       "       [[2990,    2],\n",
       "        [   3,   30]],\n",
       "\n",
       "       [[2985,    7],\n",
       "        [   1,   32]],\n",
       "\n",
       "       [[2996,    5],\n",
       "        [   2,   22]],\n",
       "\n",
       "       [[2996,    9],\n",
       "        [   5,   15]],\n",
       "\n",
       "       [[2996,    2],\n",
       "        [   0,   27]],\n",
       "\n",
       "       [[3003,    0],\n",
       "        [   0,   22]],\n",
       "\n",
       "       [[3007,    0],\n",
       "        [   1,   17]],\n",
       "\n",
       "       [[2984,   14],\n",
       "        [  10,   17]],\n",
       "\n",
       "       [[3002,    1],\n",
       "        [   1,   21]],\n",
       "\n",
       "       [[3005,    1],\n",
       "        [   4,   15]],\n",
       "\n",
       "       [[2995,    2],\n",
       "        [   4,   24]],\n",
       "\n",
       "       [[2998,    1],\n",
       "        [   3,   23]],\n",
       "\n",
       "       [[2993,    2],\n",
       "        [   1,   29]],\n",
       "\n",
       "       [[2997,    1],\n",
       "        [   7,   20]],\n",
       "\n",
       "       [[2995,    1],\n",
       "        [   9,   20]],\n",
       "\n",
       "       [[3001,    1],\n",
       "        [   1,   22]],\n",
       "\n",
       "       [[2995,    6],\n",
       "        [   8,   16]],\n",
       "\n",
       "       [[3008,    0],\n",
       "        [   2,   15]],\n",
       "\n",
       "       [[2990,    5],\n",
       "        [   3,   27]],\n",
       "\n",
       "       [[2998,    1],\n",
       "        [   3,   23]],\n",
       "\n",
       "       [[2996,    2],\n",
       "        [   0,   27]],\n",
       "\n",
       "       [[2996,    3],\n",
       "        [   4,   22]],\n",
       "\n",
       "       [[3005,    3],\n",
       "        [   0,   17]],\n",
       "\n",
       "       [[2997,    3],\n",
       "        [   0,   25]],\n",
       "\n",
       "       [[2993,    5],\n",
       "        [   2,   25]],\n",
       "\n",
       "       [[3005,    0],\n",
       "        [   2,   18]],\n",
       "\n",
       "       [[2990,    1],\n",
       "        [   0,   34]],\n",
       "\n",
       "       [[2995,    0],\n",
       "        [   1,   29]],\n",
       "\n",
       "       [[2994,    2],\n",
       "        [   1,   28]],\n",
       "\n",
       "       [[2999,    1],\n",
       "        [   1,   24]],\n",
       "\n",
       "       [[3002,    1],\n",
       "        [   4,   18]],\n",
       "\n",
       "       [[3000,    3],\n",
       "        [   1,   21]],\n",
       "\n",
       "       [[3004,    1],\n",
       "        [   3,   17]],\n",
       "\n",
       "       [[3005,    0],\n",
       "        [   1,   19]],\n",
       "\n",
       "       [[2989,   11],\n",
       "        [   3,   22]],\n",
       "\n",
       "       [[2988,    4],\n",
       "        [   1,   32]],\n",
       "\n",
       "       [[3000,    3],\n",
       "        [   3,   19]],\n",
       "\n",
       "       [[3000,    1],\n",
       "        [   0,   24]],\n",
       "\n",
       "       [[2989,    4],\n",
       "        [  11,   21]],\n",
       "\n",
       "       [[2997,    4],\n",
       "        [   5,   19]],\n",
       "\n",
       "       [[3002,    1],\n",
       "        [   2,   20]],\n",
       "\n",
       "       [[2980,    9],\n",
       "        [   0,   36]],\n",
       "\n",
       "       [[3001,    1],\n",
       "        [   0,   23]],\n",
       "\n",
       "       [[3001,    0],\n",
       "        [   0,   24]],\n",
       "\n",
       "       [[2996,    1],\n",
       "        [   1,   27]],\n",
       "\n",
       "       [[3002,    1],\n",
       "        [   3,   19]]], dtype=int64)"
      ]
     },
     "execution_count": 43,
     "metadata": {},
     "output_type": "execute_result"
    }
   ],
   "source": [
    "multilabel_confusion_matrix(y_actual, y_predict)"
   ]
  },
  {
   "cell_type": "code",
   "execution_count": 52,
   "metadata": {},
   "outputs": [
    {
     "data": {
      "image/png": "[encoded data removed]",
      "text/plain": [
       "<Figure size 640x480 with 2 Axes>"
      ]
     },
     "metadata": {},
     "output_type": "display_data"
    }
   ],
   "source": [
    "from sklearn.metrics import ConfusionMatrixDisplay, confusion_matrix\n",
    "import matplotlib.pyplot as plt\n",
    "%matplotlib inline\n",
    "\n",
    "cm = confusion_matrix(y_actual, y_actual)\n",
    "cmDisp = ConfusionMatrixDisplay(confusion_matrix=cm)\n",
    "cmDisp.plot()\n",
    "plt.show()"
   ]
  },
  {
   "cell_type": "code",
   "execution_count": 68,
   "metadata": {},
   "outputs": [
    {
     "data": {
      "text/plain": [
       "3025"
      ]
     },
     "execution_count": 68,
     "metadata": {},
     "output_type": "execute_result"
    }
   ],
   "source": [
    "len(y_actual)"
   ]
  },
  {
   "cell_type": "code",
   "execution_count": 79,
   "metadata": {},
   "outputs": [
    {
     "data": {
      "image/png": "[encoded data removed]",
      "text/plain": [
       "<Figure size 640x480 with 2 Axes>"
      ]
     },
     "metadata": {},
     "output_type": "display_data"
    }
   ],
   "source": [
    "from sklearn.metrics import ConfusionMatrixDisplay, confusion_matrix\n",
    "import matplotlib.pyplot as plt\n",
    "%matplotlib inline\n",
    "\n",
    "test_pm = np.array([1, 2, 3, 4, 5])\n",
    "cm = confusion_matrix(y_actual, y_predict)\n",
    "cmDisp = ConfusionMatrixDisplay(confusion_matrix=cm)\n",
    "cmDisp.plot(include_values=False)\n",
    "plt.show()"
   ]
  },
  {
   "cell_type": "markdown",
   "metadata": {},
   "source": [
    "5. Saving Model Weights"
   ]
  },
  {
   "cell_type": "code",
   "execution_count": 53,
   "metadata": {},
   "outputs": [],
   "source": [
    "MODEL_PATH = os.path.join(\"../action-recognition/models\")"
   ]
  },
  {
   "cell_type": "code",
   "execution_count": 95,
   "metadata": {},
   "outputs": [],
   "source": [
    "model.save(os.path.join(MODEL_PATH, \"model_v2_float16_1.h5\"))"
   ]
  },
  {
   "cell_type": "markdown",
   "metadata": {},
   "source": [
    "# Real time test"
   ]
  },
  {
   "cell_type": "code",
   "execution_count": 29,
   "metadata": {},
   "outputs": [],
   "source": [
    "import numpy as np\n",
    "from cvzone.HandTrackingModule import HandDetector\n",
    "from cvzone.FaceDetectionModule import FaceDetector\n",
    "from cvzone.PoseModule import PoseDetector\n",
    "from concurrent.futures import ThreadPoolExecutor\n",
    "from itertools import chain\n",
    "\n",
    "class FeatureExtractionModule():\n",
    "    def __init__(self, **kwargs):\n",
    "        # Detectors\n",
    "        self.handDetector = HandDetector(detectionCon=0.5, maxHands=2)\n",
    "        self.faceDetector = FaceDetector(minDetectionCon=0.5)\n",
    "        self.poseDetector = PoseDetector(detectionCon=0.5)\n",
    "\n",
    "    def detectHands(self, handDetector, frame, frameSize, draw):\n",
    "        results = [0, 0]\n",
    "        tempResults = []\n",
    "        # Hand Detection\n",
    "        if draw:\n",
    "            tempResults, frame = handDetector.findHands(frame, draw=draw, flipType=False)\n",
    "        else:\n",
    "            tempResults = handDetector.findHands(frame, draw=draw, flipType=False)\n",
    "\n",
    "        if not tempResults:\n",
    "            results = [self.generate_empty_hand(\"Left\"), self.generate_empty_hand(\"Right\")]\n",
    "        elif len(tempResults) == 1:\n",
    "            if tempResults[0][\"type\"] == \"Left\":\n",
    "                results = [self.preprocess_body_part(tempResults[0], frameSize), self.generate_empty_hand(\"Right\")]\n",
    "            else:\n",
    "                results = [self.generate_empty_hand(\"Left\"), self.preprocess_body_part(tempResults[0], frameSize)]\n",
    "        else:\n",
    "            if tempResults[0]['type'] == 'Right' and tempResults[1]['type'] == 'Left':\n",
    "                results[0] = tempResults[1]\n",
    "                results[1] = tempResults[0]\n",
    "            elif tempResults[0]['type'] == 'Left' and tempResults[1]['type'] == 'Right':\n",
    "                results[0] = tempResults[0]\n",
    "                results[1] = tempResults[1]\n",
    "\n",
    "            # If both detected hands are both left or both right\n",
    "            elif tempResults[0]['center'][0] > tempResults[1]['center'][0]:\n",
    "                results[0] = tempResults[1]\n",
    "                results[1] = tempResults[0]\n",
    "            else:\n",
    "                results[0] = tempResults[0]\n",
    "                results[1] = tempResults[1]\n",
    "\n",
    "            results[0] = self.preprocess_body_part(results[0], frameSize)\n",
    "            results[1] = self.preprocess_body_part(results[1], frameSize)\n",
    "\n",
    "        return results\n",
    "\n",
    "    # Pose Detection\n",
    "    # **We only use the first 23 out of the total 33 landmark points\n",
    "    #   as those represent the lower half body and are irrelevant to sign language interpretation\n",
    "    def detectPose(self, poseDetector, frame, frameSize, draw):\n",
    "        frame = poseDetector.findPose(frame, draw=draw)\n",
    "        if poseDetector.results.pose_landmarks:\n",
    "            results = np.array([[i.x, i.y, i.z, i.visibility] for i in poseDetector.results.pose_landmarks.landmark[:23]])\n",
    "            return results.ravel()\n",
    "\n",
    "        # frame = poseDetector.findPose(frame, draw=draw)\n",
    "        # results, _ = poseDetector.findPosition(frame, bboxWithHands=False)\n",
    "        # print('---------------')\n",
    "        # print('e1', np.array(results)[:, -1])\n",
    "        # if results:\n",
    "        #     return np.array(results).flatten()\n",
    "        #     # return self.preprocess_landmarks(results[:23], frameSize)\n",
    "        # print('e2', results)\n",
    "        return np.zeros(92, dtype=float)\n",
    "        \n",
    "\n",
    "    # Face Detection\n",
    "    def detectFace(self, faceDetector, frame, frameSize, draw):\n",
    "        frame, results = faceDetector.findFaces(frame, draw=draw)\n",
    "        if results:\n",
    "            results = self.select_best_matching_face(results, frameSize)\n",
    "            results[\"bbox\"] = self.preprocess_bbox(results[\"bbox\"], frameSize)\n",
    "            results[\"center\"] = self.preprocess_center(results[\"center\"], frameSize)\n",
    "            return results\n",
    "\n",
    "        return {\n",
    "            \"bbox\": np.zeros(4, dtype=float),\n",
    "            \"center\": np.zeros(2, dtype=float),\n",
    "        }\n",
    "\n",
    "    # Detects hands, face & pose,\n",
    "    # convert them into normalized landmark/keypoint coordinates in a 1D-array,\n",
    "    # and also returns the frame with the landmark connections drawn onto it\n",
    "    def parallelFeatureExtraction(\n",
    "        self, handDetector, faceDetector, poseDetector, frame, draw=True\n",
    "    ):\n",
    "        frameSize = (frame.shape[1], frame.shape[0])\n",
    "        with ThreadPoolExecutor() as executor:\n",
    "            t1 = executor.submit(self.detectHands, handDetector, frame, frameSize, draw)\n",
    "            t2 = executor.submit(self.detectPose, poseDetector, frame, frameSize, draw)\n",
    "            t3 = executor.submit(self.detectFace, faceDetector, frame, frameSize, draw)\n",
    "\n",
    "            # Convert results into 1D-array\n",
    "            detectionResults = self.flatten2dList(\n",
    "                [\n",
    "                    self.flattenDetectionResult(t1.result()[0]),\n",
    "                    self.flattenDetectionResult(t1.result()[1]),\n",
    "                    t2.result(),\n",
    "                    t3.result()[\"bbox\"],\n",
    "                    t3.result()[\"center\"],\n",
    "                    t3.result()[\"center\"] - t1.result()[0][\"center\"],\n",
    "                    t3.result()[\"center\"] - t1.result()[1][\"center\"],\n",
    "                ],\n",
    "                dataType=float,\n",
    "            )\n",
    "\n",
    "            return detectionResults, frame\n",
    "\n",
    "    # Offset and normalize the landmark list\n",
    "    # Returns a 1d numpy array\n",
    "    def preprocess_landmarks(self, landmark_list, frameSize):\n",
    "        np_landmark_list = np.array(landmark_list, dtype=float)\n",
    "        np_frameSize = np.array([frameSize[0], frameSize[1], frameSize[0]])\n",
    "        return (np_landmark_list / np_frameSize).ravel()\n",
    "\n",
    "\n",
    "    # Offset and normalize a BBOX list (BBOX = Bounding Box, used in face and hand detection)\n",
    "    # Returns a 1d numpy array\n",
    "    def preprocess_bbox(self, bbox, frameSize):\n",
    "        bbox = np.array(bbox, dtype=float)\n",
    "        # Convert 3rd and 4th element into coordinates instead of width/height\n",
    "        bbox[2] = bbox[0] + bbox[2]\n",
    "        bbox[3] = bbox[1] + bbox[3]\n",
    "\n",
    "        # Normalize against frame size\n",
    "        bbox[0] /= frameSize[0]\n",
    "        bbox[1] /= frameSize[1]\n",
    "        bbox[2] /= frameSize[0]\n",
    "        bbox[3] /= frameSize[1]\n",
    "\n",
    "        return bbox\n",
    "\n",
    "\n",
    "    # Normalize a center vertex (a list of 2 elements)\n",
    "    # Returns a 1d numpy array\n",
    "    def preprocess_center(self, center, frameSize):\n",
    "        center = np.array(center, dtype=float)\n",
    "        center[0] /= frameSize[0]\n",
    "        center[1] /= frameSize[1]\n",
    "        return center\n",
    "\n",
    "\n",
    "    # Preprocess (Offset and normalize) the body's landmark list, bbox and center\n",
    "    def preprocess_body_part(self, bodyPart, frameSize):\n",
    "        bodyPart[\"lmList\"] = self.preprocess_landmarks(bodyPart[\"lmList\"], frameSize)\n",
    "        bodyPart[\"bbox\"] = self.preprocess_bbox(bodyPart[\"bbox\"], frameSize)\n",
    "        bodyPart[\"center\"] = self.preprocess_center(bodyPart[\"center\"], frameSize)\n",
    "        return bodyPart\n",
    "\n",
    "\n",
    "    # Function to generate empty/placeholder data for a hand\n",
    "    # Used when a hand is not detected in frame\n",
    "    def generate_empty_hand(self, type):\n",
    "        return {\n",
    "            \"lmList\": np.zeros(63, dtype=float),\n",
    "            \"bbox\": np.zeros(4, dtype=float),\n",
    "            \"center\": np.zeros(2, dtype=float),\n",
    "            \"type\": type,\n",
    "        }\n",
    "\n",
    "\n",
    "    # Select the best matching face, aka the one with the best score (clarity)\n",
    "    # and closest to the center of the screen\n",
    "    # Since the Neural network will be design to only accept one face\n",
    "    def select_best_matching_face(self, faces, frameSize):\n",
    "        if not faces or len(faces) == 0:\n",
    "            return False\n",
    "        elif len(faces) == 1:\n",
    "            return faces[0]\n",
    "\n",
    "        def difference(a, b):\n",
    "            return ((a[0] - b[0]) ** 2) + ((a[1] - b[1]) ** 2)\n",
    "\n",
    "        frameCenter = (frameSize[0] / 2, frameSize[1] / 2)\n",
    "\n",
    "        best_score = faces[0]\n",
    "        best_center = faces[0]\n",
    "        center_diff = difference(faces[0][\"center\"], frameCenter)\n",
    "\n",
    "        for each in faces[1:]:\n",
    "            if difference(each[\"center\"], frameCenter) < center_diff:\n",
    "                best_center = each\n",
    "            if each[\"score\"][0] > best_score[\"score\"][0]:\n",
    "                best_score = each\n",
    "\n",
    "        if best_center[\"score\"][0] > 0.5:\n",
    "            return best_center\n",
    "        return best_score\n",
    "\n",
    "    # Flatten a 2d np array into 1d array\n",
    "    def flatten2dList(self, arr, dataType=float):\n",
    "        return np.fromiter(chain.from_iterable(arr), dataType)\n",
    "\n",
    "    # Flatten everything\n",
    "    def flattenDetectionResult(self, obj):\n",
    "        return np.concatenate([obj[\"lmList\"], obj[\"bbox\"], obj[\"center\"]])\n",
    "\n",
    "\n",
    "    def extractFeatures(self, frame):\n",
    "        detectionResults, frame = self.parallelFeatureExtraction(\n",
    "            self.handDetector, self.faceDetector, self.poseDetector, frame\n",
    "        )\n",
    "\n",
    "        return detectionResults, frame\n"
   ]
  },
  {
   "cell_type": "code",
   "execution_count": 36,
   "metadata": {},
   "outputs": [
    {
     "name": "stdout",
     "output_type": "stream",
     "text": [
      "good/thank you 0.5453088\n",
      "good/thank you 0.39431232\n",
      "yesterday 0.44726172\n",
      "yesterday 0.641409\n",
      "yesterday 0.7327917\n",
      "yesterday 0.7047323\n",
      "yesterday 0.578292\n",
      "mother 0.63394314\n",
      "mother 0.86557204\n",
      "mother 0.890879\n",
      "mother 0.9656794\n",
      "eat/food 0.6803818\n",
      "eat/food 0.6010105\n",
      "yesterday 0.76682067\n",
      "yesterday 0.95206344\n",
      "drink 0.81317693\n",
      "drink 0.9022987\n",
      "eat/food 0.99397343\n",
      "eat/food 0.99637896\n",
      "good/thank you 0.8238075\n",
      "good/thank you 0.96813536\n",
      "drink 0.9983491\n",
      "yesterday 0.6701791\n",
      "drink 0.6157581\n",
      "drink 0.6130203\n",
      "yesterday 0.5311985\n",
      "drink 0.71129626\n",
      "drink 0.95320755\n",
      "mother 0.567088\n",
      "mother 0.5200517\n",
      "eat/food 0.5177579\n",
      "eat/food 0.6802523\n",
      "eat/food 0.7811697\n",
      "eat/food 0.80739003\n",
      "eat/food 0.7652826\n",
      "eat/food 0.6661614\n",
      "eat/food 0.5273912\n",
      "mother 0.47913617\n",
      "yesterday 0.9913846\n",
      "mother 0.87408274\n",
      "mother 0.87927216\n",
      "mother 0.88012975\n",
      "mother 0.875799\n",
      "mother 0.8913578\n",
      "mother 0.89892596\n",
      "mother 0.90625805\n",
      "father 0.99999845\n",
      "good/thank you 0.7617927\n",
      "eat/food 0.33489147\n",
      "drink 0.4369127\n",
      "hello 0.71510345\n",
      "hello 0.9397628\n",
      "good/thank you 0.99983656\n",
      "drink 0.9787136\n",
      "Finished\n"
     ]
    },
    {
     "name": "stderr",
     "output_type": "stream",
     "text": [
      "Traceback (most recent call last):\n",
      "  File \"C:\\Users\\USER\\AppData\\Local\\Temp\\ipykernel_17284\\2386377763.py\", line 63, in <module>\n",
      "    raise Exception(\"Finished\")\n",
      "Exception: Finished\n"
     ]
    }
   ],
   "source": [
    "import cv2\n",
    "import traceback\n",
    "from collections import deque\n",
    "from time import time\n",
    "\n",
    "cam = None\n",
    "# Read one frame from camera\n",
    "\n",
    "def readFrame():\n",
    "    success, frame = cam.read()\n",
    "    if not success: \n",
    "        raise Exception(\"No Frames Read\")\n",
    "    return cv2.flip(frame, 1)\n",
    "\n",
    "\n",
    "cam = cv2.VideoCapture(0, cv2.CAP_DSHOW)\n",
    "cam.set(cv2.CAP_PROP_FRAME_WIDTH, 1280)\n",
    "cam.set(cv2.CAP_PROP_FRAME_HEIGHT, 720)\n",
    "\n",
    "try:\n",
    "    femodule = FeatureExtractionModule()\n",
    "\n",
    "    detectionHistory = deque(maxlen=20)\n",
    "    lastPredictionTime = time()\n",
    "    predictionCooldown = 3.0\n",
    "    \n",
    "    while True:\n",
    "        # Read from camera\n",
    "        rawframe = readFrame()\n",
    "\n",
    "        frame = np.copy(rawframe)\n",
    "\n",
    "        detectionResults, frame = femodule.extractFeatures(frame)\n",
    "\n",
    "        detectionHistory.append(detectionResults)\n",
    "        if len(detectionHistory) == 20 and time() > lastPredictionTime + predictionCooldown:\n",
    "            predResult = model.predict(\n",
    "                np.expand_dims(list(detectionHistory), axis=0),\n",
    "                verbose=0,\n",
    "                workers=4,\n",
    "                use_multiprocessing=True,\n",
    "            )[0]\n",
    "            predIndex = np.argmax(predResult)\n",
    "            predLabel = action_labels[str(predIndex)]\n",
    "            predAccuracy = predResult[predIndex]\n",
    "\n",
    "            if predLabel == 'NONE':\n",
    "                lastPredictionTime = time() + 0.1\n",
    "            \n",
    "            elif predAccuracy > 0.9:\n",
    "                print(predLabel, predAccuracy)\n",
    "                lastPredictionTime = time()\n",
    "            else:\n",
    "                \n",
    "                print(predLabel, predAccuracy)\n",
    "        \n",
    "        # Show resulting frame\n",
    "        cv2.imshow(\"Sign Language Recognition Prototype\", frame)     \n",
    "\n",
    "        keyPressed = cv2.waitKey(10)\n",
    "        # Stop Program when pressed 'Esc'\n",
    "        if (keyPressed == 27):\n",
    "            raise Exception(\"Finished\")\n",
    "\n",
    "\n",
    "except Exception as e:\n",
    "    print(e)\n",
    "    traceback.print_exc()\n",
    "\n",
    "finally:\n",
    "    cam.release()\n",
    "    cv2.destroyAllWindows()\n",
    "    del femodule"
   ]
  },
  {
   "cell_type": "code",
   "execution_count": 10,
   "metadata": {},
   "outputs": [
    {
     "data": {
      "text/plain": [
       "True"
      ]
     },
     "execution_count": 10,
     "metadata": {},
     "output_type": "execute_result"
    }
   ],
   "source": [
    "a = [1,2,3]\n",
    "type(a) == list"
   ]
  },
  {
   "cell_type": "code",
   "execution_count": 11,
   "metadata": {},
   "outputs": [
    {
     "data": {
      "text/plain": [
       "'d s a'"
      ]
     },
     "execution_count": 11,
     "metadata": {},
     "output_type": "execute_result"
    }
   ],
   "source": [
    "\" \".join(\"dsa\")"
   ]
  },
  {
   "cell_type": "code",
   "execution_count": null,
   "metadata": {},
   "outputs": [],
   "source": []
  }
 ],
 "metadata": {
  "kernelspec": {
   "display_name": "Python 3",
   "language": "python",
   "name": "python3"
  },
  "language_info": {
   "codemirror_mode": {
    "name": "ipython",
    "version": 3
   },
   "file_extension": ".py",
   "mimetype": "text/x-python",
   "name": "python",
   "nbconvert_exporter": "python",
   "pygments_lexer": "ipython3",
   "version": "3.9.5"
  }
 },
 "nbformat": 4,
 "nbformat_minor": 2
}
