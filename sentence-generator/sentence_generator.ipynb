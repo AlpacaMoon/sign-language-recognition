{
 "cells": [
  {
   "cell_type": "markdown",
   "metadata": {},
   "source": [
    "# Gramformer"
   ]
  },
  {
   "cell_type": "code",
   "execution_count": 14,
   "metadata": {},
   "outputs": [
    {
     "name": "stdout",
     "output_type": "stream",
     "text": [
      "Requirement already satisfied: torch in c:\\users\\eng lip\\appdata\\local\\programs\\python\\python39\\lib\\site-packages (2.0.1)\n",
      "Requirement already satisfied: torchvision in c:\\users\\eng lip\\appdata\\local\\programs\\python\\python39\\lib\\site-packages (0.15.2)\n",
      "Requirement already satisfied: torchaudio in c:\\users\\eng lip\\appdata\\local\\programs\\python\\python39\\lib\\site-packages (2.0.2)\n",
      "Requirement already satisfied: filelock in c:\\users\\eng lip\\appdata\\local\\programs\\python\\python39\\lib\\site-packages (from torch) (3.12.2)\n",
      "Requirement already satisfied: typing-extensions in c:\\users\\eng lip\\appdata\\local\\programs\\python\\python39\\lib\\site-packages (from torch) (3.7.4.3)\n",
      "Requirement already satisfied: sympy in c:\\users\\eng lip\\appdata\\local\\programs\\python\\python39\\lib\\site-packages (from torch) (1.12)\n",
      "Requirement already satisfied: networkx in c:\\users\\eng lip\\appdata\\local\\programs\\python\\python39\\lib\\site-packages (from torch) (3.1)\n",
      "Requirement already satisfied: jinja2 in c:\\users\\eng lip\\appdata\\local\\programs\\python\\python39\\lib\\site-packages (from torch) (3.1.2)\n",
      "Requirement already satisfied: numpy in c:\\users\\eng lip\\appdata\\local\\programs\\python\\python39\\lib\\site-packages (from torchvision) (1.24.3)\n",
      "Requirement already satisfied: requests in c:\\users\\eng lip\\appdata\\local\\programs\\python\\python39\\lib\\site-packages (from torchvision) (2.28.1)\n",
      "Requirement already satisfied: pillow!=8.3.*,>=5.3.0 in c:\\users\\eng lip\\appdata\\local\\programs\\python\\python39\\lib\\site-packages (from torchvision) (9.5.0)\n",
      "Requirement already satisfied: MarkupSafe>=2.0 in c:\\users\\eng lip\\appdata\\local\\programs\\python\\python39\\lib\\site-packages (from jinja2->torch) (2.1.3)\n",
      "Requirement already satisfied: charset-normalizer<3,>=2 in c:\\users\\eng lip\\appdata\\local\\programs\\python\\python39\\lib\\site-packages (from requests->torchvision) (2.1.1)\n",
      "Requirement already satisfied: idna<4,>=2.5 in c:\\users\\eng lip\\appdata\\local\\programs\\python\\python39\\lib\\site-packages (from requests->torchvision) (2.10)\n",
      "Requirement already satisfied: urllib3<1.27,>=1.21.1 in c:\\users\\eng lip\\appdata\\local\\programs\\python\\python39\\lib\\site-packages (from requests->torchvision) (1.26.13)\n",
      "Requirement already satisfied: certifi>=2017.4.17 in c:\\users\\eng lip\\appdata\\local\\programs\\python\\python39\\lib\\site-packages (from requests->torchvision) (2022.12.7)\n",
      "Requirement already satisfied: mpmath>=0.19 in c:\\users\\eng lip\\appdata\\local\\programs\\python\\python39\\lib\\site-packages (from sympy->torch) (1.3.0)\n"
     ]
    },
    {
     "name": "stderr",
     "output_type": "stream",
     "text": [
      "\n",
      "[notice] A new release of pip is available: 23.1.2 -> 23.3.1\n",
      "[notice] To update, run: python.exe -m pip install --upgrade pip\n"
     ]
    }
   ],
   "source": [
    "# https://www.section.io/engineering-education/building-a-grammar-correction-python-app-with-gramformer-and-gradio/\n",
    "# https://github.com/myint/language-check\n",
    "! pip install torch torchvision torchaudio"
   ]
  },
  {
   "cell_type": "code",
   "execution_count": 24,
   "metadata": {},
   "outputs": [
    {
     "name": "stderr",
     "output_type": "stream",
     "text": [
      "  Running command git clone --filter=blob:none --quiet https://github.com/PrithivirajDamodaran/Gramformer.git 'C:\\Users\\Eng Lip\\AppData\\Local\\Temp\\pip-req-build-g8z4k9tr'\n",
      "\n",
      "[notice] A new release of pip is available: 23.1.2 -> 23.3.1\n",
      "[notice] To update, run: python.exe -m pip install --upgrade pip\n"
     ]
    },
    {
     "name": "stdout",
     "output_type": "stream",
     "text": [
      "Collecting git+https://github.com/PrithivirajDamodaran/Gramformer.git\n",
      "  Cloning https://github.com/PrithivirajDamodaran/Gramformer.git to c:\\users\\eng lip\\appdata\\local\\temp\\pip-req-build-g8z4k9tr\n",
      "  Resolved https://github.com/PrithivirajDamodaran/Gramformer.git to commit 23425cd2e98a919384cab6156af8adf1c9d0639a\n",
      "  Preparing metadata (setup.py): started\n",
      "  Preparing metadata (setup.py): finished with status 'done'\n",
      "Requirement already satisfied: transformers in c:\\users\\eng lip\\appdata\\local\\programs\\python\\python39\\lib\\site-packages (from gramformer==1.0) (4.34.1)\n",
      "Requirement already satisfied: sentencepiece in c:\\users\\eng lip\\appdata\\local\\programs\\python\\python39\\lib\\site-packages (from gramformer==1.0) (0.1.99)\n",
      "Requirement already satisfied: python-Levenshtein in c:\\users\\eng lip\\appdata\\local\\programs\\python\\python39\\lib\\site-packages (from gramformer==1.0) (0.21.1)\n",
      "Requirement already satisfied: fuzzywuzzy in c:\\users\\eng lip\\appdata\\local\\programs\\python\\python39\\lib\\site-packages (from gramformer==1.0) (0.18.0)\n",
      "Requirement already satisfied: tokenizers in c:\\users\\eng lip\\appdata\\local\\programs\\python\\python39\\lib\\site-packages (from gramformer==1.0) (0.14.1)\n",
      "Requirement already satisfied: fsspec in c:\\users\\eng lip\\appdata\\local\\programs\\python\\python39\\lib\\site-packages (from gramformer==1.0) (2023.6.0)\n",
      "Requirement already satisfied: errant in c:\\users\\eng lip\\appdata\\local\\programs\\python\\python39\\lib\\site-packages (from gramformer==1.0) (2.3.3)\n",
      "Requirement already satisfied: spacy<3,>=2.2.0 in c:\\users\\eng lip\\appdata\\local\\programs\\python\\python39\\lib\\site-packages (from errant->gramformer==1.0) (2.3.9)\n",
      "Requirement already satisfied: rapidfuzz>=2.0.0 in c:\\users\\eng lip\\appdata\\local\\programs\\python\\python39\\lib\\site-packages (from errant->gramformer==1.0) (3.1.1)\n",
      "Requirement already satisfied: Levenshtein==0.21.1 in c:\\users\\eng lip\\appdata\\local\\programs\\python\\python39\\lib\\site-packages (from python-Levenshtein->gramformer==1.0) (0.21.1)\n",
      "Requirement already satisfied: huggingface_hub<0.18,>=0.16.4 in c:\\users\\eng lip\\appdata\\local\\programs\\python\\python39\\lib\\site-packages (from tokenizers->gramformer==1.0) (0.16.4)\n",
      "Requirement already satisfied: filelock in c:\\users\\eng lip\\appdata\\local\\programs\\python\\python39\\lib\\site-packages (from transformers->gramformer==1.0) (3.12.2)\n",
      "Requirement already satisfied: numpy>=1.17 in c:\\users\\eng lip\\appdata\\local\\programs\\python\\python39\\lib\\site-packages (from transformers->gramformer==1.0) (1.24.3)\n",
      "Requirement already satisfied: packaging>=20.0 in c:\\users\\eng lip\\appdata\\roaming\\python\\python39\\site-packages (from transformers->gramformer==1.0) (23.1)\n",
      "Requirement already satisfied: pyyaml>=5.1 in c:\\users\\eng lip\\appdata\\local\\programs\\python\\python39\\lib\\site-packages (from transformers->gramformer==1.0) (6.0)\n",
      "Requirement already satisfied: regex!=2019.12.17 in c:\\users\\eng lip\\appdata\\local\\programs\\python\\python39\\lib\\site-packages (from transformers->gramformer==1.0) (2023.6.3)\n",
      "Requirement already satisfied: requests in c:\\users\\eng lip\\appdata\\local\\programs\\python\\python39\\lib\\site-packages (from transformers->gramformer==1.0) (2.28.1)\n",
      "Requirement already satisfied: safetensors>=0.3.1 in c:\\users\\eng lip\\appdata\\local\\programs\\python\\python39\\lib\\site-packages (from transformers->gramformer==1.0) (0.4.0)\n",
      "Requirement already satisfied: tqdm>=4.27 in c:\\users\\eng lip\\appdata\\local\\programs\\python\\python39\\lib\\site-packages (from transformers->gramformer==1.0) (4.64.1)\n",
      "Requirement already satisfied: typing-extensions>=3.7.4.3 in c:\\users\\eng lip\\appdata\\local\\programs\\python\\python39\\lib\\site-packages (from huggingface_hub<0.18,>=0.16.4->tokenizers->gramformer==1.0) (3.7.4.3)\n",
      "Requirement already satisfied: murmurhash<1.1.0,>=0.28.0 in c:\\users\\eng lip\\appdata\\local\\programs\\python\\python39\\lib\\site-packages (from spacy<3,>=2.2.0->errant->gramformer==1.0) (1.0.9)\n",
      "Requirement already satisfied: cymem<2.1.0,>=2.0.2 in c:\\users\\eng lip\\appdata\\local\\programs\\python\\python39\\lib\\site-packages (from spacy<3,>=2.2.0->errant->gramformer==1.0) (2.0.7)\n",
      "Requirement already satisfied: preshed<3.1.0,>=3.0.2 in c:\\users\\eng lip\\appdata\\local\\programs\\python\\python39\\lib\\site-packages (from spacy<3,>=2.2.0->errant->gramformer==1.0) (3.0.8)\n",
      "Requirement already satisfied: thinc<7.5.0,>=7.4.1 in c:\\users\\eng lip\\appdata\\local\\programs\\python\\python39\\lib\\site-packages (from spacy<3,>=2.2.0->errant->gramformer==1.0) (7.4.6)\n",
      "Requirement already satisfied: blis<0.8.0,>=0.4.0 in c:\\users\\eng lip\\appdata\\local\\programs\\python\\python39\\lib\\site-packages (from spacy<3,>=2.2.0->errant->gramformer==1.0) (0.7.9)\n",
      "Requirement already satisfied: wasabi<1.1.0,>=0.4.0 in c:\\users\\eng lip\\appdata\\local\\programs\\python\\python39\\lib\\site-packages (from spacy<3,>=2.2.0->errant->gramformer==1.0) (0.10.1)\n",
      "Requirement already satisfied: srsly<1.1.0,>=1.0.2 in c:\\users\\eng lip\\appdata\\local\\programs\\python\\python39\\lib\\site-packages (from spacy<3,>=2.2.0->errant->gramformer==1.0) (1.0.7)\n",
      "Requirement already satisfied: catalogue<1.1.0,>=0.0.7 in c:\\users\\eng lip\\appdata\\local\\programs\\python\\python39\\lib\\site-packages (from spacy<3,>=2.2.0->errant->gramformer==1.0) (1.0.2)\n",
      "Requirement already satisfied: setuptools in c:\\users\\eng lip\\appdata\\local\\programs\\python\\python39\\lib\\site-packages (from spacy<3,>=2.2.0->errant->gramformer==1.0) (65.6.3)\n",
      "Requirement already satisfied: plac<1.2.0,>=0.9.6 in c:\\users\\eng lip\\appdata\\local\\programs\\python\\python39\\lib\\site-packages (from spacy<3,>=2.2.0->errant->gramformer==1.0) (1.1.3)\n",
      "Requirement already satisfied: charset-normalizer<3,>=2 in c:\\users\\eng lip\\appdata\\local\\programs\\python\\python39\\lib\\site-packages (from requests->transformers->gramformer==1.0) (2.1.1)\n",
      "Requirement already satisfied: idna<4,>=2.5 in c:\\users\\eng lip\\appdata\\local\\programs\\python\\python39\\lib\\site-packages (from requests->transformers->gramformer==1.0) (2.10)\n",
      "Requirement already satisfied: urllib3<1.27,>=1.21.1 in c:\\users\\eng lip\\appdata\\local\\programs\\python\\python39\\lib\\site-packages (from requests->transformers->gramformer==1.0) (1.26.13)\n",
      "Requirement already satisfied: certifi>=2017.4.17 in c:\\users\\eng lip\\appdata\\local\\programs\\python\\python39\\lib\\site-packages (from requests->transformers->gramformer==1.0) (2022.12.7)\n",
      "Requirement already satisfied: colorama in c:\\users\\eng lip\\appdata\\local\\programs\\python\\python39\\lib\\site-packages (from tqdm>=4.27->transformers->gramformer==1.0) (0.4.4)\n",
      "Collecting en_core_web_sm==2.3.1\n",
      "  Using cached en_core_web_sm-2.3.1-py3-none-any.whl\n",
      "Requirement already satisfied: spacy<2.4.0,>=2.3.0 in c:\\users\\eng lip\\appdata\\local\\programs\\python\\python39\\lib\\site-packages (from en_core_web_sm==2.3.1) (2.3.9)\n",
      "Requirement already satisfied: murmurhash<1.1.0,>=0.28.0 in c:\\users\\eng lip\\appdata\\local\\programs\\python\\python39\\lib\\site-packages (from spacy<2.4.0,>=2.3.0->en_core_web_sm==2.3.1) (1.0.9)\n",
      "Requirement already satisfied: cymem<2.1.0,>=2.0.2 in c:\\users\\eng lip\\appdata\\local\\programs\\python\\python39\\lib\\site-packages (from spacy<2.4.0,>=2.3.0->en_core_web_sm==2.3.1) (2.0.7)\n",
      "Requirement already satisfied: preshed<3.1.0,>=3.0.2 in c:\\users\\eng lip\\appdata\\local\\programs\\python\\python39\\lib\\site-packages (from spacy<2.4.0,>=2.3.0->en_core_web_sm==2.3.1) (3.0.8)\n",
      "Requirement already satisfied: thinc<7.5.0,>=7.4.1 in c:\\users\\eng lip\\appdata\\local\\programs\\python\\python39\\lib\\site-packages (from spacy<2.4.0,>=2.3.0->en_core_web_sm==2.3.1) (7.4.6)\n",
      "Requirement already satisfied: blis<0.8.0,>=0.4.0 in c:\\users\\eng lip\\appdata\\local\\programs\\python\\python39\\lib\\site-packages (from spacy<2.4.0,>=2.3.0->en_core_web_sm==2.3.1) (0.7.9)\n",
      "Requirement already satisfied: wasabi<1.1.0,>=0.4.0 in c:\\users\\eng lip\\appdata\\local\\programs\\python\\python39\\lib\\site-packages (from spacy<2.4.0,>=2.3.0->en_core_web_sm==2.3.1) (0.10.1)\n",
      "Requirement already satisfied: srsly<1.1.0,>=1.0.2 in c:\\users\\eng lip\\appdata\\local\\programs\\python\\python39\\lib\\site-packages (from spacy<2.4.0,>=2.3.0->en_core_web_sm==2.3.1) (1.0.7)\n",
      "Requirement already satisfied: catalogue<1.1.0,>=0.0.7 in c:\\users\\eng lip\\appdata\\local\\programs\\python\\python39\\lib\\site-packages (from spacy<2.4.0,>=2.3.0->en_core_web_sm==2.3.1) (1.0.2)\n",
      "Requirement already satisfied: tqdm<5.0.0,>=4.38.0 in c:\\users\\eng lip\\appdata\\local\\programs\\python\\python39\\lib\\site-packages (from spacy<2.4.0,>=2.3.0->en_core_web_sm==2.3.1) (4.64.1)\n",
      "Requirement already satisfied: setuptools in c:\\users\\eng lip\\appdata\\local\\programs\\python\\python39\\lib\\site-packages (from spacy<2.4.0,>=2.3.0->en_core_web_sm==2.3.1) (65.6.3)\n",
      "Requirement already satisfied: numpy>=1.15.0 in c:\\users\\eng lip\\appdata\\local\\programs\\python\\python39\\lib\\site-packages (from spacy<2.4.0,>=2.3.0->en_core_web_sm==2.3.1) (1.24.3)\n",
      "Requirement already satisfied: plac<1.2.0,>=0.9.6 in c:\\users\\eng lip\\appdata\\local\\programs\\python\\python39\\lib\\site-packages (from spacy<2.4.0,>=2.3.0->en_core_web_sm==2.3.1) (1.1.3)\n",
      "Requirement already satisfied: requests<3.0.0,>=2.13.0 in c:\\users\\eng lip\\appdata\\local\\programs\\python\\python39\\lib\\site-packages (from spacy<2.4.0,>=2.3.0->en_core_web_sm==2.3.1) (2.28.1)\n",
      "Requirement already satisfied: charset-normalizer<3,>=2 in c:\\users\\eng lip\\appdata\\local\\programs\\python\\python39\\lib\\site-packages (from requests<3.0.0,>=2.13.0->spacy<2.4.0,>=2.3.0->en_core_web_sm==2.3.1) (2.1.1)\n",
      "Requirement already satisfied: idna<4,>=2.5 in c:\\users\\eng lip\\appdata\\local\\programs\\python\\python39\\lib\\site-packages (from requests<3.0.0,>=2.13.0->spacy<2.4.0,>=2.3.0->en_core_web_sm==2.3.1) (2.10)\n",
      "Requirement already satisfied: urllib3<1.27,>=1.21.1 in c:\\users\\eng lip\\appdata\\local\\programs\\python\\python39\\lib\\site-packages (from requests<3.0.0,>=2.13.0->spacy<2.4.0,>=2.3.0->en_core_web_sm==2.3.1) (1.26.13)\n",
      "Requirement already satisfied: certifi>=2017.4.17 in c:\\users\\eng lip\\appdata\\local\\programs\\python\\python39\\lib\\site-packages (from requests<3.0.0,>=2.13.0->spacy<2.4.0,>=2.3.0->en_core_web_sm==2.3.1) (2022.12.7)\n",
      "Requirement already satisfied: colorama in c:\\users\\eng lip\\appdata\\local\\programs\\python\\python39\\lib\\site-packages (from tqdm<5.0.0,>=4.38.0->spacy<2.4.0,>=2.3.0->en_core_web_sm==2.3.1) (0.4.4)\n",
      "✔ Download and installation successful\n",
      "You can now load the model via spacy.load('en_core_web_sm')\n",
      "symbolic link created for c:\\Users\\Eng Lip\\AppData\\Local\\Programs\\Python\\Python39\\lib\\site-packages\\spacy\\data\\en <<===>> c:\\Users\\Eng Lip\\AppData\\Local\\Programs\\Python\\Python39\\lib\\site-packages\\en_core_web_sm\n",
      "✔ Linking successful\n",
      "c:\\Users\\Eng\n",
      "Lip\\AppData\\Local\\Programs\\Python\\Python39\\lib\\site-packages\\en_core_web_sm -->\n",
      "c:\\Users\\Eng\n",
      "Lip\\AppData\\Local\\Programs\\Python\\Python39\\lib\\site-packages\\spacy\\data\\en\n",
      "You can now load the model via spacy.load('en')\n"
     ]
    },
    {
     "name": "stderr",
     "output_type": "stream",
     "text": [
      "DEPRECATION: https://github.com/explosion/spacy-models/releases/download/en_core_web_sm-2.3.1/en_core_web_sm-2.3.1.tar.gz#egg=en_core_web_sm==2.3.1 contains an egg fragment with a non-PEP 508 name pip 25.0 will enforce this behaviour change. A possible replacement is to use the req @ url syntax, and remove the egg fragment. Discussion can be found at https://github.com/pypa/pip/issues/11617\n",
      "\n",
      "[notice] A new release of pip is available: 23.1.2 -> 23.3.1\n",
      "[notice] To update, run: python.exe -m pip install --upgrade pip\n"
     ]
    }
   ],
   "source": [
    "! pip install -U git+https://github.com/PrithivirajDamodaran/Gramformer.git\n",
    "! python -m spacy download en"
   ]
  },
  {
   "cell_type": "code",
   "execution_count": 1,
   "metadata": {},
   "outputs": [],
   "source": [
    "from gramformer import Gramformer"
   ]
  },
  {
   "cell_type": "code",
   "execution_count": 2,
   "metadata": {},
   "outputs": [
    {
     "name": "stderr",
     "output_type": "stream",
     "text": [
      "c:\\Users\\Eng Lip\\AppData\\Local\\Programs\\Python\\Python39\\lib\\site-packages\\tqdm\\auto.py:22: TqdmWarning: IProgress not found. Please update jupyter and ipywidgets. See https://ipywidgets.readthedocs.io/en/stable/user_install.html\n",
      "  from .autonotebook import tqdm as notebook_tqdm\n",
      "c:\\Users\\Eng Lip\\AppData\\Local\\Programs\\Python\\Python39\\lib\\site-packages\\transformers\\models\\auto\\tokenization_auto.py:655: FutureWarning: The `use_auth_token` argument is deprecated and will be removed in v5 of Transformers.\n",
      "  warnings.warn(\n",
      "c:\\Users\\Eng Lip\\AppData\\Local\\Programs\\Python\\Python39\\lib\\site-packages\\transformers\\models\\auto\\auto_factory.py:472: FutureWarning: The `use_auth_token` argument is deprecated and will be removed in v5 of Transformers.\n",
      "  warnings.warn(\n",
      "c:\\Users\\Eng Lip\\AppData\\Local\\Programs\\Python\\Python39\\lib\\site-packages\\transformers\\utils\\hub.py:374: FutureWarning: The `use_auth_token` argument is deprecated and will be removed in v5 of Transformers.\n",
      "  warnings.warn(\n"
     ]
    },
    {
     "name": "stdout",
     "output_type": "stream",
     "text": [
      "[Gramformer] Grammar error correct/highlight model loaded..\n"
     ]
    }
   ],
   "source": [
    "gf = Gramformer(models=1, use_gpu=False)"
   ]
  },
  {
   "cell_type": "code",
   "execution_count": 21,
   "metadata": {},
   "outputs": [
    {
     "data": {
      "text/plain": [
       "{'Play playground.'}"
      ]
     },
     "execution_count": 21,
     "metadata": {},
     "output_type": "execute_result"
    }
   ],
   "source": [
    "# gf.correct('My name are Eng Lip')\n",
    "gf.correct('I play playground')"
   ]
  },
  {
   "cell_type": "markdown",
   "metadata": {},
   "source": [
    "## If got internet connection GPT"
   ]
  },
  {
   "cell_type": "code",
   "execution_count": null,
   "metadata": {},
   "outputs": [],
   "source": []
  },
  {
   "cell_type": "markdown",
   "metadata": {},
   "source": [
    "## Language Check"
   ]
  },
  {
   "cell_type": "code",
   "execution_count": 5,
   "metadata": {},
   "outputs": [
    {
     "name": "stdout",
     "output_type": "stream",
     "text": [
      "Collecting language-check\n",
      "  Using cached language-check-1.1.tar.gz (33 kB)\n",
      "  Preparing metadata (setup.py): started\n",
      "  Preparing metadata (setup.py): finished with status 'done'\n",
      "Building wheels for collected packages: language-check\n",
      "  Building wheel for language-check (setup.py): started\n",
      "  Building wheel for language-check (setup.py): finished with status 'error'\n",
      "  Running setup.py clean for language-check\n",
      "Failed to build language-check\n"
     ]
    },
    {
     "name": "stderr",
     "output_type": "stream",
     "text": [
      "  error: subprocess-exited-with-error\n",
      "  \n",
      "  × python setup.py bdist_wheel did not run successfully.\n",
      "  │ exit code: 1\n",
      "  ╰─> [4 lines of output]\n",
      "      Could not parse Java version from \"\"\"java version \"21.0.1\" 2023-10-17 LTS\n",
      "      Java(TM) SE Runtime Environment (build 21.0.1+12-LTS-29)\n",
      "      Java HotSpot(TM) 64-Bit Server VM (build 21.0.1+12-LTS-29, mixed mode, sharing)\n",
      "      \"\"\".\n",
      "      [end of output]\n",
      "  \n",
      "  note: This error originates from a subprocess, and is likely not a problem with pip.\n",
      "  ERROR: Failed building wheel for language-check\n",
      "ERROR: Could not build wheels for language-check, which is required to install pyproject.toml-based projects\n",
      "\n",
      "[notice] A new release of pip is available: 23.1.2 -> 23.3.1\n",
      "[notice] To update, run: python.exe -m pip install --upgrade pip\n"
     ]
    }
   ],
   "source": [
    "! pip install language-check"
   ]
  },
  {
   "cell_type": "code",
   "execution_count": 6,
   "metadata": {},
   "outputs": [
    {
     "ename": "ModuleNotFoundError",
     "evalue": "No module named 'language_check'",
     "output_type": "error",
     "traceback": [
      "\u001b[1;31m---------------------------------------------------------------------------\u001b[0m",
      "\u001b[1;31mModuleNotFoundError\u001b[0m                       Traceback (most recent call last)",
      "\u001b[1;32me:\\FYP\\Program\\sign-language-recognition\\sentence-generator\\generator.ipynb Cell 9\u001b[0m line \u001b[0;36m1\n\u001b[1;32m----> <a href='vscode-notebook-cell:/e%3A/FYP/Program/sign-language-recognition/sentence-generator/generator.ipynb#X11sZmlsZQ%3D%3D?line=0'>1</a>\u001b[0m \u001b[39mimport\u001b[39;00m \u001b[39mlanguage_check\u001b[39;00m\n",
      "\u001b[1;31mModuleNotFoundError\u001b[0m: No module named 'language_check'"
     ]
    }
   ],
   "source": [
    "import language_check"
   ]
  }
 ],
 "metadata": {
  "kernelspec": {
   "display_name": "Python 3",
   "language": "python",
   "name": "python3"
  },
  "language_info": {
   "codemirror_mode": {
    "name": "ipython",
    "version": 3
   },
   "file_extension": ".py",
   "mimetype": "text/x-python",
   "name": "python",
   "nbconvert_exporter": "python",
   "pygments_lexer": "ipython3",
   "version": "3.9.6"
  }
 },
 "nbformat": 4,
 "nbformat_minor": 2
}
